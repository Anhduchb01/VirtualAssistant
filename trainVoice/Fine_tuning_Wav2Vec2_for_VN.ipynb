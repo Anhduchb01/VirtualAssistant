{
  "nbformat": 4,
  "nbformat_minor": 0,
  "metadata": {
    "colab": {
      "provenance": [],
      "machine_shape": "hm"
    },
    "kernelspec": {
      "name": "python3",
      "display_name": "Python 3"
    },
    "widgets": {
      "application/vnd.jupyter.widget-state+json": {
        "e6f05cbb4b6b45efa77b4162f677475c": {
          "model_module": "@jupyter-widgets/controls",
          "model_name": "HBoxModel",
          "model_module_version": "1.5.0",
          "state": {
            "_dom_classes": [],
            "_model_module": "@jupyter-widgets/controls",
            "_model_module_version": "1.5.0",
            "_model_name": "HBoxModel",
            "_view_count": null,
            "_view_module": "@jupyter-widgets/controls",
            "_view_module_version": "1.5.0",
            "_view_name": "HBoxView",
            "box_style": "",
            "children": [
              "IPY_MODEL_3dd56677cd494a73ad5dfac9d81d56c7",
              "IPY_MODEL_7fb76128f61f4d308985f13345c18330",
              "IPY_MODEL_ddeb03b99d644aa38c0066de43bb4b91"
            ],
            "layout": "IPY_MODEL_058b8d3f529d483ba5e50e3d552cc627"
          }
        },
        "3dd56677cd494a73ad5dfac9d81d56c7": {
          "model_module": "@jupyter-widgets/controls",
          "model_name": "HTMLModel",
          "model_module_version": "1.5.0",
          "state": {
            "_dom_classes": [],
            "_model_module": "@jupyter-widgets/controls",
            "_model_module_version": "1.5.0",
            "_model_name": "HTMLModel",
            "_view_count": null,
            "_view_module": "@jupyter-widgets/controls",
            "_view_module_version": "1.5.0",
            "_view_name": "HTMLView",
            "description": "",
            "description_tooltip": null,
            "layout": "IPY_MODEL_0111dff8990840f99cc6e96eb50b0d2d",
            "placeholder": "​",
            "style": "IPY_MODEL_19771f90d80c4d0bb6dc65720bb86bc4",
            "value": "100%"
          }
        },
        "7fb76128f61f4d308985f13345c18330": {
          "model_module": "@jupyter-widgets/controls",
          "model_name": "FloatProgressModel",
          "model_module_version": "1.5.0",
          "state": {
            "_dom_classes": [],
            "_model_module": "@jupyter-widgets/controls",
            "_model_module_version": "1.5.0",
            "_model_name": "FloatProgressModel",
            "_view_count": null,
            "_view_module": "@jupyter-widgets/controls",
            "_view_module_version": "1.5.0",
            "_view_name": "ProgressView",
            "bar_style": "success",
            "description": "",
            "description_tooltip": null,
            "layout": "IPY_MODEL_2efe85bb9aba40289cc9d519ffbf1a5b",
            "max": 2,
            "min": 0,
            "orientation": "horizontal",
            "style": "IPY_MODEL_e00387b4c2354827a463b5d68f4290db",
            "value": 2
          }
        },
        "ddeb03b99d644aa38c0066de43bb4b91": {
          "model_module": "@jupyter-widgets/controls",
          "model_name": "HTMLModel",
          "model_module_version": "1.5.0",
          "state": {
            "_dom_classes": [],
            "_model_module": "@jupyter-widgets/controls",
            "_model_module_version": "1.5.0",
            "_model_name": "HTMLModel",
            "_view_count": null,
            "_view_module": "@jupyter-widgets/controls",
            "_view_module_version": "1.5.0",
            "_view_name": "HTMLView",
            "description": "",
            "description_tooltip": null,
            "layout": "IPY_MODEL_91e9bef9c0994e33a292c09bea2d61c9",
            "placeholder": "​",
            "style": "IPY_MODEL_da8fefbc184a4ce18a85edae78a5b7bf",
            "value": " 2/2 [00:00&lt;00:00, 79.31it/s]"
          }
        },
        "058b8d3f529d483ba5e50e3d552cc627": {
          "model_module": "@jupyter-widgets/base",
          "model_name": "LayoutModel",
          "model_module_version": "1.2.0",
          "state": {
            "_model_module": "@jupyter-widgets/base",
            "_model_module_version": "1.2.0",
            "_model_name": "LayoutModel",
            "_view_count": null,
            "_view_module": "@jupyter-widgets/base",
            "_view_module_version": "1.2.0",
            "_view_name": "LayoutView",
            "align_content": null,
            "align_items": null,
            "align_self": null,
            "border": null,
            "bottom": null,
            "display": null,
            "flex": null,
            "flex_flow": null,
            "grid_area": null,
            "grid_auto_columns": null,
            "grid_auto_flow": null,
            "grid_auto_rows": null,
            "grid_column": null,
            "grid_gap": null,
            "grid_row": null,
            "grid_template_areas": null,
            "grid_template_columns": null,
            "grid_template_rows": null,
            "height": null,
            "justify_content": null,
            "justify_items": null,
            "left": null,
            "margin": null,
            "max_height": null,
            "max_width": null,
            "min_height": null,
            "min_width": null,
            "object_fit": null,
            "object_position": null,
            "order": null,
            "overflow": null,
            "overflow_x": null,
            "overflow_y": null,
            "padding": null,
            "right": null,
            "top": null,
            "visibility": null,
            "width": null
          }
        },
        "0111dff8990840f99cc6e96eb50b0d2d": {
          "model_module": "@jupyter-widgets/base",
          "model_name": "LayoutModel",
          "model_module_version": "1.2.0",
          "state": {
            "_model_module": "@jupyter-widgets/base",
            "_model_module_version": "1.2.0",
            "_model_name": "LayoutModel",
            "_view_count": null,
            "_view_module": "@jupyter-widgets/base",
            "_view_module_version": "1.2.0",
            "_view_name": "LayoutView",
            "align_content": null,
            "align_items": null,
            "align_self": null,
            "border": null,
            "bottom": null,
            "display": null,
            "flex": null,
            "flex_flow": null,
            "grid_area": null,
            "grid_auto_columns": null,
            "grid_auto_flow": null,
            "grid_auto_rows": null,
            "grid_column": null,
            "grid_gap": null,
            "grid_row": null,
            "grid_template_areas": null,
            "grid_template_columns": null,
            "grid_template_rows": null,
            "height": null,
            "justify_content": null,
            "justify_items": null,
            "left": null,
            "margin": null,
            "max_height": null,
            "max_width": null,
            "min_height": null,
            "min_width": null,
            "object_fit": null,
            "object_position": null,
            "order": null,
            "overflow": null,
            "overflow_x": null,
            "overflow_y": null,
            "padding": null,
            "right": null,
            "top": null,
            "visibility": null,
            "width": null
          }
        },
        "19771f90d80c4d0bb6dc65720bb86bc4": {
          "model_module": "@jupyter-widgets/controls",
          "model_name": "DescriptionStyleModel",
          "model_module_version": "1.5.0",
          "state": {
            "_model_module": "@jupyter-widgets/controls",
            "_model_module_version": "1.5.0",
            "_model_name": "DescriptionStyleModel",
            "_view_count": null,
            "_view_module": "@jupyter-widgets/base",
            "_view_module_version": "1.2.0",
            "_view_name": "StyleView",
            "description_width": ""
          }
        },
        "2efe85bb9aba40289cc9d519ffbf1a5b": {
          "model_module": "@jupyter-widgets/base",
          "model_name": "LayoutModel",
          "model_module_version": "1.2.0",
          "state": {
            "_model_module": "@jupyter-widgets/base",
            "_model_module_version": "1.2.0",
            "_model_name": "LayoutModel",
            "_view_count": null,
            "_view_module": "@jupyter-widgets/base",
            "_view_module_version": "1.2.0",
            "_view_name": "LayoutView",
            "align_content": null,
            "align_items": null,
            "align_self": null,
            "border": null,
            "bottom": null,
            "display": null,
            "flex": null,
            "flex_flow": null,
            "grid_area": null,
            "grid_auto_columns": null,
            "grid_auto_flow": null,
            "grid_auto_rows": null,
            "grid_column": null,
            "grid_gap": null,
            "grid_row": null,
            "grid_template_areas": null,
            "grid_template_columns": null,
            "grid_template_rows": null,
            "height": null,
            "justify_content": null,
            "justify_items": null,
            "left": null,
            "margin": null,
            "max_height": null,
            "max_width": null,
            "min_height": null,
            "min_width": null,
            "object_fit": null,
            "object_position": null,
            "order": null,
            "overflow": null,
            "overflow_x": null,
            "overflow_y": null,
            "padding": null,
            "right": null,
            "top": null,
            "visibility": null,
            "width": null
          }
        },
        "e00387b4c2354827a463b5d68f4290db": {
          "model_module": "@jupyter-widgets/controls",
          "model_name": "ProgressStyleModel",
          "model_module_version": "1.5.0",
          "state": {
            "_model_module": "@jupyter-widgets/controls",
            "_model_module_version": "1.5.0",
            "_model_name": "ProgressStyleModel",
            "_view_count": null,
            "_view_module": "@jupyter-widgets/base",
            "_view_module_version": "1.2.0",
            "_view_name": "StyleView",
            "bar_color": null,
            "description_width": ""
          }
        },
        "91e9bef9c0994e33a292c09bea2d61c9": {
          "model_module": "@jupyter-widgets/base",
          "model_name": "LayoutModel",
          "model_module_version": "1.2.0",
          "state": {
            "_model_module": "@jupyter-widgets/base",
            "_model_module_version": "1.2.0",
            "_model_name": "LayoutModel",
            "_view_count": null,
            "_view_module": "@jupyter-widgets/base",
            "_view_module_version": "1.2.0",
            "_view_name": "LayoutView",
            "align_content": null,
            "align_items": null,
            "align_self": null,
            "border": null,
            "bottom": null,
            "display": null,
            "flex": null,
            "flex_flow": null,
            "grid_area": null,
            "grid_auto_columns": null,
            "grid_auto_flow": null,
            "grid_auto_rows": null,
            "grid_column": null,
            "grid_gap": null,
            "grid_row": null,
            "grid_template_areas": null,
            "grid_template_columns": null,
            "grid_template_rows": null,
            "height": null,
            "justify_content": null,
            "justify_items": null,
            "left": null,
            "margin": null,
            "max_height": null,
            "max_width": null,
            "min_height": null,
            "min_width": null,
            "object_fit": null,
            "object_position": null,
            "order": null,
            "overflow": null,
            "overflow_x": null,
            "overflow_y": null,
            "padding": null,
            "right": null,
            "top": null,
            "visibility": null,
            "width": null
          }
        },
        "da8fefbc184a4ce18a85edae78a5b7bf": {
          "model_module": "@jupyter-widgets/controls",
          "model_name": "DescriptionStyleModel",
          "model_module_version": "1.5.0",
          "state": {
            "_model_module": "@jupyter-widgets/controls",
            "_model_module_version": "1.5.0",
            "_model_name": "DescriptionStyleModel",
            "_view_count": null,
            "_view_module": "@jupyter-widgets/base",
            "_view_module_version": "1.2.0",
            "_view_name": "StyleView",
            "description_width": ""
          }
        },
        "96f02b52fde5431481adf64534c56a45": {
          "model_module": "@jupyter-widgets/controls",
          "model_name": "HBoxModel",
          "model_module_version": "1.5.0",
          "state": {
            "_dom_classes": [],
            "_model_module": "@jupyter-widgets/controls",
            "_model_module_version": "1.5.0",
            "_model_name": "HBoxModel",
            "_view_count": null,
            "_view_module": "@jupyter-widgets/controls",
            "_view_module_version": "1.5.0",
            "_view_name": "HBoxView",
            "box_style": "",
            "children": [
              "IPY_MODEL_7888fc40168146dbb8e53a39d21e5f9c",
              "IPY_MODEL_7234ebdf54a84a1481abe2d6cc1afe21",
              "IPY_MODEL_e4d22ff831274f7bbd076d9066fffc7b"
            ],
            "layout": "IPY_MODEL_e71f9910c33c4fe0a30f0ec6fd8de20c"
          }
        },
        "7888fc40168146dbb8e53a39d21e5f9c": {
          "model_module": "@jupyter-widgets/controls",
          "model_name": "HTMLModel",
          "model_module_version": "1.5.0",
          "state": {
            "_dom_classes": [],
            "_model_module": "@jupyter-widgets/controls",
            "_model_module_version": "1.5.0",
            "_model_name": "HTMLModel",
            "_view_count": null,
            "_view_module": "@jupyter-widgets/controls",
            "_view_module_version": "1.5.0",
            "_view_name": "HTMLView",
            "description": "",
            "description_tooltip": null,
            "layout": "IPY_MODEL_039a68cb14d045ceaf867c47e1573041",
            "placeholder": "​",
            "style": "IPY_MODEL_b3e3bb3dc3224af383fc7d2448c5b41e",
            "value": "Map: 100%"
          }
        },
        "7234ebdf54a84a1481abe2d6cc1afe21": {
          "model_module": "@jupyter-widgets/controls",
          "model_name": "FloatProgressModel",
          "model_module_version": "1.5.0",
          "state": {
            "_dom_classes": [],
            "_model_module": "@jupyter-widgets/controls",
            "_model_module_version": "1.5.0",
            "_model_name": "FloatProgressModel",
            "_view_count": null,
            "_view_module": "@jupyter-widgets/controls",
            "_view_module_version": "1.5.0",
            "_view_name": "ProgressView",
            "bar_style": "",
            "description": "",
            "description_tooltip": null,
            "layout": "IPY_MODEL_0e36229c08c94d73b16e22e392451dd7",
            "max": 11660,
            "min": 0,
            "orientation": "horizontal",
            "style": "IPY_MODEL_3d2d5e7a1a3d44888f5e1d787c7133d7",
            "value": 11660
          }
        },
        "e4d22ff831274f7bbd076d9066fffc7b": {
          "model_module": "@jupyter-widgets/controls",
          "model_name": "HTMLModel",
          "model_module_version": "1.5.0",
          "state": {
            "_dom_classes": [],
            "_model_module": "@jupyter-widgets/controls",
            "_model_module_version": "1.5.0",
            "_model_name": "HTMLModel",
            "_view_count": null,
            "_view_module": "@jupyter-widgets/controls",
            "_view_module_version": "1.5.0",
            "_view_name": "HTMLView",
            "description": "",
            "description_tooltip": null,
            "layout": "IPY_MODEL_0acaeeb102814e769cad7433c628c13e",
            "placeholder": "​",
            "style": "IPY_MODEL_e4884d8768cc4808924a18e47e3cd137",
            "value": " 11660/11660 [00:06&lt;00:00, 1713.47 examples/s]"
          }
        },
        "e71f9910c33c4fe0a30f0ec6fd8de20c": {
          "model_module": "@jupyter-widgets/base",
          "model_name": "LayoutModel",
          "model_module_version": "1.2.0",
          "state": {
            "_model_module": "@jupyter-widgets/base",
            "_model_module_version": "1.2.0",
            "_model_name": "LayoutModel",
            "_view_count": null,
            "_view_module": "@jupyter-widgets/base",
            "_view_module_version": "1.2.0",
            "_view_name": "LayoutView",
            "align_content": null,
            "align_items": null,
            "align_self": null,
            "border": null,
            "bottom": null,
            "display": null,
            "flex": null,
            "flex_flow": null,
            "grid_area": null,
            "grid_auto_columns": null,
            "grid_auto_flow": null,
            "grid_auto_rows": null,
            "grid_column": null,
            "grid_gap": null,
            "grid_row": null,
            "grid_template_areas": null,
            "grid_template_columns": null,
            "grid_template_rows": null,
            "height": null,
            "justify_content": null,
            "justify_items": null,
            "left": null,
            "margin": null,
            "max_height": null,
            "max_width": null,
            "min_height": null,
            "min_width": null,
            "object_fit": null,
            "object_position": null,
            "order": null,
            "overflow": null,
            "overflow_x": null,
            "overflow_y": null,
            "padding": null,
            "right": null,
            "top": null,
            "visibility": "hidden",
            "width": null
          }
        },
        "039a68cb14d045ceaf867c47e1573041": {
          "model_module": "@jupyter-widgets/base",
          "model_name": "LayoutModel",
          "model_module_version": "1.2.0",
          "state": {
            "_model_module": "@jupyter-widgets/base",
            "_model_module_version": "1.2.0",
            "_model_name": "LayoutModel",
            "_view_count": null,
            "_view_module": "@jupyter-widgets/base",
            "_view_module_version": "1.2.0",
            "_view_name": "LayoutView",
            "align_content": null,
            "align_items": null,
            "align_self": null,
            "border": null,
            "bottom": null,
            "display": null,
            "flex": null,
            "flex_flow": null,
            "grid_area": null,
            "grid_auto_columns": null,
            "grid_auto_flow": null,
            "grid_auto_rows": null,
            "grid_column": null,
            "grid_gap": null,
            "grid_row": null,
            "grid_template_areas": null,
            "grid_template_columns": null,
            "grid_template_rows": null,
            "height": null,
            "justify_content": null,
            "justify_items": null,
            "left": null,
            "margin": null,
            "max_height": null,
            "max_width": null,
            "min_height": null,
            "min_width": null,
            "object_fit": null,
            "object_position": null,
            "order": null,
            "overflow": null,
            "overflow_x": null,
            "overflow_y": null,
            "padding": null,
            "right": null,
            "top": null,
            "visibility": null,
            "width": null
          }
        },
        "b3e3bb3dc3224af383fc7d2448c5b41e": {
          "model_module": "@jupyter-widgets/controls",
          "model_name": "DescriptionStyleModel",
          "model_module_version": "1.5.0",
          "state": {
            "_model_module": "@jupyter-widgets/controls",
            "_model_module_version": "1.5.0",
            "_model_name": "DescriptionStyleModel",
            "_view_count": null,
            "_view_module": "@jupyter-widgets/base",
            "_view_module_version": "1.2.0",
            "_view_name": "StyleView",
            "description_width": ""
          }
        },
        "0e36229c08c94d73b16e22e392451dd7": {
          "model_module": "@jupyter-widgets/base",
          "model_name": "LayoutModel",
          "model_module_version": "1.2.0",
          "state": {
            "_model_module": "@jupyter-widgets/base",
            "_model_module_version": "1.2.0",
            "_model_name": "LayoutModel",
            "_view_count": null,
            "_view_module": "@jupyter-widgets/base",
            "_view_module_version": "1.2.0",
            "_view_name": "LayoutView",
            "align_content": null,
            "align_items": null,
            "align_self": null,
            "border": null,
            "bottom": null,
            "display": null,
            "flex": null,
            "flex_flow": null,
            "grid_area": null,
            "grid_auto_columns": null,
            "grid_auto_flow": null,
            "grid_auto_rows": null,
            "grid_column": null,
            "grid_gap": null,
            "grid_row": null,
            "grid_template_areas": null,
            "grid_template_columns": null,
            "grid_template_rows": null,
            "height": null,
            "justify_content": null,
            "justify_items": null,
            "left": null,
            "margin": null,
            "max_height": null,
            "max_width": null,
            "min_height": null,
            "min_width": null,
            "object_fit": null,
            "object_position": null,
            "order": null,
            "overflow": null,
            "overflow_x": null,
            "overflow_y": null,
            "padding": null,
            "right": null,
            "top": null,
            "visibility": null,
            "width": null
          }
        },
        "3d2d5e7a1a3d44888f5e1d787c7133d7": {
          "model_module": "@jupyter-widgets/controls",
          "model_name": "ProgressStyleModel",
          "model_module_version": "1.5.0",
          "state": {
            "_model_module": "@jupyter-widgets/controls",
            "_model_module_version": "1.5.0",
            "_model_name": "ProgressStyleModel",
            "_view_count": null,
            "_view_module": "@jupyter-widgets/base",
            "_view_module_version": "1.2.0",
            "_view_name": "StyleView",
            "bar_color": null,
            "description_width": ""
          }
        },
        "0acaeeb102814e769cad7433c628c13e": {
          "model_module": "@jupyter-widgets/base",
          "model_name": "LayoutModel",
          "model_module_version": "1.2.0",
          "state": {
            "_model_module": "@jupyter-widgets/base",
            "_model_module_version": "1.2.0",
            "_model_name": "LayoutModel",
            "_view_count": null,
            "_view_module": "@jupyter-widgets/base",
            "_view_module_version": "1.2.0",
            "_view_name": "LayoutView",
            "align_content": null,
            "align_items": null,
            "align_self": null,
            "border": null,
            "bottom": null,
            "display": null,
            "flex": null,
            "flex_flow": null,
            "grid_area": null,
            "grid_auto_columns": null,
            "grid_auto_flow": null,
            "grid_auto_rows": null,
            "grid_column": null,
            "grid_gap": null,
            "grid_row": null,
            "grid_template_areas": null,
            "grid_template_columns": null,
            "grid_template_rows": null,
            "height": null,
            "justify_content": null,
            "justify_items": null,
            "left": null,
            "margin": null,
            "max_height": null,
            "max_width": null,
            "min_height": null,
            "min_width": null,
            "object_fit": null,
            "object_position": null,
            "order": null,
            "overflow": null,
            "overflow_x": null,
            "overflow_y": null,
            "padding": null,
            "right": null,
            "top": null,
            "visibility": null,
            "width": null
          }
        },
        "e4884d8768cc4808924a18e47e3cd137": {
          "model_module": "@jupyter-widgets/controls",
          "model_name": "DescriptionStyleModel",
          "model_module_version": "1.5.0",
          "state": {
            "_model_module": "@jupyter-widgets/controls",
            "_model_module_version": "1.5.0",
            "_model_name": "DescriptionStyleModel",
            "_view_count": null,
            "_view_module": "@jupyter-widgets/base",
            "_view_module_version": "1.2.0",
            "_view_name": "StyleView",
            "description_width": ""
          }
        },
        "fc328a914f15454990324006bbd464a0": {
          "model_module": "@jupyter-widgets/controls",
          "model_name": "HBoxModel",
          "model_module_version": "1.5.0",
          "state": {
            "_dom_classes": [],
            "_model_module": "@jupyter-widgets/controls",
            "_model_module_version": "1.5.0",
            "_model_name": "HBoxModel",
            "_view_count": null,
            "_view_module": "@jupyter-widgets/controls",
            "_view_module_version": "1.5.0",
            "_view_name": "HBoxView",
            "box_style": "",
            "children": [
              "IPY_MODEL_45782ff5750a4ed2ba3718969d9ce3d6",
              "IPY_MODEL_fffb05290c7540269aa075b5053ad01b",
              "IPY_MODEL_f884fd81d6b54cfe98c916c0c9e24743"
            ],
            "layout": "IPY_MODEL_019f880d8b1b4d56992340419411e2a5"
          }
        },
        "45782ff5750a4ed2ba3718969d9ce3d6": {
          "model_module": "@jupyter-widgets/controls",
          "model_name": "HTMLModel",
          "model_module_version": "1.5.0",
          "state": {
            "_dom_classes": [],
            "_model_module": "@jupyter-widgets/controls",
            "_model_module_version": "1.5.0",
            "_model_name": "HTMLModel",
            "_view_count": null,
            "_view_module": "@jupyter-widgets/controls",
            "_view_module_version": "1.5.0",
            "_view_name": "HTMLView",
            "description": "",
            "description_tooltip": null,
            "layout": "IPY_MODEL_e77e7fbb0d304e95a3747476175772a5",
            "placeholder": "​",
            "style": "IPY_MODEL_135f9833b48a4e93a6dc68ce1cbf013b",
            "value": "Map: 100%"
          }
        },
        "fffb05290c7540269aa075b5053ad01b": {
          "model_module": "@jupyter-widgets/controls",
          "model_name": "FloatProgressModel",
          "model_module_version": "1.5.0",
          "state": {
            "_dom_classes": [],
            "_model_module": "@jupyter-widgets/controls",
            "_model_module_version": "1.5.0",
            "_model_name": "FloatProgressModel",
            "_view_count": null,
            "_view_module": "@jupyter-widgets/controls",
            "_view_module_version": "1.5.0",
            "_view_name": "ProgressView",
            "bar_style": "",
            "description": "",
            "description_tooltip": null,
            "layout": "IPY_MODEL_ea5e5eff25b34aca928b32e1963f97c0",
            "max": 760,
            "min": 0,
            "orientation": "horizontal",
            "style": "IPY_MODEL_1b13b483be484de0a185b4f80a5afb8c",
            "value": 760
          }
        },
        "f884fd81d6b54cfe98c916c0c9e24743": {
          "model_module": "@jupyter-widgets/controls",
          "model_name": "HTMLModel",
          "model_module_version": "1.5.0",
          "state": {
            "_dom_classes": [],
            "_model_module": "@jupyter-widgets/controls",
            "_model_module_version": "1.5.0",
            "_model_name": "HTMLModel",
            "_view_count": null,
            "_view_module": "@jupyter-widgets/controls",
            "_view_module_version": "1.5.0",
            "_view_name": "HTMLView",
            "description": "",
            "description_tooltip": null,
            "layout": "IPY_MODEL_2b015436c6d6403fad78d10817bd78c9",
            "placeholder": "​",
            "style": "IPY_MODEL_38fd7777877143a9947c39f89316526c",
            "value": " 760/760 [00:00&lt;00:00, 1706.36 examples/s]"
          }
        },
        "019f880d8b1b4d56992340419411e2a5": {
          "model_module": "@jupyter-widgets/base",
          "model_name": "LayoutModel",
          "model_module_version": "1.2.0",
          "state": {
            "_model_module": "@jupyter-widgets/base",
            "_model_module_version": "1.2.0",
            "_model_name": "LayoutModel",
            "_view_count": null,
            "_view_module": "@jupyter-widgets/base",
            "_view_module_version": "1.2.0",
            "_view_name": "LayoutView",
            "align_content": null,
            "align_items": null,
            "align_self": null,
            "border": null,
            "bottom": null,
            "display": null,
            "flex": null,
            "flex_flow": null,
            "grid_area": null,
            "grid_auto_columns": null,
            "grid_auto_flow": null,
            "grid_auto_rows": null,
            "grid_column": null,
            "grid_gap": null,
            "grid_row": null,
            "grid_template_areas": null,
            "grid_template_columns": null,
            "grid_template_rows": null,
            "height": null,
            "justify_content": null,
            "justify_items": null,
            "left": null,
            "margin": null,
            "max_height": null,
            "max_width": null,
            "min_height": null,
            "min_width": null,
            "object_fit": null,
            "object_position": null,
            "order": null,
            "overflow": null,
            "overflow_x": null,
            "overflow_y": null,
            "padding": null,
            "right": null,
            "top": null,
            "visibility": "hidden",
            "width": null
          }
        },
        "e77e7fbb0d304e95a3747476175772a5": {
          "model_module": "@jupyter-widgets/base",
          "model_name": "LayoutModel",
          "model_module_version": "1.2.0",
          "state": {
            "_model_module": "@jupyter-widgets/base",
            "_model_module_version": "1.2.0",
            "_model_name": "LayoutModel",
            "_view_count": null,
            "_view_module": "@jupyter-widgets/base",
            "_view_module_version": "1.2.0",
            "_view_name": "LayoutView",
            "align_content": null,
            "align_items": null,
            "align_self": null,
            "border": null,
            "bottom": null,
            "display": null,
            "flex": null,
            "flex_flow": null,
            "grid_area": null,
            "grid_auto_columns": null,
            "grid_auto_flow": null,
            "grid_auto_rows": null,
            "grid_column": null,
            "grid_gap": null,
            "grid_row": null,
            "grid_template_areas": null,
            "grid_template_columns": null,
            "grid_template_rows": null,
            "height": null,
            "justify_content": null,
            "justify_items": null,
            "left": null,
            "margin": null,
            "max_height": null,
            "max_width": null,
            "min_height": null,
            "min_width": null,
            "object_fit": null,
            "object_position": null,
            "order": null,
            "overflow": null,
            "overflow_x": null,
            "overflow_y": null,
            "padding": null,
            "right": null,
            "top": null,
            "visibility": null,
            "width": null
          }
        },
        "135f9833b48a4e93a6dc68ce1cbf013b": {
          "model_module": "@jupyter-widgets/controls",
          "model_name": "DescriptionStyleModel",
          "model_module_version": "1.5.0",
          "state": {
            "_model_module": "@jupyter-widgets/controls",
            "_model_module_version": "1.5.0",
            "_model_name": "DescriptionStyleModel",
            "_view_count": null,
            "_view_module": "@jupyter-widgets/base",
            "_view_module_version": "1.2.0",
            "_view_name": "StyleView",
            "description_width": ""
          }
        },
        "ea5e5eff25b34aca928b32e1963f97c0": {
          "model_module": "@jupyter-widgets/base",
          "model_name": "LayoutModel",
          "model_module_version": "1.2.0",
          "state": {
            "_model_module": "@jupyter-widgets/base",
            "_model_module_version": "1.2.0",
            "_model_name": "LayoutModel",
            "_view_count": null,
            "_view_module": "@jupyter-widgets/base",
            "_view_module_version": "1.2.0",
            "_view_name": "LayoutView",
            "align_content": null,
            "align_items": null,
            "align_self": null,
            "border": null,
            "bottom": null,
            "display": null,
            "flex": null,
            "flex_flow": null,
            "grid_area": null,
            "grid_auto_columns": null,
            "grid_auto_flow": null,
            "grid_auto_rows": null,
            "grid_column": null,
            "grid_gap": null,
            "grid_row": null,
            "grid_template_areas": null,
            "grid_template_columns": null,
            "grid_template_rows": null,
            "height": null,
            "justify_content": null,
            "justify_items": null,
            "left": null,
            "margin": null,
            "max_height": null,
            "max_width": null,
            "min_height": null,
            "min_width": null,
            "object_fit": null,
            "object_position": null,
            "order": null,
            "overflow": null,
            "overflow_x": null,
            "overflow_y": null,
            "padding": null,
            "right": null,
            "top": null,
            "visibility": null,
            "width": null
          }
        },
        "1b13b483be484de0a185b4f80a5afb8c": {
          "model_module": "@jupyter-widgets/controls",
          "model_name": "ProgressStyleModel",
          "model_module_version": "1.5.0",
          "state": {
            "_model_module": "@jupyter-widgets/controls",
            "_model_module_version": "1.5.0",
            "_model_name": "ProgressStyleModel",
            "_view_count": null,
            "_view_module": "@jupyter-widgets/base",
            "_view_module_version": "1.2.0",
            "_view_name": "StyleView",
            "bar_color": null,
            "description_width": ""
          }
        },
        "2b015436c6d6403fad78d10817bd78c9": {
          "model_module": "@jupyter-widgets/base",
          "model_name": "LayoutModel",
          "model_module_version": "1.2.0",
          "state": {
            "_model_module": "@jupyter-widgets/base",
            "_model_module_version": "1.2.0",
            "_model_name": "LayoutModel",
            "_view_count": null,
            "_view_module": "@jupyter-widgets/base",
            "_view_module_version": "1.2.0",
            "_view_name": "LayoutView",
            "align_content": null,
            "align_items": null,
            "align_self": null,
            "border": null,
            "bottom": null,
            "display": null,
            "flex": null,
            "flex_flow": null,
            "grid_area": null,
            "grid_auto_columns": null,
            "grid_auto_flow": null,
            "grid_auto_rows": null,
            "grid_column": null,
            "grid_gap": null,
            "grid_row": null,
            "grid_template_areas": null,
            "grid_template_columns": null,
            "grid_template_rows": null,
            "height": null,
            "justify_content": null,
            "justify_items": null,
            "left": null,
            "margin": null,
            "max_height": null,
            "max_width": null,
            "min_height": null,
            "min_width": null,
            "object_fit": null,
            "object_position": null,
            "order": null,
            "overflow": null,
            "overflow_x": null,
            "overflow_y": null,
            "padding": null,
            "right": null,
            "top": null,
            "visibility": null,
            "width": null
          }
        },
        "38fd7777877143a9947c39f89316526c": {
          "model_module": "@jupyter-widgets/controls",
          "model_name": "DescriptionStyleModel",
          "model_module_version": "1.5.0",
          "state": {
            "_model_module": "@jupyter-widgets/controls",
            "_model_module_version": "1.5.0",
            "_model_name": "DescriptionStyleModel",
            "_view_count": null,
            "_view_module": "@jupyter-widgets/base",
            "_view_module_version": "1.2.0",
            "_view_name": "StyleView",
            "description_width": ""
          }
        },
        "ee52f21223a047b0a318d6abbb0ff0d5": {
          "model_module": "@jupyter-widgets/controls",
          "model_name": "HBoxModel",
          "model_module_version": "1.5.0",
          "state": {
            "_dom_classes": [],
            "_model_module": "@jupyter-widgets/controls",
            "_model_module_version": "1.5.0",
            "_model_name": "HBoxModel",
            "_view_count": null,
            "_view_module": "@jupyter-widgets/controls",
            "_view_module_version": "1.5.0",
            "_view_name": "HBoxView",
            "box_style": "",
            "children": [
              "IPY_MODEL_ca6b3aa433634a17a4e435a8b8da3308",
              "IPY_MODEL_22e7e4fc34184327ad90c9729202e4e0",
              "IPY_MODEL_d2a5ab2d2d0441c2be67550f0efd0eda"
            ],
            "layout": "IPY_MODEL_1319831c7a374516b484fcdba137964d"
          }
        },
        "ca6b3aa433634a17a4e435a8b8da3308": {
          "model_module": "@jupyter-widgets/controls",
          "model_name": "HTMLModel",
          "model_module_version": "1.5.0",
          "state": {
            "_dom_classes": [],
            "_model_module": "@jupyter-widgets/controls",
            "_model_module_version": "1.5.0",
            "_model_name": "HTMLModel",
            "_view_count": null,
            "_view_module": "@jupyter-widgets/controls",
            "_view_module_version": "1.5.0",
            "_view_name": "HTMLView",
            "description": "",
            "description_tooltip": null,
            "layout": "IPY_MODEL_45175bb30a254cdfa7ea8f82502b0f26",
            "placeholder": "​",
            "style": "IPY_MODEL_bcdc29bd98d64b1395042ac741a85d3a",
            "value": "Map:   0%"
          }
        },
        "22e7e4fc34184327ad90c9729202e4e0": {
          "model_module": "@jupyter-widgets/controls",
          "model_name": "FloatProgressModel",
          "model_module_version": "1.5.0",
          "state": {
            "_dom_classes": [],
            "_model_module": "@jupyter-widgets/controls",
            "_model_module_version": "1.5.0",
            "_model_name": "FloatProgressModel",
            "_view_count": null,
            "_view_module": "@jupyter-widgets/controls",
            "_view_module_version": "1.5.0",
            "_view_name": "ProgressView",
            "bar_style": "",
            "description": "",
            "description_tooltip": null,
            "layout": "IPY_MODEL_8628dbefc3794b489079ccc5fd9671e0",
            "max": 11660,
            "min": 0,
            "orientation": "horizontal",
            "style": "IPY_MODEL_8e6b13b558ff436a98995d2d033504d1",
            "value": 11660
          }
        },
        "d2a5ab2d2d0441c2be67550f0efd0eda": {
          "model_module": "@jupyter-widgets/controls",
          "model_name": "HTMLModel",
          "model_module_version": "1.5.0",
          "state": {
            "_dom_classes": [],
            "_model_module": "@jupyter-widgets/controls",
            "_model_module_version": "1.5.0",
            "_model_name": "HTMLModel",
            "_view_count": null,
            "_view_module": "@jupyter-widgets/controls",
            "_view_module_version": "1.5.0",
            "_view_name": "HTMLView",
            "description": "",
            "description_tooltip": null,
            "layout": "IPY_MODEL_1bae8941d1c14d2a91301383b81392b9",
            "placeholder": "​",
            "style": "IPY_MODEL_6acf4586798946b6bee6ab59ac76d5f1",
            "value": " 0/11660 [00:00&lt;?, ? examples/s]"
          }
        },
        "1319831c7a374516b484fcdba137964d": {
          "model_module": "@jupyter-widgets/base",
          "model_name": "LayoutModel",
          "model_module_version": "1.2.0",
          "state": {
            "_model_module": "@jupyter-widgets/base",
            "_model_module_version": "1.2.0",
            "_model_name": "LayoutModel",
            "_view_count": null,
            "_view_module": "@jupyter-widgets/base",
            "_view_module_version": "1.2.0",
            "_view_name": "LayoutView",
            "align_content": null,
            "align_items": null,
            "align_self": null,
            "border": null,
            "bottom": null,
            "display": null,
            "flex": null,
            "flex_flow": null,
            "grid_area": null,
            "grid_auto_columns": null,
            "grid_auto_flow": null,
            "grid_auto_rows": null,
            "grid_column": null,
            "grid_gap": null,
            "grid_row": null,
            "grid_template_areas": null,
            "grid_template_columns": null,
            "grid_template_rows": null,
            "height": null,
            "justify_content": null,
            "justify_items": null,
            "left": null,
            "margin": null,
            "max_height": null,
            "max_width": null,
            "min_height": null,
            "min_width": null,
            "object_fit": null,
            "object_position": null,
            "order": null,
            "overflow": null,
            "overflow_x": null,
            "overflow_y": null,
            "padding": null,
            "right": null,
            "top": null,
            "visibility": "hidden",
            "width": null
          }
        },
        "45175bb30a254cdfa7ea8f82502b0f26": {
          "model_module": "@jupyter-widgets/base",
          "model_name": "LayoutModel",
          "model_module_version": "1.2.0",
          "state": {
            "_model_module": "@jupyter-widgets/base",
            "_model_module_version": "1.2.0",
            "_model_name": "LayoutModel",
            "_view_count": null,
            "_view_module": "@jupyter-widgets/base",
            "_view_module_version": "1.2.0",
            "_view_name": "LayoutView",
            "align_content": null,
            "align_items": null,
            "align_self": null,
            "border": null,
            "bottom": null,
            "display": null,
            "flex": null,
            "flex_flow": null,
            "grid_area": null,
            "grid_auto_columns": null,
            "grid_auto_flow": null,
            "grid_auto_rows": null,
            "grid_column": null,
            "grid_gap": null,
            "grid_row": null,
            "grid_template_areas": null,
            "grid_template_columns": null,
            "grid_template_rows": null,
            "height": null,
            "justify_content": null,
            "justify_items": null,
            "left": null,
            "margin": null,
            "max_height": null,
            "max_width": null,
            "min_height": null,
            "min_width": null,
            "object_fit": null,
            "object_position": null,
            "order": null,
            "overflow": null,
            "overflow_x": null,
            "overflow_y": null,
            "padding": null,
            "right": null,
            "top": null,
            "visibility": null,
            "width": null
          }
        },
        "bcdc29bd98d64b1395042ac741a85d3a": {
          "model_module": "@jupyter-widgets/controls",
          "model_name": "DescriptionStyleModel",
          "model_module_version": "1.5.0",
          "state": {
            "_model_module": "@jupyter-widgets/controls",
            "_model_module_version": "1.5.0",
            "_model_name": "DescriptionStyleModel",
            "_view_count": null,
            "_view_module": "@jupyter-widgets/base",
            "_view_module_version": "1.2.0",
            "_view_name": "StyleView",
            "description_width": ""
          }
        },
        "8628dbefc3794b489079ccc5fd9671e0": {
          "model_module": "@jupyter-widgets/base",
          "model_name": "LayoutModel",
          "model_module_version": "1.2.0",
          "state": {
            "_model_module": "@jupyter-widgets/base",
            "_model_module_version": "1.2.0",
            "_model_name": "LayoutModel",
            "_view_count": null,
            "_view_module": "@jupyter-widgets/base",
            "_view_module_version": "1.2.0",
            "_view_name": "LayoutView",
            "align_content": null,
            "align_items": null,
            "align_self": null,
            "border": null,
            "bottom": null,
            "display": null,
            "flex": null,
            "flex_flow": null,
            "grid_area": null,
            "grid_auto_columns": null,
            "grid_auto_flow": null,
            "grid_auto_rows": null,
            "grid_column": null,
            "grid_gap": null,
            "grid_row": null,
            "grid_template_areas": null,
            "grid_template_columns": null,
            "grid_template_rows": null,
            "height": null,
            "justify_content": null,
            "justify_items": null,
            "left": null,
            "margin": null,
            "max_height": null,
            "max_width": null,
            "min_height": null,
            "min_width": null,
            "object_fit": null,
            "object_position": null,
            "order": null,
            "overflow": null,
            "overflow_x": null,
            "overflow_y": null,
            "padding": null,
            "right": null,
            "top": null,
            "visibility": null,
            "width": null
          }
        },
        "8e6b13b558ff436a98995d2d033504d1": {
          "model_module": "@jupyter-widgets/controls",
          "model_name": "ProgressStyleModel",
          "model_module_version": "1.5.0",
          "state": {
            "_model_module": "@jupyter-widgets/controls",
            "_model_module_version": "1.5.0",
            "_model_name": "ProgressStyleModel",
            "_view_count": null,
            "_view_module": "@jupyter-widgets/base",
            "_view_module_version": "1.2.0",
            "_view_name": "StyleView",
            "bar_color": null,
            "description_width": ""
          }
        },
        "1bae8941d1c14d2a91301383b81392b9": {
          "model_module": "@jupyter-widgets/base",
          "model_name": "LayoutModel",
          "model_module_version": "1.2.0",
          "state": {
            "_model_module": "@jupyter-widgets/base",
            "_model_module_version": "1.2.0",
            "_model_name": "LayoutModel",
            "_view_count": null,
            "_view_module": "@jupyter-widgets/base",
            "_view_module_version": "1.2.0",
            "_view_name": "LayoutView",
            "align_content": null,
            "align_items": null,
            "align_self": null,
            "border": null,
            "bottom": null,
            "display": null,
            "flex": null,
            "flex_flow": null,
            "grid_area": null,
            "grid_auto_columns": null,
            "grid_auto_flow": null,
            "grid_auto_rows": null,
            "grid_column": null,
            "grid_gap": null,
            "grid_row": null,
            "grid_template_areas": null,
            "grid_template_columns": null,
            "grid_template_rows": null,
            "height": null,
            "justify_content": null,
            "justify_items": null,
            "left": null,
            "margin": null,
            "max_height": null,
            "max_width": null,
            "min_height": null,
            "min_width": null,
            "object_fit": null,
            "object_position": null,
            "order": null,
            "overflow": null,
            "overflow_x": null,
            "overflow_y": null,
            "padding": null,
            "right": null,
            "top": null,
            "visibility": null,
            "width": null
          }
        },
        "6acf4586798946b6bee6ab59ac76d5f1": {
          "model_module": "@jupyter-widgets/controls",
          "model_name": "DescriptionStyleModel",
          "model_module_version": "1.5.0",
          "state": {
            "_model_module": "@jupyter-widgets/controls",
            "_model_module_version": "1.5.0",
            "_model_name": "DescriptionStyleModel",
            "_view_count": null,
            "_view_module": "@jupyter-widgets/base",
            "_view_module_version": "1.2.0",
            "_view_name": "StyleView",
            "description_width": ""
          }
        },
        "758fbbe89bb44ebfa87b9e76598951e7": {
          "model_module": "@jupyter-widgets/controls",
          "model_name": "HBoxModel",
          "model_module_version": "1.5.0",
          "state": {
            "_dom_classes": [],
            "_model_module": "@jupyter-widgets/controls",
            "_model_module_version": "1.5.0",
            "_model_name": "HBoxModel",
            "_view_count": null,
            "_view_module": "@jupyter-widgets/controls",
            "_view_module_version": "1.5.0",
            "_view_name": "HBoxView",
            "box_style": "",
            "children": [
              "IPY_MODEL_b7c0b6ee24ca438e9d33df1516dd5e43",
              "IPY_MODEL_0951e1ac0fe64335856ad509519b26b9",
              "IPY_MODEL_be3cac656fa148f89eb2c7e5d33d74eb"
            ],
            "layout": "IPY_MODEL_17ff590d35f6435ab8d40812d6eae1ed"
          }
        },
        "b7c0b6ee24ca438e9d33df1516dd5e43": {
          "model_module": "@jupyter-widgets/controls",
          "model_name": "HTMLModel",
          "model_module_version": "1.5.0",
          "state": {
            "_dom_classes": [],
            "_model_module": "@jupyter-widgets/controls",
            "_model_module_version": "1.5.0",
            "_model_name": "HTMLModel",
            "_view_count": null,
            "_view_module": "@jupyter-widgets/controls",
            "_view_module_version": "1.5.0",
            "_view_name": "HTMLView",
            "description": "",
            "description_tooltip": null,
            "layout": "IPY_MODEL_1f30cd87d0344aae8d3c5619bc4bea9c",
            "placeholder": "​",
            "style": "IPY_MODEL_939d3c54cf6f4f469b3d669bbcc10409",
            "value": "Map:   0%"
          }
        },
        "0951e1ac0fe64335856ad509519b26b9": {
          "model_module": "@jupyter-widgets/controls",
          "model_name": "FloatProgressModel",
          "model_module_version": "1.5.0",
          "state": {
            "_dom_classes": [],
            "_model_module": "@jupyter-widgets/controls",
            "_model_module_version": "1.5.0",
            "_model_name": "FloatProgressModel",
            "_view_count": null,
            "_view_module": "@jupyter-widgets/controls",
            "_view_module_version": "1.5.0",
            "_view_name": "ProgressView",
            "bar_style": "",
            "description": "",
            "description_tooltip": null,
            "layout": "IPY_MODEL_d5e9eda2c8e54b50b387b58fc299c6c3",
            "max": 760,
            "min": 0,
            "orientation": "horizontal",
            "style": "IPY_MODEL_7d0b5cc1e5df48e1817132611b7611fb",
            "value": 760
          }
        },
        "be3cac656fa148f89eb2c7e5d33d74eb": {
          "model_module": "@jupyter-widgets/controls",
          "model_name": "HTMLModel",
          "model_module_version": "1.5.0",
          "state": {
            "_dom_classes": [],
            "_model_module": "@jupyter-widgets/controls",
            "_model_module_version": "1.5.0",
            "_model_name": "HTMLModel",
            "_view_count": null,
            "_view_module": "@jupyter-widgets/controls",
            "_view_module_version": "1.5.0",
            "_view_name": "HTMLView",
            "description": "",
            "description_tooltip": null,
            "layout": "IPY_MODEL_e7736b027e7c4e429a371230c853153d",
            "placeholder": "​",
            "style": "IPY_MODEL_0398f38535ee4045afd37ee3120f04a3",
            "value": " 0/760 [00:00&lt;?, ? examples/s]"
          }
        },
        "17ff590d35f6435ab8d40812d6eae1ed": {
          "model_module": "@jupyter-widgets/base",
          "model_name": "LayoutModel",
          "model_module_version": "1.2.0",
          "state": {
            "_model_module": "@jupyter-widgets/base",
            "_model_module_version": "1.2.0",
            "_model_name": "LayoutModel",
            "_view_count": null,
            "_view_module": "@jupyter-widgets/base",
            "_view_module_version": "1.2.0",
            "_view_name": "LayoutView",
            "align_content": null,
            "align_items": null,
            "align_self": null,
            "border": null,
            "bottom": null,
            "display": null,
            "flex": null,
            "flex_flow": null,
            "grid_area": null,
            "grid_auto_columns": null,
            "grid_auto_flow": null,
            "grid_auto_rows": null,
            "grid_column": null,
            "grid_gap": null,
            "grid_row": null,
            "grid_template_areas": null,
            "grid_template_columns": null,
            "grid_template_rows": null,
            "height": null,
            "justify_content": null,
            "justify_items": null,
            "left": null,
            "margin": null,
            "max_height": null,
            "max_width": null,
            "min_height": null,
            "min_width": null,
            "object_fit": null,
            "object_position": null,
            "order": null,
            "overflow": null,
            "overflow_x": null,
            "overflow_y": null,
            "padding": null,
            "right": null,
            "top": null,
            "visibility": "hidden",
            "width": null
          }
        },
        "1f30cd87d0344aae8d3c5619bc4bea9c": {
          "model_module": "@jupyter-widgets/base",
          "model_name": "LayoutModel",
          "model_module_version": "1.2.0",
          "state": {
            "_model_module": "@jupyter-widgets/base",
            "_model_module_version": "1.2.0",
            "_model_name": "LayoutModel",
            "_view_count": null,
            "_view_module": "@jupyter-widgets/base",
            "_view_module_version": "1.2.0",
            "_view_name": "LayoutView",
            "align_content": null,
            "align_items": null,
            "align_self": null,
            "border": null,
            "bottom": null,
            "display": null,
            "flex": null,
            "flex_flow": null,
            "grid_area": null,
            "grid_auto_columns": null,
            "grid_auto_flow": null,
            "grid_auto_rows": null,
            "grid_column": null,
            "grid_gap": null,
            "grid_row": null,
            "grid_template_areas": null,
            "grid_template_columns": null,
            "grid_template_rows": null,
            "height": null,
            "justify_content": null,
            "justify_items": null,
            "left": null,
            "margin": null,
            "max_height": null,
            "max_width": null,
            "min_height": null,
            "min_width": null,
            "object_fit": null,
            "object_position": null,
            "order": null,
            "overflow": null,
            "overflow_x": null,
            "overflow_y": null,
            "padding": null,
            "right": null,
            "top": null,
            "visibility": null,
            "width": null
          }
        },
        "939d3c54cf6f4f469b3d669bbcc10409": {
          "model_module": "@jupyter-widgets/controls",
          "model_name": "DescriptionStyleModel",
          "model_module_version": "1.5.0",
          "state": {
            "_model_module": "@jupyter-widgets/controls",
            "_model_module_version": "1.5.0",
            "_model_name": "DescriptionStyleModel",
            "_view_count": null,
            "_view_module": "@jupyter-widgets/base",
            "_view_module_version": "1.2.0",
            "_view_name": "StyleView",
            "description_width": ""
          }
        },
        "d5e9eda2c8e54b50b387b58fc299c6c3": {
          "model_module": "@jupyter-widgets/base",
          "model_name": "LayoutModel",
          "model_module_version": "1.2.0",
          "state": {
            "_model_module": "@jupyter-widgets/base",
            "_model_module_version": "1.2.0",
            "_model_name": "LayoutModel",
            "_view_count": null,
            "_view_module": "@jupyter-widgets/base",
            "_view_module_version": "1.2.0",
            "_view_name": "LayoutView",
            "align_content": null,
            "align_items": null,
            "align_self": null,
            "border": null,
            "bottom": null,
            "display": null,
            "flex": null,
            "flex_flow": null,
            "grid_area": null,
            "grid_auto_columns": null,
            "grid_auto_flow": null,
            "grid_auto_rows": null,
            "grid_column": null,
            "grid_gap": null,
            "grid_row": null,
            "grid_template_areas": null,
            "grid_template_columns": null,
            "grid_template_rows": null,
            "height": null,
            "justify_content": null,
            "justify_items": null,
            "left": null,
            "margin": null,
            "max_height": null,
            "max_width": null,
            "min_height": null,
            "min_width": null,
            "object_fit": null,
            "object_position": null,
            "order": null,
            "overflow": null,
            "overflow_x": null,
            "overflow_y": null,
            "padding": null,
            "right": null,
            "top": null,
            "visibility": null,
            "width": null
          }
        },
        "7d0b5cc1e5df48e1817132611b7611fb": {
          "model_module": "@jupyter-widgets/controls",
          "model_name": "ProgressStyleModel",
          "model_module_version": "1.5.0",
          "state": {
            "_model_module": "@jupyter-widgets/controls",
            "_model_module_version": "1.5.0",
            "_model_name": "ProgressStyleModel",
            "_view_count": null,
            "_view_module": "@jupyter-widgets/base",
            "_view_module_version": "1.2.0",
            "_view_name": "StyleView",
            "bar_color": null,
            "description_width": ""
          }
        },
        "e7736b027e7c4e429a371230c853153d": {
          "model_module": "@jupyter-widgets/base",
          "model_name": "LayoutModel",
          "model_module_version": "1.2.0",
          "state": {
            "_model_module": "@jupyter-widgets/base",
            "_model_module_version": "1.2.0",
            "_model_name": "LayoutModel",
            "_view_count": null,
            "_view_module": "@jupyter-widgets/base",
            "_view_module_version": "1.2.0",
            "_view_name": "LayoutView",
            "align_content": null,
            "align_items": null,
            "align_self": null,
            "border": null,
            "bottom": null,
            "display": null,
            "flex": null,
            "flex_flow": null,
            "grid_area": null,
            "grid_auto_columns": null,
            "grid_auto_flow": null,
            "grid_auto_rows": null,
            "grid_column": null,
            "grid_gap": null,
            "grid_row": null,
            "grid_template_areas": null,
            "grid_template_columns": null,
            "grid_template_rows": null,
            "height": null,
            "justify_content": null,
            "justify_items": null,
            "left": null,
            "margin": null,
            "max_height": null,
            "max_width": null,
            "min_height": null,
            "min_width": null,
            "object_fit": null,
            "object_position": null,
            "order": null,
            "overflow": null,
            "overflow_x": null,
            "overflow_y": null,
            "padding": null,
            "right": null,
            "top": null,
            "visibility": null,
            "width": null
          }
        },
        "0398f38535ee4045afd37ee3120f04a3": {
          "model_module": "@jupyter-widgets/controls",
          "model_name": "DescriptionStyleModel",
          "model_module_version": "1.5.0",
          "state": {
            "_model_module": "@jupyter-widgets/controls",
            "_model_module_version": "1.5.0",
            "_model_name": "DescriptionStyleModel",
            "_view_count": null,
            "_view_module": "@jupyter-widgets/base",
            "_view_module_version": "1.2.0",
            "_view_name": "StyleView",
            "description_width": ""
          }
        },
        "1de2f2d0b31149e5a8b87c27b2c1b2e9": {
          "model_module": "@jupyter-widgets/controls",
          "model_name": "HBoxModel",
          "model_module_version": "1.5.0",
          "state": {
            "_dom_classes": [],
            "_model_module": "@jupyter-widgets/controls",
            "_model_module_version": "1.5.0",
            "_model_name": "HBoxModel",
            "_view_count": null,
            "_view_module": "@jupyter-widgets/controls",
            "_view_module_version": "1.5.0",
            "_view_name": "HBoxView",
            "box_style": "",
            "children": [
              "IPY_MODEL_d62c4d548494421a8693ebd73d67474d",
              "IPY_MODEL_0e9fa45bf9754326a632bf82531dff75",
              "IPY_MODEL_d9c666391eb446da9d18e935e70f467f"
            ],
            "layout": "IPY_MODEL_f74a45d4522f46788d2a2d8f8c3ba9e6"
          }
        },
        "d62c4d548494421a8693ebd73d67474d": {
          "model_module": "@jupyter-widgets/controls",
          "model_name": "HTMLModel",
          "model_module_version": "1.5.0",
          "state": {
            "_dom_classes": [],
            "_model_module": "@jupyter-widgets/controls",
            "_model_module_version": "1.5.0",
            "_model_name": "HTMLModel",
            "_view_count": null,
            "_view_module": "@jupyter-widgets/controls",
            "_view_module_version": "1.5.0",
            "_view_name": "HTMLView",
            "description": "",
            "description_tooltip": null,
            "layout": "IPY_MODEL_7bd904f688e04b3fa0b890db2e4cf180",
            "placeholder": "​",
            "style": "IPY_MODEL_17cd739287dd48faaa8d4f89aec28f00",
            "value": "Map (num_proc=4): 100%"
          }
        },
        "0e9fa45bf9754326a632bf82531dff75": {
          "model_module": "@jupyter-widgets/controls",
          "model_name": "FloatProgressModel",
          "model_module_version": "1.5.0",
          "state": {
            "_dom_classes": [],
            "_model_module": "@jupyter-widgets/controls",
            "_model_module_version": "1.5.0",
            "_model_name": "FloatProgressModel",
            "_view_count": null,
            "_view_module": "@jupyter-widgets/controls",
            "_view_module_version": "1.5.0",
            "_view_name": "ProgressView",
            "bar_style": "",
            "description": "",
            "description_tooltip": null,
            "layout": "IPY_MODEL_8604834c7c4b4128913a78a575a60ded",
            "max": 11660,
            "min": 0,
            "orientation": "horizontal",
            "style": "IPY_MODEL_423df823cb4841a592dd3920860a11ab",
            "value": 11660
          }
        },
        "d9c666391eb446da9d18e935e70f467f": {
          "model_module": "@jupyter-widgets/controls",
          "model_name": "HTMLModel",
          "model_module_version": "1.5.0",
          "state": {
            "_dom_classes": [],
            "_model_module": "@jupyter-widgets/controls",
            "_model_module_version": "1.5.0",
            "_model_name": "HTMLModel",
            "_view_count": null,
            "_view_module": "@jupyter-widgets/controls",
            "_view_module_version": "1.5.0",
            "_view_name": "HTMLView",
            "description": "",
            "description_tooltip": null,
            "layout": "IPY_MODEL_8197e73be39042a0a2e9641c24888bb1",
            "placeholder": "​",
            "style": "IPY_MODEL_2f94d00d7522449c965a1c604de117f0",
            "value": " 11660/11660 [00:38&lt;00:00, 35.99 examples/s]"
          }
        },
        "f74a45d4522f46788d2a2d8f8c3ba9e6": {
          "model_module": "@jupyter-widgets/base",
          "model_name": "LayoutModel",
          "model_module_version": "1.2.0",
          "state": {
            "_model_module": "@jupyter-widgets/base",
            "_model_module_version": "1.2.0",
            "_model_name": "LayoutModel",
            "_view_count": null,
            "_view_module": "@jupyter-widgets/base",
            "_view_module_version": "1.2.0",
            "_view_name": "LayoutView",
            "align_content": null,
            "align_items": null,
            "align_self": null,
            "border": null,
            "bottom": null,
            "display": null,
            "flex": null,
            "flex_flow": null,
            "grid_area": null,
            "grid_auto_columns": null,
            "grid_auto_flow": null,
            "grid_auto_rows": null,
            "grid_column": null,
            "grid_gap": null,
            "grid_row": null,
            "grid_template_areas": null,
            "grid_template_columns": null,
            "grid_template_rows": null,
            "height": null,
            "justify_content": null,
            "justify_items": null,
            "left": null,
            "margin": null,
            "max_height": null,
            "max_width": null,
            "min_height": null,
            "min_width": null,
            "object_fit": null,
            "object_position": null,
            "order": null,
            "overflow": null,
            "overflow_x": null,
            "overflow_y": null,
            "padding": null,
            "right": null,
            "top": null,
            "visibility": "hidden",
            "width": null
          }
        },
        "7bd904f688e04b3fa0b890db2e4cf180": {
          "model_module": "@jupyter-widgets/base",
          "model_name": "LayoutModel",
          "model_module_version": "1.2.0",
          "state": {
            "_model_module": "@jupyter-widgets/base",
            "_model_module_version": "1.2.0",
            "_model_name": "LayoutModel",
            "_view_count": null,
            "_view_module": "@jupyter-widgets/base",
            "_view_module_version": "1.2.0",
            "_view_name": "LayoutView",
            "align_content": null,
            "align_items": null,
            "align_self": null,
            "border": null,
            "bottom": null,
            "display": null,
            "flex": null,
            "flex_flow": null,
            "grid_area": null,
            "grid_auto_columns": null,
            "grid_auto_flow": null,
            "grid_auto_rows": null,
            "grid_column": null,
            "grid_gap": null,
            "grid_row": null,
            "grid_template_areas": null,
            "grid_template_columns": null,
            "grid_template_rows": null,
            "height": null,
            "justify_content": null,
            "justify_items": null,
            "left": null,
            "margin": null,
            "max_height": null,
            "max_width": null,
            "min_height": null,
            "min_width": null,
            "object_fit": null,
            "object_position": null,
            "order": null,
            "overflow": null,
            "overflow_x": null,
            "overflow_y": null,
            "padding": null,
            "right": null,
            "top": null,
            "visibility": null,
            "width": null
          }
        },
        "17cd739287dd48faaa8d4f89aec28f00": {
          "model_module": "@jupyter-widgets/controls",
          "model_name": "DescriptionStyleModel",
          "model_module_version": "1.5.0",
          "state": {
            "_model_module": "@jupyter-widgets/controls",
            "_model_module_version": "1.5.0",
            "_model_name": "DescriptionStyleModel",
            "_view_count": null,
            "_view_module": "@jupyter-widgets/base",
            "_view_module_version": "1.2.0",
            "_view_name": "StyleView",
            "description_width": ""
          }
        },
        "8604834c7c4b4128913a78a575a60ded": {
          "model_module": "@jupyter-widgets/base",
          "model_name": "LayoutModel",
          "model_module_version": "1.2.0",
          "state": {
            "_model_module": "@jupyter-widgets/base",
            "_model_module_version": "1.2.0",
            "_model_name": "LayoutModel",
            "_view_count": null,
            "_view_module": "@jupyter-widgets/base",
            "_view_module_version": "1.2.0",
            "_view_name": "LayoutView",
            "align_content": null,
            "align_items": null,
            "align_self": null,
            "border": null,
            "bottom": null,
            "display": null,
            "flex": null,
            "flex_flow": null,
            "grid_area": null,
            "grid_auto_columns": null,
            "grid_auto_flow": null,
            "grid_auto_rows": null,
            "grid_column": null,
            "grid_gap": null,
            "grid_row": null,
            "grid_template_areas": null,
            "grid_template_columns": null,
            "grid_template_rows": null,
            "height": null,
            "justify_content": null,
            "justify_items": null,
            "left": null,
            "margin": null,
            "max_height": null,
            "max_width": null,
            "min_height": null,
            "min_width": null,
            "object_fit": null,
            "object_position": null,
            "order": null,
            "overflow": null,
            "overflow_x": null,
            "overflow_y": null,
            "padding": null,
            "right": null,
            "top": null,
            "visibility": null,
            "width": null
          }
        },
        "423df823cb4841a592dd3920860a11ab": {
          "model_module": "@jupyter-widgets/controls",
          "model_name": "ProgressStyleModel",
          "model_module_version": "1.5.0",
          "state": {
            "_model_module": "@jupyter-widgets/controls",
            "_model_module_version": "1.5.0",
            "_model_name": "ProgressStyleModel",
            "_view_count": null,
            "_view_module": "@jupyter-widgets/base",
            "_view_module_version": "1.2.0",
            "_view_name": "StyleView",
            "bar_color": null,
            "description_width": ""
          }
        },
        "8197e73be39042a0a2e9641c24888bb1": {
          "model_module": "@jupyter-widgets/base",
          "model_name": "LayoutModel",
          "model_module_version": "1.2.0",
          "state": {
            "_model_module": "@jupyter-widgets/base",
            "_model_module_version": "1.2.0",
            "_model_name": "LayoutModel",
            "_view_count": null,
            "_view_module": "@jupyter-widgets/base",
            "_view_module_version": "1.2.0",
            "_view_name": "LayoutView",
            "align_content": null,
            "align_items": null,
            "align_self": null,
            "border": null,
            "bottom": null,
            "display": null,
            "flex": null,
            "flex_flow": null,
            "grid_area": null,
            "grid_auto_columns": null,
            "grid_auto_flow": null,
            "grid_auto_rows": null,
            "grid_column": null,
            "grid_gap": null,
            "grid_row": null,
            "grid_template_areas": null,
            "grid_template_columns": null,
            "grid_template_rows": null,
            "height": null,
            "justify_content": null,
            "justify_items": null,
            "left": null,
            "margin": null,
            "max_height": null,
            "max_width": null,
            "min_height": null,
            "min_width": null,
            "object_fit": null,
            "object_position": null,
            "order": null,
            "overflow": null,
            "overflow_x": null,
            "overflow_y": null,
            "padding": null,
            "right": null,
            "top": null,
            "visibility": null,
            "width": null
          }
        },
        "2f94d00d7522449c965a1c604de117f0": {
          "model_module": "@jupyter-widgets/controls",
          "model_name": "DescriptionStyleModel",
          "model_module_version": "1.5.0",
          "state": {
            "_model_module": "@jupyter-widgets/controls",
            "_model_module_version": "1.5.0",
            "_model_name": "DescriptionStyleModel",
            "_view_count": null,
            "_view_module": "@jupyter-widgets/base",
            "_view_module_version": "1.2.0",
            "_view_name": "StyleView",
            "description_width": ""
          }
        },
        "46da03ac118f4daba8dd6581412bf574": {
          "model_module": "@jupyter-widgets/controls",
          "model_name": "HBoxModel",
          "model_module_version": "1.5.0",
          "state": {
            "_dom_classes": [],
            "_model_module": "@jupyter-widgets/controls",
            "_model_module_version": "1.5.0",
            "_model_name": "HBoxModel",
            "_view_count": null,
            "_view_module": "@jupyter-widgets/controls",
            "_view_module_version": "1.5.0",
            "_view_name": "HBoxView",
            "box_style": "",
            "children": [
              "IPY_MODEL_10dd429c845f41028d4274059b0b4ec6",
              "IPY_MODEL_b6b54c8324094ecc915bbc68cce1890d",
              "IPY_MODEL_8ec04e24a1064c95969f96a29f2d5fb2"
            ],
            "layout": "IPY_MODEL_01b39336f099412cb02dc4b439adf173"
          }
        },
        "10dd429c845f41028d4274059b0b4ec6": {
          "model_module": "@jupyter-widgets/controls",
          "model_name": "HTMLModel",
          "model_module_version": "1.5.0",
          "state": {
            "_dom_classes": [],
            "_model_module": "@jupyter-widgets/controls",
            "_model_module_version": "1.5.0",
            "_model_name": "HTMLModel",
            "_view_count": null,
            "_view_module": "@jupyter-widgets/controls",
            "_view_module_version": "1.5.0",
            "_view_name": "HTMLView",
            "description": "",
            "description_tooltip": null,
            "layout": "IPY_MODEL_c4d8f0cf85e84556b4702bafd71c881c",
            "placeholder": "​",
            "style": "IPY_MODEL_16a56948aecd443bb0160639df0b3c30",
            "value": "Map (num_proc=4):  92%"
          }
        },
        "b6b54c8324094ecc915bbc68cce1890d": {
          "model_module": "@jupyter-widgets/controls",
          "model_name": "FloatProgressModel",
          "model_module_version": "1.5.0",
          "state": {
            "_dom_classes": [],
            "_model_module": "@jupyter-widgets/controls",
            "_model_module_version": "1.5.0",
            "_model_name": "FloatProgressModel",
            "_view_count": null,
            "_view_module": "@jupyter-widgets/controls",
            "_view_module_version": "1.5.0",
            "_view_name": "ProgressView",
            "bar_style": "",
            "description": "",
            "description_tooltip": null,
            "layout": "IPY_MODEL_cc0bf95dcb7744cc82805583670917ba",
            "max": 760,
            "min": 0,
            "orientation": "horizontal",
            "style": "IPY_MODEL_c48a9510e2484242ba1cb176b2dcc1a7",
            "value": 760
          }
        },
        "8ec04e24a1064c95969f96a29f2d5fb2": {
          "model_module": "@jupyter-widgets/controls",
          "model_name": "HTMLModel",
          "model_module_version": "1.5.0",
          "state": {
            "_dom_classes": [],
            "_model_module": "@jupyter-widgets/controls",
            "_model_module_version": "1.5.0",
            "_model_name": "HTMLModel",
            "_view_count": null,
            "_view_module": "@jupyter-widgets/controls",
            "_view_module_version": "1.5.0",
            "_view_name": "HTMLView",
            "description": "",
            "description_tooltip": null,
            "layout": "IPY_MODEL_2c2a85d8c2374082a5e1549a66f74c5b",
            "placeholder": "​",
            "style": "IPY_MODEL_15580f60b9cb40b78b1d37cb7d7afd2c",
            "value": " 700/760 [00:16&lt;00:00, 172.64 examples/s]"
          }
        },
        "01b39336f099412cb02dc4b439adf173": {
          "model_module": "@jupyter-widgets/base",
          "model_name": "LayoutModel",
          "model_module_version": "1.2.0",
          "state": {
            "_model_module": "@jupyter-widgets/base",
            "_model_module_version": "1.2.0",
            "_model_name": "LayoutModel",
            "_view_count": null,
            "_view_module": "@jupyter-widgets/base",
            "_view_module_version": "1.2.0",
            "_view_name": "LayoutView",
            "align_content": null,
            "align_items": null,
            "align_self": null,
            "border": null,
            "bottom": null,
            "display": null,
            "flex": null,
            "flex_flow": null,
            "grid_area": null,
            "grid_auto_columns": null,
            "grid_auto_flow": null,
            "grid_auto_rows": null,
            "grid_column": null,
            "grid_gap": null,
            "grid_row": null,
            "grid_template_areas": null,
            "grid_template_columns": null,
            "grid_template_rows": null,
            "height": null,
            "justify_content": null,
            "justify_items": null,
            "left": null,
            "margin": null,
            "max_height": null,
            "max_width": null,
            "min_height": null,
            "min_width": null,
            "object_fit": null,
            "object_position": null,
            "order": null,
            "overflow": null,
            "overflow_x": null,
            "overflow_y": null,
            "padding": null,
            "right": null,
            "top": null,
            "visibility": "hidden",
            "width": null
          }
        },
        "c4d8f0cf85e84556b4702bafd71c881c": {
          "model_module": "@jupyter-widgets/base",
          "model_name": "LayoutModel",
          "model_module_version": "1.2.0",
          "state": {
            "_model_module": "@jupyter-widgets/base",
            "_model_module_version": "1.2.0",
            "_model_name": "LayoutModel",
            "_view_count": null,
            "_view_module": "@jupyter-widgets/base",
            "_view_module_version": "1.2.0",
            "_view_name": "LayoutView",
            "align_content": null,
            "align_items": null,
            "align_self": null,
            "border": null,
            "bottom": null,
            "display": null,
            "flex": null,
            "flex_flow": null,
            "grid_area": null,
            "grid_auto_columns": null,
            "grid_auto_flow": null,
            "grid_auto_rows": null,
            "grid_column": null,
            "grid_gap": null,
            "grid_row": null,
            "grid_template_areas": null,
            "grid_template_columns": null,
            "grid_template_rows": null,
            "height": null,
            "justify_content": null,
            "justify_items": null,
            "left": null,
            "margin": null,
            "max_height": null,
            "max_width": null,
            "min_height": null,
            "min_width": null,
            "object_fit": null,
            "object_position": null,
            "order": null,
            "overflow": null,
            "overflow_x": null,
            "overflow_y": null,
            "padding": null,
            "right": null,
            "top": null,
            "visibility": null,
            "width": null
          }
        },
        "16a56948aecd443bb0160639df0b3c30": {
          "model_module": "@jupyter-widgets/controls",
          "model_name": "DescriptionStyleModel",
          "model_module_version": "1.5.0",
          "state": {
            "_model_module": "@jupyter-widgets/controls",
            "_model_module_version": "1.5.0",
            "_model_name": "DescriptionStyleModel",
            "_view_count": null,
            "_view_module": "@jupyter-widgets/base",
            "_view_module_version": "1.2.0",
            "_view_name": "StyleView",
            "description_width": ""
          }
        },
        "cc0bf95dcb7744cc82805583670917ba": {
          "model_module": "@jupyter-widgets/base",
          "model_name": "LayoutModel",
          "model_module_version": "1.2.0",
          "state": {
            "_model_module": "@jupyter-widgets/base",
            "_model_module_version": "1.2.0",
            "_model_name": "LayoutModel",
            "_view_count": null,
            "_view_module": "@jupyter-widgets/base",
            "_view_module_version": "1.2.0",
            "_view_name": "LayoutView",
            "align_content": null,
            "align_items": null,
            "align_self": null,
            "border": null,
            "bottom": null,
            "display": null,
            "flex": null,
            "flex_flow": null,
            "grid_area": null,
            "grid_auto_columns": null,
            "grid_auto_flow": null,
            "grid_auto_rows": null,
            "grid_column": null,
            "grid_gap": null,
            "grid_row": null,
            "grid_template_areas": null,
            "grid_template_columns": null,
            "grid_template_rows": null,
            "height": null,
            "justify_content": null,
            "justify_items": null,
            "left": null,
            "margin": null,
            "max_height": null,
            "max_width": null,
            "min_height": null,
            "min_width": null,
            "object_fit": null,
            "object_position": null,
            "order": null,
            "overflow": null,
            "overflow_x": null,
            "overflow_y": null,
            "padding": null,
            "right": null,
            "top": null,
            "visibility": null,
            "width": null
          }
        },
        "c48a9510e2484242ba1cb176b2dcc1a7": {
          "model_module": "@jupyter-widgets/controls",
          "model_name": "ProgressStyleModel",
          "model_module_version": "1.5.0",
          "state": {
            "_model_module": "@jupyter-widgets/controls",
            "_model_module_version": "1.5.0",
            "_model_name": "ProgressStyleModel",
            "_view_count": null,
            "_view_module": "@jupyter-widgets/base",
            "_view_module_version": "1.2.0",
            "_view_name": "StyleView",
            "bar_color": null,
            "description_width": ""
          }
        },
        "2c2a85d8c2374082a5e1549a66f74c5b": {
          "model_module": "@jupyter-widgets/base",
          "model_name": "LayoutModel",
          "model_module_version": "1.2.0",
          "state": {
            "_model_module": "@jupyter-widgets/base",
            "_model_module_version": "1.2.0",
            "_model_name": "LayoutModel",
            "_view_count": null,
            "_view_module": "@jupyter-widgets/base",
            "_view_module_version": "1.2.0",
            "_view_name": "LayoutView",
            "align_content": null,
            "align_items": null,
            "align_self": null,
            "border": null,
            "bottom": null,
            "display": null,
            "flex": null,
            "flex_flow": null,
            "grid_area": null,
            "grid_auto_columns": null,
            "grid_auto_flow": null,
            "grid_auto_rows": null,
            "grid_column": null,
            "grid_gap": null,
            "grid_row": null,
            "grid_template_areas": null,
            "grid_template_columns": null,
            "grid_template_rows": null,
            "height": null,
            "justify_content": null,
            "justify_items": null,
            "left": null,
            "margin": null,
            "max_height": null,
            "max_width": null,
            "min_height": null,
            "min_width": null,
            "object_fit": null,
            "object_position": null,
            "order": null,
            "overflow": null,
            "overflow_x": null,
            "overflow_y": null,
            "padding": null,
            "right": null,
            "top": null,
            "visibility": null,
            "width": null
          }
        },
        "15580f60b9cb40b78b1d37cb7d7afd2c": {
          "model_module": "@jupyter-widgets/controls",
          "model_name": "DescriptionStyleModel",
          "model_module_version": "1.5.0",
          "state": {
            "_model_module": "@jupyter-widgets/controls",
            "_model_module_version": "1.5.0",
            "_model_name": "DescriptionStyleModel",
            "_view_count": null,
            "_view_module": "@jupyter-widgets/base",
            "_view_module_version": "1.2.0",
            "_view_name": "StyleView",
            "description_width": ""
          }
        },
        "ffce400208ae472eb89c4b3c82eae000": {
          "model_module": "@jupyter-widgets/controls",
          "model_name": "HBoxModel",
          "model_module_version": "1.5.0",
          "state": {
            "_dom_classes": [],
            "_model_module": "@jupyter-widgets/controls",
            "_model_module_version": "1.5.0",
            "_model_name": "HBoxModel",
            "_view_count": null,
            "_view_module": "@jupyter-widgets/controls",
            "_view_module_version": "1.5.0",
            "_view_name": "HBoxView",
            "box_style": "",
            "children": [
              "IPY_MODEL_5bac697560cb461d8a3a2c5cd5b31532",
              "IPY_MODEL_2a8c45f42db8411fb78fd6dd2bad5394",
              "IPY_MODEL_59b85b9f354c41039b10f547567ed49c"
            ],
            "layout": "IPY_MODEL_c6af001c388344c3bc36ce195fb619b0"
          }
        },
        "5bac697560cb461d8a3a2c5cd5b31532": {
          "model_module": "@jupyter-widgets/controls",
          "model_name": "HTMLModel",
          "model_module_version": "1.5.0",
          "state": {
            "_dom_classes": [],
            "_model_module": "@jupyter-widgets/controls",
            "_model_module_version": "1.5.0",
            "_model_name": "HTMLModel",
            "_view_count": null,
            "_view_module": "@jupyter-widgets/controls",
            "_view_module_version": "1.5.0",
            "_view_name": "HTMLView",
            "description": "",
            "description_tooltip": null,
            "layout": "IPY_MODEL_4b9badf5d8c34f39ad02531476d1539a",
            "placeholder": "​",
            "style": "IPY_MODEL_16137661128c4e14bcbb1cf316b0b180",
            "value": "Filter:   0%"
          }
        },
        "2a8c45f42db8411fb78fd6dd2bad5394": {
          "model_module": "@jupyter-widgets/controls",
          "model_name": "FloatProgressModel",
          "model_module_version": "1.5.0",
          "state": {
            "_dom_classes": [],
            "_model_module": "@jupyter-widgets/controls",
            "_model_module_version": "1.5.0",
            "_model_name": "FloatProgressModel",
            "_view_count": null,
            "_view_module": "@jupyter-widgets/controls",
            "_view_module_version": "1.5.0",
            "_view_name": "ProgressView",
            "bar_style": "",
            "description": "",
            "description_tooltip": null,
            "layout": "IPY_MODEL_b674cfa240534656be30d493afb2526e",
            "max": 11660,
            "min": 0,
            "orientation": "horizontal",
            "style": "IPY_MODEL_79b1be5db5df4bbea711817a22b03c73",
            "value": 11660
          }
        },
        "59b85b9f354c41039b10f547567ed49c": {
          "model_module": "@jupyter-widgets/controls",
          "model_name": "HTMLModel",
          "model_module_version": "1.5.0",
          "state": {
            "_dom_classes": [],
            "_model_module": "@jupyter-widgets/controls",
            "_model_module_version": "1.5.0",
            "_model_name": "HTMLModel",
            "_view_count": null,
            "_view_module": "@jupyter-widgets/controls",
            "_view_module_version": "1.5.0",
            "_view_name": "HTMLView",
            "description": "",
            "description_tooltip": null,
            "layout": "IPY_MODEL_1e8cada8d7b44e36ac462e0ab570db94",
            "placeholder": "​",
            "style": "IPY_MODEL_3bee2d73f4c2467bab3b7cd75bdca229",
            "value": " 0/11660 [00:00&lt;?, ? examples/s]"
          }
        },
        "c6af001c388344c3bc36ce195fb619b0": {
          "model_module": "@jupyter-widgets/base",
          "model_name": "LayoutModel",
          "model_module_version": "1.2.0",
          "state": {
            "_model_module": "@jupyter-widgets/base",
            "_model_module_version": "1.2.0",
            "_model_name": "LayoutModel",
            "_view_count": null,
            "_view_module": "@jupyter-widgets/base",
            "_view_module_version": "1.2.0",
            "_view_name": "LayoutView",
            "align_content": null,
            "align_items": null,
            "align_self": null,
            "border": null,
            "bottom": null,
            "display": null,
            "flex": null,
            "flex_flow": null,
            "grid_area": null,
            "grid_auto_columns": null,
            "grid_auto_flow": null,
            "grid_auto_rows": null,
            "grid_column": null,
            "grid_gap": null,
            "grid_row": null,
            "grid_template_areas": null,
            "grid_template_columns": null,
            "grid_template_rows": null,
            "height": null,
            "justify_content": null,
            "justify_items": null,
            "left": null,
            "margin": null,
            "max_height": null,
            "max_width": null,
            "min_height": null,
            "min_width": null,
            "object_fit": null,
            "object_position": null,
            "order": null,
            "overflow": null,
            "overflow_x": null,
            "overflow_y": null,
            "padding": null,
            "right": null,
            "top": null,
            "visibility": "hidden",
            "width": null
          }
        },
        "4b9badf5d8c34f39ad02531476d1539a": {
          "model_module": "@jupyter-widgets/base",
          "model_name": "LayoutModel",
          "model_module_version": "1.2.0",
          "state": {
            "_model_module": "@jupyter-widgets/base",
            "_model_module_version": "1.2.0",
            "_model_name": "LayoutModel",
            "_view_count": null,
            "_view_module": "@jupyter-widgets/base",
            "_view_module_version": "1.2.0",
            "_view_name": "LayoutView",
            "align_content": null,
            "align_items": null,
            "align_self": null,
            "border": null,
            "bottom": null,
            "display": null,
            "flex": null,
            "flex_flow": null,
            "grid_area": null,
            "grid_auto_columns": null,
            "grid_auto_flow": null,
            "grid_auto_rows": null,
            "grid_column": null,
            "grid_gap": null,
            "grid_row": null,
            "grid_template_areas": null,
            "grid_template_columns": null,
            "grid_template_rows": null,
            "height": null,
            "justify_content": null,
            "justify_items": null,
            "left": null,
            "margin": null,
            "max_height": null,
            "max_width": null,
            "min_height": null,
            "min_width": null,
            "object_fit": null,
            "object_position": null,
            "order": null,
            "overflow": null,
            "overflow_x": null,
            "overflow_y": null,
            "padding": null,
            "right": null,
            "top": null,
            "visibility": null,
            "width": null
          }
        },
        "16137661128c4e14bcbb1cf316b0b180": {
          "model_module": "@jupyter-widgets/controls",
          "model_name": "DescriptionStyleModel",
          "model_module_version": "1.5.0",
          "state": {
            "_model_module": "@jupyter-widgets/controls",
            "_model_module_version": "1.5.0",
            "_model_name": "DescriptionStyleModel",
            "_view_count": null,
            "_view_module": "@jupyter-widgets/base",
            "_view_module_version": "1.2.0",
            "_view_name": "StyleView",
            "description_width": ""
          }
        },
        "b674cfa240534656be30d493afb2526e": {
          "model_module": "@jupyter-widgets/base",
          "model_name": "LayoutModel",
          "model_module_version": "1.2.0",
          "state": {
            "_model_module": "@jupyter-widgets/base",
            "_model_module_version": "1.2.0",
            "_model_name": "LayoutModel",
            "_view_count": null,
            "_view_module": "@jupyter-widgets/base",
            "_view_module_version": "1.2.0",
            "_view_name": "LayoutView",
            "align_content": null,
            "align_items": null,
            "align_self": null,
            "border": null,
            "bottom": null,
            "display": null,
            "flex": null,
            "flex_flow": null,
            "grid_area": null,
            "grid_auto_columns": null,
            "grid_auto_flow": null,
            "grid_auto_rows": null,
            "grid_column": null,
            "grid_gap": null,
            "grid_row": null,
            "grid_template_areas": null,
            "grid_template_columns": null,
            "grid_template_rows": null,
            "height": null,
            "justify_content": null,
            "justify_items": null,
            "left": null,
            "margin": null,
            "max_height": null,
            "max_width": null,
            "min_height": null,
            "min_width": null,
            "object_fit": null,
            "object_position": null,
            "order": null,
            "overflow": null,
            "overflow_x": null,
            "overflow_y": null,
            "padding": null,
            "right": null,
            "top": null,
            "visibility": null,
            "width": null
          }
        },
        "79b1be5db5df4bbea711817a22b03c73": {
          "model_module": "@jupyter-widgets/controls",
          "model_name": "ProgressStyleModel",
          "model_module_version": "1.5.0",
          "state": {
            "_model_module": "@jupyter-widgets/controls",
            "_model_module_version": "1.5.0",
            "_model_name": "ProgressStyleModel",
            "_view_count": null,
            "_view_module": "@jupyter-widgets/base",
            "_view_module_version": "1.2.0",
            "_view_name": "StyleView",
            "bar_color": null,
            "description_width": ""
          }
        },
        "1e8cada8d7b44e36ac462e0ab570db94": {
          "model_module": "@jupyter-widgets/base",
          "model_name": "LayoutModel",
          "model_module_version": "1.2.0",
          "state": {
            "_model_module": "@jupyter-widgets/base",
            "_model_module_version": "1.2.0",
            "_model_name": "LayoutModel",
            "_view_count": null,
            "_view_module": "@jupyter-widgets/base",
            "_view_module_version": "1.2.0",
            "_view_name": "LayoutView",
            "align_content": null,
            "align_items": null,
            "align_self": null,
            "border": null,
            "bottom": null,
            "display": null,
            "flex": null,
            "flex_flow": null,
            "grid_area": null,
            "grid_auto_columns": null,
            "grid_auto_flow": null,
            "grid_auto_rows": null,
            "grid_column": null,
            "grid_gap": null,
            "grid_row": null,
            "grid_template_areas": null,
            "grid_template_columns": null,
            "grid_template_rows": null,
            "height": null,
            "justify_content": null,
            "justify_items": null,
            "left": null,
            "margin": null,
            "max_height": null,
            "max_width": null,
            "min_height": null,
            "min_width": null,
            "object_fit": null,
            "object_position": null,
            "order": null,
            "overflow": null,
            "overflow_x": null,
            "overflow_y": null,
            "padding": null,
            "right": null,
            "top": null,
            "visibility": null,
            "width": null
          }
        },
        "3bee2d73f4c2467bab3b7cd75bdca229": {
          "model_module": "@jupyter-widgets/controls",
          "model_name": "DescriptionStyleModel",
          "model_module_version": "1.5.0",
          "state": {
            "_model_module": "@jupyter-widgets/controls",
            "_model_module_version": "1.5.0",
            "_model_name": "DescriptionStyleModel",
            "_view_count": null,
            "_view_module": "@jupyter-widgets/base",
            "_view_module_version": "1.2.0",
            "_view_name": "StyleView",
            "description_width": ""
          }
        },
        "abf188e908834dcdb2b0dc85bf0cc12d": {
          "model_module": "@jupyter-widgets/controls",
          "model_name": "HBoxModel",
          "model_module_version": "1.5.0",
          "state": {
            "_dom_classes": [],
            "_model_module": "@jupyter-widgets/controls",
            "_model_module_version": "1.5.0",
            "_model_name": "HBoxModel",
            "_view_count": null,
            "_view_module": "@jupyter-widgets/controls",
            "_view_module_version": "1.5.0",
            "_view_name": "HBoxView",
            "box_style": "",
            "children": [
              "IPY_MODEL_714f0c5f0f014ce5813ce20b9a16ee1b",
              "IPY_MODEL_f6bf153d7c874976a27ed5aaa7c8ad8a",
              "IPY_MODEL_17aec255cfe14afdbdea010ef813e14f"
            ],
            "layout": "IPY_MODEL_ef67996ef8ca450389000a60a5fe71c1"
          }
        },
        "714f0c5f0f014ce5813ce20b9a16ee1b": {
          "model_module": "@jupyter-widgets/controls",
          "model_name": "HTMLModel",
          "model_module_version": "1.5.0",
          "state": {
            "_dom_classes": [],
            "_model_module": "@jupyter-widgets/controls",
            "_model_module_version": "1.5.0",
            "_model_name": "HTMLModel",
            "_view_count": null,
            "_view_module": "@jupyter-widgets/controls",
            "_view_module_version": "1.5.0",
            "_view_name": "HTMLView",
            "description": "",
            "description_tooltip": null,
            "layout": "IPY_MODEL_b1e8fd2fd3e04ca8bcf5f34153ef7fc7",
            "placeholder": "​",
            "style": "IPY_MODEL_41b131dc4cf145259017e35b6ee5ed29",
            "value": "Downloading builder script: "
          }
        },
        "f6bf153d7c874976a27ed5aaa7c8ad8a": {
          "model_module": "@jupyter-widgets/controls",
          "model_name": "FloatProgressModel",
          "model_module_version": "1.5.0",
          "state": {
            "_dom_classes": [],
            "_model_module": "@jupyter-widgets/controls",
            "_model_module_version": "1.5.0",
            "_model_name": "FloatProgressModel",
            "_view_count": null,
            "_view_module": "@jupyter-widgets/controls",
            "_view_module_version": "1.5.0",
            "_view_name": "ProgressView",
            "bar_style": "success",
            "description": "",
            "description_tooltip": null,
            "layout": "IPY_MODEL_5d85c120f0794b179e98f79694c4d17f",
            "max": 1901,
            "min": 0,
            "orientation": "horizontal",
            "style": "IPY_MODEL_8f88ded423744a73a6999939a1d970b1",
            "value": 1901
          }
        },
        "17aec255cfe14afdbdea010ef813e14f": {
          "model_module": "@jupyter-widgets/controls",
          "model_name": "HTMLModel",
          "model_module_version": "1.5.0",
          "state": {
            "_dom_classes": [],
            "_model_module": "@jupyter-widgets/controls",
            "_model_module_version": "1.5.0",
            "_model_name": "HTMLModel",
            "_view_count": null,
            "_view_module": "@jupyter-widgets/controls",
            "_view_module_version": "1.5.0",
            "_view_name": "HTMLView",
            "description": "",
            "description_tooltip": null,
            "layout": "IPY_MODEL_cf9f68c3103340b79b9248fac9f12b11",
            "placeholder": "​",
            "style": "IPY_MODEL_871efc06991d4cbb848d191dd58fe483",
            "value": " 4.48k/? [00:00&lt;00:00, 135kB/s]"
          }
        },
        "ef67996ef8ca450389000a60a5fe71c1": {
          "model_module": "@jupyter-widgets/base",
          "model_name": "LayoutModel",
          "model_module_version": "1.2.0",
          "state": {
            "_model_module": "@jupyter-widgets/base",
            "_model_module_version": "1.2.0",
            "_model_name": "LayoutModel",
            "_view_count": null,
            "_view_module": "@jupyter-widgets/base",
            "_view_module_version": "1.2.0",
            "_view_name": "LayoutView",
            "align_content": null,
            "align_items": null,
            "align_self": null,
            "border": null,
            "bottom": null,
            "display": null,
            "flex": null,
            "flex_flow": null,
            "grid_area": null,
            "grid_auto_columns": null,
            "grid_auto_flow": null,
            "grid_auto_rows": null,
            "grid_column": null,
            "grid_gap": null,
            "grid_row": null,
            "grid_template_areas": null,
            "grid_template_columns": null,
            "grid_template_rows": null,
            "height": null,
            "justify_content": null,
            "justify_items": null,
            "left": null,
            "margin": null,
            "max_height": null,
            "max_width": null,
            "min_height": null,
            "min_width": null,
            "object_fit": null,
            "object_position": null,
            "order": null,
            "overflow": null,
            "overflow_x": null,
            "overflow_y": null,
            "padding": null,
            "right": null,
            "top": null,
            "visibility": null,
            "width": null
          }
        },
        "b1e8fd2fd3e04ca8bcf5f34153ef7fc7": {
          "model_module": "@jupyter-widgets/base",
          "model_name": "LayoutModel",
          "model_module_version": "1.2.0",
          "state": {
            "_model_module": "@jupyter-widgets/base",
            "_model_module_version": "1.2.0",
            "_model_name": "LayoutModel",
            "_view_count": null,
            "_view_module": "@jupyter-widgets/base",
            "_view_module_version": "1.2.0",
            "_view_name": "LayoutView",
            "align_content": null,
            "align_items": null,
            "align_self": null,
            "border": null,
            "bottom": null,
            "display": null,
            "flex": null,
            "flex_flow": null,
            "grid_area": null,
            "grid_auto_columns": null,
            "grid_auto_flow": null,
            "grid_auto_rows": null,
            "grid_column": null,
            "grid_gap": null,
            "grid_row": null,
            "grid_template_areas": null,
            "grid_template_columns": null,
            "grid_template_rows": null,
            "height": null,
            "justify_content": null,
            "justify_items": null,
            "left": null,
            "margin": null,
            "max_height": null,
            "max_width": null,
            "min_height": null,
            "min_width": null,
            "object_fit": null,
            "object_position": null,
            "order": null,
            "overflow": null,
            "overflow_x": null,
            "overflow_y": null,
            "padding": null,
            "right": null,
            "top": null,
            "visibility": null,
            "width": null
          }
        },
        "41b131dc4cf145259017e35b6ee5ed29": {
          "model_module": "@jupyter-widgets/controls",
          "model_name": "DescriptionStyleModel",
          "model_module_version": "1.5.0",
          "state": {
            "_model_module": "@jupyter-widgets/controls",
            "_model_module_version": "1.5.0",
            "_model_name": "DescriptionStyleModel",
            "_view_count": null,
            "_view_module": "@jupyter-widgets/base",
            "_view_module_version": "1.2.0",
            "_view_name": "StyleView",
            "description_width": ""
          }
        },
        "5d85c120f0794b179e98f79694c4d17f": {
          "model_module": "@jupyter-widgets/base",
          "model_name": "LayoutModel",
          "model_module_version": "1.2.0",
          "state": {
            "_model_module": "@jupyter-widgets/base",
            "_model_module_version": "1.2.0",
            "_model_name": "LayoutModel",
            "_view_count": null,
            "_view_module": "@jupyter-widgets/base",
            "_view_module_version": "1.2.0",
            "_view_name": "LayoutView",
            "align_content": null,
            "align_items": null,
            "align_self": null,
            "border": null,
            "bottom": null,
            "display": null,
            "flex": null,
            "flex_flow": null,
            "grid_area": null,
            "grid_auto_columns": null,
            "grid_auto_flow": null,
            "grid_auto_rows": null,
            "grid_column": null,
            "grid_gap": null,
            "grid_row": null,
            "grid_template_areas": null,
            "grid_template_columns": null,
            "grid_template_rows": null,
            "height": null,
            "justify_content": null,
            "justify_items": null,
            "left": null,
            "margin": null,
            "max_height": null,
            "max_width": null,
            "min_height": null,
            "min_width": null,
            "object_fit": null,
            "object_position": null,
            "order": null,
            "overflow": null,
            "overflow_x": null,
            "overflow_y": null,
            "padding": null,
            "right": null,
            "top": null,
            "visibility": null,
            "width": null
          }
        },
        "8f88ded423744a73a6999939a1d970b1": {
          "model_module": "@jupyter-widgets/controls",
          "model_name": "ProgressStyleModel",
          "model_module_version": "1.5.0",
          "state": {
            "_model_module": "@jupyter-widgets/controls",
            "_model_module_version": "1.5.0",
            "_model_name": "ProgressStyleModel",
            "_view_count": null,
            "_view_module": "@jupyter-widgets/base",
            "_view_module_version": "1.2.0",
            "_view_name": "StyleView",
            "bar_color": null,
            "description_width": ""
          }
        },
        "cf9f68c3103340b79b9248fac9f12b11": {
          "model_module": "@jupyter-widgets/base",
          "model_name": "LayoutModel",
          "model_module_version": "1.2.0",
          "state": {
            "_model_module": "@jupyter-widgets/base",
            "_model_module_version": "1.2.0",
            "_model_name": "LayoutModel",
            "_view_count": null,
            "_view_module": "@jupyter-widgets/base",
            "_view_module_version": "1.2.0",
            "_view_name": "LayoutView",
            "align_content": null,
            "align_items": null,
            "align_self": null,
            "border": null,
            "bottom": null,
            "display": null,
            "flex": null,
            "flex_flow": null,
            "grid_area": null,
            "grid_auto_columns": null,
            "grid_auto_flow": null,
            "grid_auto_rows": null,
            "grid_column": null,
            "grid_gap": null,
            "grid_row": null,
            "grid_template_areas": null,
            "grid_template_columns": null,
            "grid_template_rows": null,
            "height": null,
            "justify_content": null,
            "justify_items": null,
            "left": null,
            "margin": null,
            "max_height": null,
            "max_width": null,
            "min_height": null,
            "min_width": null,
            "object_fit": null,
            "object_position": null,
            "order": null,
            "overflow": null,
            "overflow_x": null,
            "overflow_y": null,
            "padding": null,
            "right": null,
            "top": null,
            "visibility": null,
            "width": null
          }
        },
        "871efc06991d4cbb848d191dd58fe483": {
          "model_module": "@jupyter-widgets/controls",
          "model_name": "DescriptionStyleModel",
          "model_module_version": "1.5.0",
          "state": {
            "_model_module": "@jupyter-widgets/controls",
            "_model_module_version": "1.5.0",
            "_model_name": "DescriptionStyleModel",
            "_view_count": null,
            "_view_module": "@jupyter-widgets/base",
            "_view_module_version": "1.2.0",
            "_view_name": "StyleView",
            "description_width": ""
          }
        },
        "75e28f583ef8402385cf201d390c44f4": {
          "model_module": "@jupyter-widgets/controls",
          "model_name": "HBoxModel",
          "model_module_version": "1.5.0",
          "state": {
            "_dom_classes": [],
            "_model_module": "@jupyter-widgets/controls",
            "_model_module_version": "1.5.0",
            "_model_name": "HBoxModel",
            "_view_count": null,
            "_view_module": "@jupyter-widgets/controls",
            "_view_module_version": "1.5.0",
            "_view_name": "HBoxView",
            "box_style": "",
            "children": [
              "IPY_MODEL_de7ed9a8acc642718ac19c9ad2252204",
              "IPY_MODEL_eb785c26d89c4ff3bf9a258990c47442",
              "IPY_MODEL_f8a8e0062bc54d27a6f92b4b92ea1729"
            ],
            "layout": "IPY_MODEL_c0875d18686a475d82c3fec2f505eb19"
          }
        },
        "de7ed9a8acc642718ac19c9ad2252204": {
          "model_module": "@jupyter-widgets/controls",
          "model_name": "HTMLModel",
          "model_module_version": "1.5.0",
          "state": {
            "_dom_classes": [],
            "_model_module": "@jupyter-widgets/controls",
            "_model_module_version": "1.5.0",
            "_model_name": "HTMLModel",
            "_view_count": null,
            "_view_module": "@jupyter-widgets/controls",
            "_view_module_version": "1.5.0",
            "_view_name": "HTMLView",
            "description": "",
            "description_tooltip": null,
            "layout": "IPY_MODEL_78ade98ab19c40048cf90e14815da82e",
            "placeholder": "​",
            "style": "IPY_MODEL_0fb8aa19f84c4e44878548ae75e85665",
            "value": "Downloading (…)lve/main/config.json: 100%"
          }
        },
        "eb785c26d89c4ff3bf9a258990c47442": {
          "model_module": "@jupyter-widgets/controls",
          "model_name": "FloatProgressModel",
          "model_module_version": "1.5.0",
          "state": {
            "_dom_classes": [],
            "_model_module": "@jupyter-widgets/controls",
            "_model_module_version": "1.5.0",
            "_model_name": "FloatProgressModel",
            "_view_count": null,
            "_view_module": "@jupyter-widgets/controls",
            "_view_module_version": "1.5.0",
            "_view_name": "ProgressView",
            "bar_style": "success",
            "description": "",
            "description_tooltip": null,
            "layout": "IPY_MODEL_a8227cc7d47d4cae8d7a0ba320a66c80",
            "max": 1842,
            "min": 0,
            "orientation": "horizontal",
            "style": "IPY_MODEL_61da299e092c447e9ed6e53f75a206aa",
            "value": 1842
          }
        },
        "f8a8e0062bc54d27a6f92b4b92ea1729": {
          "model_module": "@jupyter-widgets/controls",
          "model_name": "HTMLModel",
          "model_module_version": "1.5.0",
          "state": {
            "_dom_classes": [],
            "_model_module": "@jupyter-widgets/controls",
            "_model_module_version": "1.5.0",
            "_model_name": "HTMLModel",
            "_view_count": null,
            "_view_module": "@jupyter-widgets/controls",
            "_view_module_version": "1.5.0",
            "_view_name": "HTMLView",
            "description": "",
            "description_tooltip": null,
            "layout": "IPY_MODEL_047d6a4e77a849c18994b90cea3d54eb",
            "placeholder": "​",
            "style": "IPY_MODEL_5a149902758e4f27ba92e72786a5be03",
            "value": " 1.84k/1.84k [00:00&lt;00:00, 39.3kB/s]"
          }
        },
        "c0875d18686a475d82c3fec2f505eb19": {
          "model_module": "@jupyter-widgets/base",
          "model_name": "LayoutModel",
          "model_module_version": "1.2.0",
          "state": {
            "_model_module": "@jupyter-widgets/base",
            "_model_module_version": "1.2.0",
            "_model_name": "LayoutModel",
            "_view_count": null,
            "_view_module": "@jupyter-widgets/base",
            "_view_module_version": "1.2.0",
            "_view_name": "LayoutView",
            "align_content": null,
            "align_items": null,
            "align_self": null,
            "border": null,
            "bottom": null,
            "display": null,
            "flex": null,
            "flex_flow": null,
            "grid_area": null,
            "grid_auto_columns": null,
            "grid_auto_flow": null,
            "grid_auto_rows": null,
            "grid_column": null,
            "grid_gap": null,
            "grid_row": null,
            "grid_template_areas": null,
            "grid_template_columns": null,
            "grid_template_rows": null,
            "height": null,
            "justify_content": null,
            "justify_items": null,
            "left": null,
            "margin": null,
            "max_height": null,
            "max_width": null,
            "min_height": null,
            "min_width": null,
            "object_fit": null,
            "object_position": null,
            "order": null,
            "overflow": null,
            "overflow_x": null,
            "overflow_y": null,
            "padding": null,
            "right": null,
            "top": null,
            "visibility": null,
            "width": null
          }
        },
        "78ade98ab19c40048cf90e14815da82e": {
          "model_module": "@jupyter-widgets/base",
          "model_name": "LayoutModel",
          "model_module_version": "1.2.0",
          "state": {
            "_model_module": "@jupyter-widgets/base",
            "_model_module_version": "1.2.0",
            "_model_name": "LayoutModel",
            "_view_count": null,
            "_view_module": "@jupyter-widgets/base",
            "_view_module_version": "1.2.0",
            "_view_name": "LayoutView",
            "align_content": null,
            "align_items": null,
            "align_self": null,
            "border": null,
            "bottom": null,
            "display": null,
            "flex": null,
            "flex_flow": null,
            "grid_area": null,
            "grid_auto_columns": null,
            "grid_auto_flow": null,
            "grid_auto_rows": null,
            "grid_column": null,
            "grid_gap": null,
            "grid_row": null,
            "grid_template_areas": null,
            "grid_template_columns": null,
            "grid_template_rows": null,
            "height": null,
            "justify_content": null,
            "justify_items": null,
            "left": null,
            "margin": null,
            "max_height": null,
            "max_width": null,
            "min_height": null,
            "min_width": null,
            "object_fit": null,
            "object_position": null,
            "order": null,
            "overflow": null,
            "overflow_x": null,
            "overflow_y": null,
            "padding": null,
            "right": null,
            "top": null,
            "visibility": null,
            "width": null
          }
        },
        "0fb8aa19f84c4e44878548ae75e85665": {
          "model_module": "@jupyter-widgets/controls",
          "model_name": "DescriptionStyleModel",
          "model_module_version": "1.5.0",
          "state": {
            "_model_module": "@jupyter-widgets/controls",
            "_model_module_version": "1.5.0",
            "_model_name": "DescriptionStyleModel",
            "_view_count": null,
            "_view_module": "@jupyter-widgets/base",
            "_view_module_version": "1.2.0",
            "_view_name": "StyleView",
            "description_width": ""
          }
        },
        "a8227cc7d47d4cae8d7a0ba320a66c80": {
          "model_module": "@jupyter-widgets/base",
          "model_name": "LayoutModel",
          "model_module_version": "1.2.0",
          "state": {
            "_model_module": "@jupyter-widgets/base",
            "_model_module_version": "1.2.0",
            "_model_name": "LayoutModel",
            "_view_count": null,
            "_view_module": "@jupyter-widgets/base",
            "_view_module_version": "1.2.0",
            "_view_name": "LayoutView",
            "align_content": null,
            "align_items": null,
            "align_self": null,
            "border": null,
            "bottom": null,
            "display": null,
            "flex": null,
            "flex_flow": null,
            "grid_area": null,
            "grid_auto_columns": null,
            "grid_auto_flow": null,
            "grid_auto_rows": null,
            "grid_column": null,
            "grid_gap": null,
            "grid_row": null,
            "grid_template_areas": null,
            "grid_template_columns": null,
            "grid_template_rows": null,
            "height": null,
            "justify_content": null,
            "justify_items": null,
            "left": null,
            "margin": null,
            "max_height": null,
            "max_width": null,
            "min_height": null,
            "min_width": null,
            "object_fit": null,
            "object_position": null,
            "order": null,
            "overflow": null,
            "overflow_x": null,
            "overflow_y": null,
            "padding": null,
            "right": null,
            "top": null,
            "visibility": null,
            "width": null
          }
        },
        "61da299e092c447e9ed6e53f75a206aa": {
          "model_module": "@jupyter-widgets/controls",
          "model_name": "ProgressStyleModel",
          "model_module_version": "1.5.0",
          "state": {
            "_model_module": "@jupyter-widgets/controls",
            "_model_module_version": "1.5.0",
            "_model_name": "ProgressStyleModel",
            "_view_count": null,
            "_view_module": "@jupyter-widgets/base",
            "_view_module_version": "1.2.0",
            "_view_name": "StyleView",
            "bar_color": null,
            "description_width": ""
          }
        },
        "047d6a4e77a849c18994b90cea3d54eb": {
          "model_module": "@jupyter-widgets/base",
          "model_name": "LayoutModel",
          "model_module_version": "1.2.0",
          "state": {
            "_model_module": "@jupyter-widgets/base",
            "_model_module_version": "1.2.0",
            "_model_name": "LayoutModel",
            "_view_count": null,
            "_view_module": "@jupyter-widgets/base",
            "_view_module_version": "1.2.0",
            "_view_name": "LayoutView",
            "align_content": null,
            "align_items": null,
            "align_self": null,
            "border": null,
            "bottom": null,
            "display": null,
            "flex": null,
            "flex_flow": null,
            "grid_area": null,
            "grid_auto_columns": null,
            "grid_auto_flow": null,
            "grid_auto_rows": null,
            "grid_column": null,
            "grid_gap": null,
            "grid_row": null,
            "grid_template_areas": null,
            "grid_template_columns": null,
            "grid_template_rows": null,
            "height": null,
            "justify_content": null,
            "justify_items": null,
            "left": null,
            "margin": null,
            "max_height": null,
            "max_width": null,
            "min_height": null,
            "min_width": null,
            "object_fit": null,
            "object_position": null,
            "order": null,
            "overflow": null,
            "overflow_x": null,
            "overflow_y": null,
            "padding": null,
            "right": null,
            "top": null,
            "visibility": null,
            "width": null
          }
        },
        "5a149902758e4f27ba92e72786a5be03": {
          "model_module": "@jupyter-widgets/controls",
          "model_name": "DescriptionStyleModel",
          "model_module_version": "1.5.0",
          "state": {
            "_model_module": "@jupyter-widgets/controls",
            "_model_module_version": "1.5.0",
            "_model_name": "DescriptionStyleModel",
            "_view_count": null,
            "_view_module": "@jupyter-widgets/base",
            "_view_module_version": "1.2.0",
            "_view_name": "StyleView",
            "description_width": ""
          }
        },
        "cd503a51586d41e7b85e0d1dc0b43bee": {
          "model_module": "@jupyter-widgets/controls",
          "model_name": "HBoxModel",
          "model_module_version": "1.5.0",
          "state": {
            "_dom_classes": [],
            "_model_module": "@jupyter-widgets/controls",
            "_model_module_version": "1.5.0",
            "_model_name": "HBoxModel",
            "_view_count": null,
            "_view_module": "@jupyter-widgets/controls",
            "_view_module_version": "1.5.0",
            "_view_name": "HBoxView",
            "box_style": "",
            "children": [
              "IPY_MODEL_0c45d5fa96ba4b6f894101569bea0bf7",
              "IPY_MODEL_1def4a704e2048e1a49bca427e212d8f",
              "IPY_MODEL_3e6b7a0b656e43c6b2057a7ad7167a38"
            ],
            "layout": "IPY_MODEL_49f002eb72d3440fa8483a511d4b658b"
          }
        },
        "0c45d5fa96ba4b6f894101569bea0bf7": {
          "model_module": "@jupyter-widgets/controls",
          "model_name": "HTMLModel",
          "model_module_version": "1.5.0",
          "state": {
            "_dom_classes": [],
            "_model_module": "@jupyter-widgets/controls",
            "_model_module_version": "1.5.0",
            "_model_name": "HTMLModel",
            "_view_count": null,
            "_view_module": "@jupyter-widgets/controls",
            "_view_module_version": "1.5.0",
            "_view_name": "HTMLView",
            "description": "",
            "description_tooltip": null,
            "layout": "IPY_MODEL_0e0385252ec94f85ae4e68ee2ff42bb5",
            "placeholder": "​",
            "style": "IPY_MODEL_52ebf02da4f94e72a25319d5289ae015",
            "value": "Downloading (…)&quot;pytorch_model.bin&quot;;: 100%"
          }
        },
        "1def4a704e2048e1a49bca427e212d8f": {
          "model_module": "@jupyter-widgets/controls",
          "model_name": "FloatProgressModel",
          "model_module_version": "1.5.0",
          "state": {
            "_dom_classes": [],
            "_model_module": "@jupyter-widgets/controls",
            "_model_module_version": "1.5.0",
            "_model_name": "FloatProgressModel",
            "_view_count": null,
            "_view_module": "@jupyter-widgets/controls",
            "_view_module_version": "1.5.0",
            "_view_name": "ProgressView",
            "bar_style": "success",
            "description": "",
            "description_tooltip": null,
            "layout": "IPY_MODEL_eb6dfac09d58478eba8db4abe5fc4baf",
            "max": 380267417,
            "min": 0,
            "orientation": "horizontal",
            "style": "IPY_MODEL_ad7d783770c84a54a8661e99c0e8a624",
            "value": 380267417
          }
        },
        "3e6b7a0b656e43c6b2057a7ad7167a38": {
          "model_module": "@jupyter-widgets/controls",
          "model_name": "HTMLModel",
          "model_module_version": "1.5.0",
          "state": {
            "_dom_classes": [],
            "_model_module": "@jupyter-widgets/controls",
            "_model_module_version": "1.5.0",
            "_model_name": "HTMLModel",
            "_view_count": null,
            "_view_module": "@jupyter-widgets/controls",
            "_view_module_version": "1.5.0",
            "_view_name": "HTMLView",
            "description": "",
            "description_tooltip": null,
            "layout": "IPY_MODEL_941eb0966b74457cbf992430c10fa492",
            "placeholder": "​",
            "style": "IPY_MODEL_a083edd9d407493ea46ae950830b0704",
            "value": " 380M/380M [00:04&lt;00:00, 84.6MB/s]"
          }
        },
        "49f002eb72d3440fa8483a511d4b658b": {
          "model_module": "@jupyter-widgets/base",
          "model_name": "LayoutModel",
          "model_module_version": "1.2.0",
          "state": {
            "_model_module": "@jupyter-widgets/base",
            "_model_module_version": "1.2.0",
            "_model_name": "LayoutModel",
            "_view_count": null,
            "_view_module": "@jupyter-widgets/base",
            "_view_module_version": "1.2.0",
            "_view_name": "LayoutView",
            "align_content": null,
            "align_items": null,
            "align_self": null,
            "border": null,
            "bottom": null,
            "display": null,
            "flex": null,
            "flex_flow": null,
            "grid_area": null,
            "grid_auto_columns": null,
            "grid_auto_flow": null,
            "grid_auto_rows": null,
            "grid_column": null,
            "grid_gap": null,
            "grid_row": null,
            "grid_template_areas": null,
            "grid_template_columns": null,
            "grid_template_rows": null,
            "height": null,
            "justify_content": null,
            "justify_items": null,
            "left": null,
            "margin": null,
            "max_height": null,
            "max_width": null,
            "min_height": null,
            "min_width": null,
            "object_fit": null,
            "object_position": null,
            "order": null,
            "overflow": null,
            "overflow_x": null,
            "overflow_y": null,
            "padding": null,
            "right": null,
            "top": null,
            "visibility": null,
            "width": null
          }
        },
        "0e0385252ec94f85ae4e68ee2ff42bb5": {
          "model_module": "@jupyter-widgets/base",
          "model_name": "LayoutModel",
          "model_module_version": "1.2.0",
          "state": {
            "_model_module": "@jupyter-widgets/base",
            "_model_module_version": "1.2.0",
            "_model_name": "LayoutModel",
            "_view_count": null,
            "_view_module": "@jupyter-widgets/base",
            "_view_module_version": "1.2.0",
            "_view_name": "LayoutView",
            "align_content": null,
            "align_items": null,
            "align_self": null,
            "border": null,
            "bottom": null,
            "display": null,
            "flex": null,
            "flex_flow": null,
            "grid_area": null,
            "grid_auto_columns": null,
            "grid_auto_flow": null,
            "grid_auto_rows": null,
            "grid_column": null,
            "grid_gap": null,
            "grid_row": null,
            "grid_template_areas": null,
            "grid_template_columns": null,
            "grid_template_rows": null,
            "height": null,
            "justify_content": null,
            "justify_items": null,
            "left": null,
            "margin": null,
            "max_height": null,
            "max_width": null,
            "min_height": null,
            "min_width": null,
            "object_fit": null,
            "object_position": null,
            "order": null,
            "overflow": null,
            "overflow_x": null,
            "overflow_y": null,
            "padding": null,
            "right": null,
            "top": null,
            "visibility": null,
            "width": null
          }
        },
        "52ebf02da4f94e72a25319d5289ae015": {
          "model_module": "@jupyter-widgets/controls",
          "model_name": "DescriptionStyleModel",
          "model_module_version": "1.5.0",
          "state": {
            "_model_module": "@jupyter-widgets/controls",
            "_model_module_version": "1.5.0",
            "_model_name": "DescriptionStyleModel",
            "_view_count": null,
            "_view_module": "@jupyter-widgets/base",
            "_view_module_version": "1.2.0",
            "_view_name": "StyleView",
            "description_width": ""
          }
        },
        "eb6dfac09d58478eba8db4abe5fc4baf": {
          "model_module": "@jupyter-widgets/base",
          "model_name": "LayoutModel",
          "model_module_version": "1.2.0",
          "state": {
            "_model_module": "@jupyter-widgets/base",
            "_model_module_version": "1.2.0",
            "_model_name": "LayoutModel",
            "_view_count": null,
            "_view_module": "@jupyter-widgets/base",
            "_view_module_version": "1.2.0",
            "_view_name": "LayoutView",
            "align_content": null,
            "align_items": null,
            "align_self": null,
            "border": null,
            "bottom": null,
            "display": null,
            "flex": null,
            "flex_flow": null,
            "grid_area": null,
            "grid_auto_columns": null,
            "grid_auto_flow": null,
            "grid_auto_rows": null,
            "grid_column": null,
            "grid_gap": null,
            "grid_row": null,
            "grid_template_areas": null,
            "grid_template_columns": null,
            "grid_template_rows": null,
            "height": null,
            "justify_content": null,
            "justify_items": null,
            "left": null,
            "margin": null,
            "max_height": null,
            "max_width": null,
            "min_height": null,
            "min_width": null,
            "object_fit": null,
            "object_position": null,
            "order": null,
            "overflow": null,
            "overflow_x": null,
            "overflow_y": null,
            "padding": null,
            "right": null,
            "top": null,
            "visibility": null,
            "width": null
          }
        },
        "ad7d783770c84a54a8661e99c0e8a624": {
          "model_module": "@jupyter-widgets/controls",
          "model_name": "ProgressStyleModel",
          "model_module_version": "1.5.0",
          "state": {
            "_model_module": "@jupyter-widgets/controls",
            "_model_module_version": "1.5.0",
            "_model_name": "ProgressStyleModel",
            "_view_count": null,
            "_view_module": "@jupyter-widgets/base",
            "_view_module_version": "1.2.0",
            "_view_name": "StyleView",
            "bar_color": null,
            "description_width": ""
          }
        },
        "941eb0966b74457cbf992430c10fa492": {
          "model_module": "@jupyter-widgets/base",
          "model_name": "LayoutModel",
          "model_module_version": "1.2.0",
          "state": {
            "_model_module": "@jupyter-widgets/base",
            "_model_module_version": "1.2.0",
            "_model_name": "LayoutModel",
            "_view_count": null,
            "_view_module": "@jupyter-widgets/base",
            "_view_module_version": "1.2.0",
            "_view_name": "LayoutView",
            "align_content": null,
            "align_items": null,
            "align_self": null,
            "border": null,
            "bottom": null,
            "display": null,
            "flex": null,
            "flex_flow": null,
            "grid_area": null,
            "grid_auto_columns": null,
            "grid_auto_flow": null,
            "grid_auto_rows": null,
            "grid_column": null,
            "grid_gap": null,
            "grid_row": null,
            "grid_template_areas": null,
            "grid_template_columns": null,
            "grid_template_rows": null,
            "height": null,
            "justify_content": null,
            "justify_items": null,
            "left": null,
            "margin": null,
            "max_height": null,
            "max_width": null,
            "min_height": null,
            "min_width": null,
            "object_fit": null,
            "object_position": null,
            "order": null,
            "overflow": null,
            "overflow_x": null,
            "overflow_y": null,
            "padding": null,
            "right": null,
            "top": null,
            "visibility": null,
            "width": null
          }
        },
        "a083edd9d407493ea46ae950830b0704": {
          "model_module": "@jupyter-widgets/controls",
          "model_name": "DescriptionStyleModel",
          "model_module_version": "1.5.0",
          "state": {
            "_model_module": "@jupyter-widgets/controls",
            "_model_module_version": "1.5.0",
            "_model_name": "DescriptionStyleModel",
            "_view_count": null,
            "_view_module": "@jupyter-widgets/base",
            "_view_module_version": "1.2.0",
            "_view_name": "StyleView",
            "description_width": ""
          }
        }
      }
    },
    "gpuClass": "standard"
  },
  "cells": [
    {
      "cell_type": "markdown",
      "metadata": {
        "id": "LBSYoWbi-45k"
      },
      "source": [
        "# **Fine-tuning Wav2Vec2 for Vietnamesswith 🤗 Transformers**"
      ]
    },
    {
      "cell_type": "markdown",
      "metadata": {
        "id": "V7YOT2mnUiea"
      },
      "source": [
        "Wav2Vec2 is a pretrained model for Automatic Speech Recognition (ASR) and was released in [September 2020](https://ai.facebook.com/blog/wav2vec-20-learning-the-structure-of-speech-from-raw-audio/) by Alexei Baevski, Michael Auli, and Alex Conneau.\n",
        "\n",
        "Using a novel contrastive pretraining objective, Wav2Vec2 learns powerful speech representations from more than 50.000 hours of unlabeled speech. Similar, to [BERT's masked language modeling](http://jalammar.github.io/illustrated-bert/), the model learns contextualized speech representations by randomly masking feature vectors before passing them to a transformer network.\n",
        "\n",
        "![wav2vec2_structure](https://raw.githubusercontent.com/patrickvonplaten/scientific_images/master/wav2vec2.png)\n",
        "\n",
        "For the first time, it has been shown that pretraining, followed by fine-tuning on very little labeled speech data achieves competitive results to state-of-the-art ASR systems. Using as little as 10 minutes of labeled data, Wav2Vec2 yields a word error rate (WER) of less than 5% on the clean test set of [LibriSpeech](https://huggingface.co/datasets/librispeech_asr) - *cf.* with Table 9 of the [paper](https://arxiv.org/pdf/2006.11477.pdf)."
      ]
    },
    {
      "cell_type": "markdown",
      "metadata": {
        "id": "nT_QrfWtsxIz"
      },
      "source": [
        "In this notebook, we will give an in-detail explanation of how Wav2Vec2's pretrained checkpoints can be fine-tuned on any English ASR dataset. Note that in this notebook, we will fine-tune Wav2Vec2 without making use of a language model. It is much simpler to use Wav2Vec2 without a language model as an end-to-end ASR system and it has been shown that a standalone Wav2Vec2 acoustic model achieves impressive results. For demonstration purposes, we fine-tune the \"base\"-sized [pretrained checkpoint](https://huggingface.co/facebook/wav2vec2-base) on the rather small [Timit](https://huggingface.co/datasets/timit_asr) dataset that contains just 5h of training data."
      ]
    },
    {
      "cell_type": "markdown",
      "metadata": {
        "id": "Gx9OdDYrCtQ1"
      },
      "source": [
        "Wav2Vec2 is fine-tuned using Connectionist Temporal Classification (CTC), which is an algorithm that is used to train neural networks for sequence-to-sequence problems and mainly in Automatic Speech Recognition and handwriting recognition. \n",
        "\n",
        "I highly recommend reading the blog post [Sequence Modeling with CTC (2017)](https://distill.pub/2017/ctc/) very well-written blog post by Awni Hannun."
      ]
    },
    {
      "cell_type": "markdown",
      "metadata": {
        "id": "qW3J3rBizeds"
      },
      "source": [
        "First, let's try to get a good GPU in our colab! With Google Colab's free version it's sadly becoming much harder to get access to a good GPU. With Google Colab Pro, one has a much easier time getting access to a V100 or P100 GPU however."
      ]
    },
    {
      "cell_type": "code",
      "metadata": {
        "id": "SLAufgh_xxj7",
        "colab": {
          "base_uri": "https://localhost:8080/"
        },
        "outputId": "984d1d3e-2716-4330-877b-8d3947fc08fc"
      },
      "source": [
        "gpu_info = !nvidia-smi\n",
        "gpu_info = '\\n'.join(gpu_info)\n",
        "if gpu_info.find('failed') >= 0:\n",
        "  print('Not connected to a GPU')\n",
        "else:\n",
        "  print(gpu_info)"
      ],
      "execution_count": 9,
      "outputs": [
        {
          "output_type": "stream",
          "name": "stdout",
          "text": [
            "Not connected to a GPU\n"
          ]
        }
      ]
    },
    {
      "cell_type": "markdown",
      "metadata": {
        "id": "e335hPmdtASZ"
      },
      "source": [
        "Before we start, let's install both `datasets` and `transformers` from master. Also, we need the `librosa` package to load audio files and the `jiwer` to evaluate our fine-tuned model using the [word error rate (WER)](https://huggingface.co/metrics/wer) metric ${}^1$."
      ]
    },
    {
      "cell_type": "code",
      "metadata": {
        "id": "c8eh87Hoee5d",
        "colab": {
          "base_uri": "https://localhost:8080/"
        },
        "outputId": "056b95c5-d6a3-4909-a011-feff0d9e3494"
      },
      "source": [
        "\n",
        "!pip install datasets\n",
        "!pip install transformers==4.22.2\n",
        "!pip install jiwer"
      ],
      "execution_count": 10,
      "outputs": [
        {
          "output_type": "stream",
          "name": "stdout",
          "text": [
            "Looking in indexes: https://pypi.org/simple, https://us-python.pkg.dev/colab-wheels/public/simple/\n",
            "Requirement already satisfied: datasets in /usr/local/lib/python3.8/dist-packages (2.10.0)\n",
            "Requirement already satisfied: multiprocess in /usr/local/lib/python3.8/dist-packages (from datasets) (0.70.14)\n",
            "Requirement already satisfied: aiohttp in /usr/local/lib/python3.8/dist-packages (from datasets) (3.8.4)\n",
            "Requirement already satisfied: packaging in /usr/local/lib/python3.8/dist-packages (from datasets) (23.0)\n",
            "Requirement already satisfied: numpy>=1.17 in /usr/local/lib/python3.8/dist-packages (from datasets) (1.22.4)\n",
            "Requirement already satisfied: requests>=2.19.0 in /usr/local/lib/python3.8/dist-packages (from datasets) (2.25.1)\n",
            "Requirement already satisfied: fsspec[http]>=2021.11.1 in /usr/local/lib/python3.8/dist-packages (from datasets) (2023.1.0)\n",
            "Requirement already satisfied: pandas in /usr/local/lib/python3.8/dist-packages (from datasets) (1.3.5)\n",
            "Requirement already satisfied: pyarrow>=6.0.0 in /usr/local/lib/python3.8/dist-packages (from datasets) (9.0.0)\n",
            "Requirement already satisfied: huggingface-hub<1.0.0,>=0.2.0 in /usr/local/lib/python3.8/dist-packages (from datasets) (0.12.1)\n",
            "Requirement already satisfied: responses<0.19 in /usr/local/lib/python3.8/dist-packages (from datasets) (0.18.0)\n",
            "Requirement already satisfied: tqdm>=4.62.1 in /usr/local/lib/python3.8/dist-packages (from datasets) (4.64.1)\n",
            "Requirement already satisfied: xxhash in /usr/local/lib/python3.8/dist-packages (from datasets) (3.2.0)\n",
            "Requirement already satisfied: dill<0.3.7,>=0.3.0 in /usr/local/lib/python3.8/dist-packages (from datasets) (0.3.6)\n",
            "Requirement already satisfied: pyyaml>=5.1 in /usr/local/lib/python3.8/dist-packages (from datasets) (6.0)\n",
            "Requirement already satisfied: charset-normalizer<4.0,>=2.0 in /usr/local/lib/python3.8/dist-packages (from aiohttp->datasets) (3.0.1)\n",
            "Requirement already satisfied: attrs>=17.3.0 in /usr/local/lib/python3.8/dist-packages (from aiohttp->datasets) (22.2.0)\n",
            "Requirement already satisfied: multidict<7.0,>=4.5 in /usr/local/lib/python3.8/dist-packages (from aiohttp->datasets) (6.0.4)\n",
            "Requirement already satisfied: yarl<2.0,>=1.0 in /usr/local/lib/python3.8/dist-packages (from aiohttp->datasets) (1.8.2)\n",
            "Requirement already satisfied: aiosignal>=1.1.2 in /usr/local/lib/python3.8/dist-packages (from aiohttp->datasets) (1.3.1)\n",
            "Requirement already satisfied: frozenlist>=1.1.1 in /usr/local/lib/python3.8/dist-packages (from aiohttp->datasets) (1.3.3)\n",
            "Requirement already satisfied: async-timeout<5.0,>=4.0.0a3 in /usr/local/lib/python3.8/dist-packages (from aiohttp->datasets) (4.0.2)\n",
            "Requirement already satisfied: typing-extensions>=3.7.4.3 in /usr/local/lib/python3.8/dist-packages (from huggingface-hub<1.0.0,>=0.2.0->datasets) (4.5.0)\n",
            "Requirement already satisfied: filelock in /usr/local/lib/python3.8/dist-packages (from huggingface-hub<1.0.0,>=0.2.0->datasets) (3.9.0)\n",
            "Requirement already satisfied: idna<3,>=2.5 in /usr/local/lib/python3.8/dist-packages (from requests>=2.19.0->datasets) (2.10)\n",
            "Requirement already satisfied: chardet<5,>=3.0.2 in /usr/local/lib/python3.8/dist-packages (from requests>=2.19.0->datasets) (4.0.0)\n",
            "Requirement already satisfied: urllib3<1.27,>=1.21.1 in /usr/local/lib/python3.8/dist-packages (from requests>=2.19.0->datasets) (1.26.14)\n",
            "Requirement already satisfied: certifi>=2017.4.17 in /usr/local/lib/python3.8/dist-packages (from requests>=2.19.0->datasets) (2022.12.7)\n",
            "Requirement already satisfied: python-dateutil>=2.7.3 in /usr/local/lib/python3.8/dist-packages (from pandas->datasets) (2.8.2)\n",
            "Requirement already satisfied: pytz>=2017.3 in /usr/local/lib/python3.8/dist-packages (from pandas->datasets) (2022.7.1)\n",
            "Requirement already satisfied: six>=1.5 in /usr/local/lib/python3.8/dist-packages (from python-dateutil>=2.7.3->pandas->datasets) (1.15.0)\n",
            "Looking in indexes: https://pypi.org/simple, https://us-python.pkg.dev/colab-wheels/public/simple/\n",
            "Requirement already satisfied: transformers==4.22.2 in /usr/local/lib/python3.8/dist-packages (4.22.2)\n",
            "Requirement already satisfied: regex!=2019.12.17 in /usr/local/lib/python3.8/dist-packages (from transformers==4.22.2) (2022.6.2)\n",
            "Requirement already satisfied: filelock in /usr/local/lib/python3.8/dist-packages (from transformers==4.22.2) (3.9.0)\n",
            "Requirement already satisfied: packaging>=20.0 in /usr/local/lib/python3.8/dist-packages (from transformers==4.22.2) (23.0)\n",
            "Requirement already satisfied: requests in /usr/local/lib/python3.8/dist-packages (from transformers==4.22.2) (2.25.1)\n",
            "Requirement already satisfied: tokenizers!=0.11.3,<0.13,>=0.11.1 in /usr/local/lib/python3.8/dist-packages (from transformers==4.22.2) (0.12.1)\n",
            "Requirement already satisfied: pyyaml>=5.1 in /usr/local/lib/python3.8/dist-packages (from transformers==4.22.2) (6.0)\n",
            "Requirement already satisfied: numpy>=1.17 in /usr/local/lib/python3.8/dist-packages (from transformers==4.22.2) (1.22.4)\n",
            "Requirement already satisfied: huggingface-hub<1.0,>=0.9.0 in /usr/local/lib/python3.8/dist-packages (from transformers==4.22.2) (0.12.1)\n",
            "Requirement already satisfied: tqdm>=4.27 in /usr/local/lib/python3.8/dist-packages (from transformers==4.22.2) (4.64.1)\n",
            "Requirement already satisfied: typing-extensions>=3.7.4.3 in /usr/local/lib/python3.8/dist-packages (from huggingface-hub<1.0,>=0.9.0->transformers==4.22.2) (4.5.0)\n",
            "Requirement already satisfied: certifi>=2017.4.17 in /usr/local/lib/python3.8/dist-packages (from requests->transformers==4.22.2) (2022.12.7)\n",
            "Requirement already satisfied: urllib3<1.27,>=1.21.1 in /usr/local/lib/python3.8/dist-packages (from requests->transformers==4.22.2) (1.26.14)\n",
            "Requirement already satisfied: chardet<5,>=3.0.2 in /usr/local/lib/python3.8/dist-packages (from requests->transformers==4.22.2) (4.0.0)\n",
            "Requirement already satisfied: idna<3,>=2.5 in /usr/local/lib/python3.8/dist-packages (from requests->transformers==4.22.2) (2.10)\n",
            "Looking in indexes: https://pypi.org/simple, https://us-python.pkg.dev/colab-wheels/public/simple/\n",
            "Requirement already satisfied: jiwer in /usr/local/lib/python3.8/dist-packages (2.5.1)\n",
            "Requirement already satisfied: levenshtein==0.20.2 in /usr/local/lib/python3.8/dist-packages (from jiwer) (0.20.2)\n",
            "Requirement already satisfied: rapidfuzz<3.0.0,>=2.3.0 in /usr/local/lib/python3.8/dist-packages (from levenshtein==0.20.2->jiwer) (2.13.7)\n"
          ]
        }
      ]
    },
    {
      "cell_type": "markdown",
      "metadata": {
        "id": "0mW-C1Nt-j7k"
      },
      "source": [
        "## Prepare Data, Tokenizer, Feature Extractor"
      ]
    },
    {
      "cell_type": "markdown",
      "metadata": {
        "id": "BeBosnY9BH3e"
      },
      "source": [
        "ASR models transcribe speech to text, which means that we both need a feature extractor that processes the speech signal to the model's input format, *e.g.* a feature vector, and a tokenizer that processes the model's output format to text. \n",
        "\n",
        "In 🤗 Transformers, the Wav2Vec2 model is thus accompanied by both a tokenizer, called [Wav2Vec2CTCTokenizer](https://huggingface.co/transformers/master/model_doc/wav2vec2.html#wav2vec2ctctokenizer), and a feature extractor, called [Wav2Vec2FeatureExtractor](https://huggingface.co/transformers/master/model_doc/wav2vec2.html#wav2vec2featureextractor).\n",
        "\n",
        "Let's start by creating the tokenizer responsible for decoding the model's predictions."
      ]
    },
    {
      "cell_type": "markdown",
      "metadata": {
        "id": "sEXEWEJGQPqD"
      },
      "source": [
        "### Create Wav2Vec2CTCTokenizer"
      ]
    },
    {
      "cell_type": "markdown",
      "metadata": {
        "id": "tWmMikuNEKl_"
      },
      "source": [
        "The [pretrained Wav2Vec2 checkpoint]( ) maps the speech signal to a sequence of context representations as illustrated in the figure above. A fine-tuned Wav2Vec2 checkpoint needs to map this sequence of context representations to its corresponding transcription so that a linear layer has to be added on top of the transformer block (shown in yellow). This linear layer is used to classifies each context representation to a token class analogous how, *e.g.*, after pretraining a linear layer is added on top of BERT's embeddings for further classification - *cf.* with *\"BERT\"* section of this [blog post](https://huggingface.co/blog/warm-starting-encoder-decoder).\n",
        "\n",
        "The output size of this layer corresponds to the number of tokens in the vocabulary, which does **not** depend on Wav2Vec2's pretraining task, but only on the labeled dataset used for fine-tuning. So in the first step, we will take a look at Timit and define a vocabulary based on the dataset's transcriptions."
      ]
    },
    {
      "cell_type": "markdown",
      "metadata": {
        "id": "bee4g9rpLxll"
      },
      "source": [
        "Let's start by loading the dataset and taking a look at its structure."
      ]
    },
    {
      "cell_type": "code",
      "metadata": {
        "id": "2MMXcWFFgCXU",
        "colab": {
          "base_uri": "https://localhost:8080/",
          "height": 66,
          "referenced_widgets": [
            "e6f05cbb4b6b45efa77b4162f677475c",
            "3dd56677cd494a73ad5dfac9d81d56c7",
            "7fb76128f61f4d308985f13345c18330",
            "ddeb03b99d644aa38c0066de43bb4b91",
            "058b8d3f529d483ba5e50e3d552cc627",
            "0111dff8990840f99cc6e96eb50b0d2d",
            "19771f90d80c4d0bb6dc65720bb86bc4",
            "2efe85bb9aba40289cc9d519ffbf1a5b",
            "e00387b4c2354827a463b5d68f4290db",
            "91e9bef9c0994e33a292c09bea2d61c9",
            "da8fefbc184a4ce18a85edae78a5b7bf"
          ]
        },
        "outputId": "47da5fbd-9cad-4e43-abca-eba93a49ecce"
      },
      "source": [
        "from datasets import load_dataset, load_metric, DatasetDict\n",
        "\n",
        "timit = load_dataset(\"vivos\")\n"
      ],
      "execution_count": 11,
      "outputs": [
        {
          "output_type": "stream",
          "name": "stderr",
          "text": [
            "WARNING:datasets.builder:Found cached dataset vivos (/root/.cache/huggingface/datasets/vivos/default/1.1.0/4872f55990894df809a7d41dc64c483303a4a6f495c50b6e434632190c1b5eeb)\n"
          ]
        },
        {
          "output_type": "display_data",
          "data": {
            "text/plain": [
              "  0%|          | 0/2 [00:00<?, ?it/s]"
            ],
            "application/vnd.jupyter.widget-view+json": {
              "version_major": 2,
              "version_minor": 0,
              "model_id": "e6f05cbb4b6b45efa77b4162f677475c"
            }
          },
          "metadata": {}
        }
      ]
    },
    {
      "cell_type": "code",
      "source": [
        "timit"
      ],
      "metadata": {
        "colab": {
          "base_uri": "https://localhost:8080/"
        },
        "id": "USE7UKFh-dvJ",
        "outputId": "2968ef61-900e-4236-86ec-2caaceb61335"
      },
      "execution_count": 12,
      "outputs": [
        {
          "output_type": "execute_result",
          "data": {
            "text/plain": [
              "DatasetDict({\n",
              "    train: Dataset({\n",
              "        features: ['speaker_id', 'path', 'audio', 'sentence'],\n",
              "        num_rows: 11660\n",
              "    })\n",
              "    test: Dataset({\n",
              "        features: ['speaker_id', 'path', 'audio', 'sentence'],\n",
              "        num_rows: 760\n",
              "    })\n",
              "})"
            ]
          },
          "metadata": {},
          "execution_count": 12
        }
      ]
    },
    {
      "cell_type": "code",
      "metadata": {
        "colab": {
          "base_uri": "https://localhost:8080/",
          "height": 295
        },
        "id": "QbIM-L0xdvf4",
        "outputId": "0bb32a42-cf38-4eb2-ff5b-039f55e85430"
      },
      "source": [
        "import matplotlib.pyplot as plt\n",
        "sentence_lengths = [len(example[\"sentence\"]) for example in timit['test']]\n",
        "\n",
        "# Plot the histogram of transcript lengths\n",
        "plt.hist(sentence_lengths, bins=50)\n",
        "plt.title(\"Histogram of Sentence Lengths\")\n",
        "plt.xlabel(\"Sentence Length\")\n",
        "plt.ylabel(\"Frequency\")\n",
        "plt.show()"
      ],
      "execution_count": 13,
      "outputs": [
        {
          "output_type": "display_data",
          "data": {
            "text/plain": [
              "<Figure size 432x288 with 1 Axes>"
            ],
            "image/png": "[encoded data removed]"
          },
          "metadata": {
            "needs_background": "light"
          }
        }
      ]
    },
    {
      "cell_type": "markdown",
      "metadata": {
        "id": "ri5y5N_HMANq"
      },
      "source": [
        "Many ASR datasets only provide the target text, `'text'` for each audio `'audio'` and file `'file'`. Timit actually provides much more information about each audio file, such as the `'phonetic_detail'`, etc., which is why many researchers choose to evaluate their models on phoneme classification instead of speech recognition when working with Timit. However, we want to keep the notebook as general as possible, so that we will only consider the transcribed text for fine-tuning.\n",
        "\n"
      ]
    },
    {
      "cell_type": "code",
      "source": [
        "import matplotlib.pyplot as plt\n",
        "Voice_lengths = [len(example[\"audio\"]['array'])/16000 for example in timit['test']]\n",
        "\n",
        "# Plot the histogram of transcript lengths\n",
        "plt.hist(Voice_lengths, bins=50)\n",
        "plt.title(\"Histogram of Voice Lengths\")\n",
        "plt.xlabel(\"Voice Length\")\n",
        "plt.ylabel(\"Frequency\")\n",
        "plt.show()"
      ],
      "metadata": {
        "id": "qd32y3EQ9ceQ",
        "outputId": "c10d7a33-ec61-4aeb-9c86-58fa31415857",
        "colab": {
          "base_uri": "https://localhost:8080/",
          "height": 295
        }
      },
      "execution_count": 14,
      "outputs": [
        {
          "output_type": "display_data",
          "data": {
            "text/plain": [
              "<Figure size 432x288 with 1 Axes>"
            ],
            "image/png": "[encoded data removed]"
          },
          "metadata": {
            "needs_background": "light"
          }
        }
      ]
    },
    {
      "cell_type": "code",
      "metadata": {
        "id": "kbyq6lDgQc2a"
      },
      "source": [
        "timit = timit.remove_columns([ \"speaker_id\"])"
      ],
      "execution_count": 15,
      "outputs": []
    },
    {
      "cell_type": "markdown",
      "metadata": {
        "id": "Go9Hq4e4NDT9"
      },
      "source": [
        "Let's write a short function to display some random samples of the dataset and run it a couple of times to get a feeling for the transcriptions."
      ]
    },
    {
      "cell_type": "code",
      "metadata": {
        "id": "72737oog2F6U"
      },
      "source": [
        "from datasets import ClassLabel\n",
        "import random\n",
        "import pandas as pd\n",
        "from IPython.display import display, HTML\n",
        "\n",
        "def show_random_elements(dataset, num_examples=10):\n",
        "    assert num_examples <= len(dataset), \"Can't pick more elements than there are in the dataset.\"\n",
        "    picks = []\n",
        "    for _ in range(num_examples):\n",
        "        pick = random.randint(0, len(dataset)-1)\n",
        "        while pick in picks:\n",
        "            pick = random.randint(0, len(dataset)-1)\n",
        "        picks.append(pick)\n",
        "    \n",
        "    df = pd.DataFrame(dataset[picks])\n",
        "    display(HTML(df.to_html()))"
      ],
      "execution_count": 16,
      "outputs": []
    },
    {
      "cell_type": "code",
      "metadata": {
        "colab": {
          "base_uri": "https://localhost:8080/",
          "height": 363
        },
        "id": "K_JUmf3G3b9S",
        "outputId": "49ea5881-936f-4bfa-a2f8-35459786e091"
      },
      "source": [
        "show_random_elements(timit[\"train\"].remove_columns([\"audio\", \"path\"]), num_examples=10)"
      ],
      "execution_count": 17,
      "outputs": [
        {
          "output_type": "display_data",
          "data": {
            "text/plain": [
              "<IPython.core.display.HTML object>"
            ],
            "text/html": [
              "<table border=\"1\" class=\"dataframe\">\n",
              "  <thead>\n",
              "    <tr style=\"text-align: right;\">\n",
              "      <th></th>\n",
              "      <th>sentence</th>\n",
              "    </tr>\n",
              "  </thead>\n",
              "  <tbody>\n",
              "    <tr>\n",
              "      <th>0</th>\n",
              "      <td>NHIỀU Ý KIẾN CÒN CHO RẰNG VIỆC KHAI THÁC HÌNH THỂ HƠI QUÁ TAY TRONG TẬP ĐẦU TIÊN LÀ SỰ CÂU KHÁCH HƠI BỊ</td>\n",
              "    </tr>\n",
              "    <tr>\n",
              "      <th>1</th>\n",
              "      <td>NGƯỜI LỚN CÒN KHÔNG QUAN TÂM NÓI GÌ ĐẾN NHỮNG BẠN TRẺ</td>\n",
              "    </tr>\n",
              "    <tr>\n",
              "      <th>2</th>\n",
              "      <td>MÀ LẠI ĐỦ NHẸ ĐỂ CÓ THỂ MANG SANG PHÒNG BÊN</td>\n",
              "    </tr>\n",
              "    <tr>\n",
              "      <th>3</th>\n",
              "      <td>TRẦN ĐẾ QUỸ ĐÃ LÃNH ĐẠO DÂN NAM ĐOẠT ĐƯỢC THẮNG LỢI SAU THẤY DÂN CÙNG KIỆT ĐÓI KHÁT MÁU ĐỔ XƯƠNG RƠI</td>\n",
              "    </tr>\n",
              "    <tr>\n",
              "      <th>4</th>\n",
              "      <td>BẢY MƯƠI BỐN BẢY MƯƠI LĂM</td>\n",
              "    </tr>\n",
              "    <tr>\n",
              "      <th>5</th>\n",
              "      <td>ÔNG ĐƯỢC ÔNG CHỦ DOANH NGHIỆP TƯ NHÂN QUANG TUYẾN CHO VÀO NHẬN KHOÁN MỘT HẦM ĐÁ LÀM ĐƯỢC NHIỀU THÌ HƯỞNG NHIỀU</td>\n",
              "    </tr>\n",
              "    <tr>\n",
              "      <th>6</th>\n",
              "      <td>TRƯỚC ĐÀN CÓ ĐÀO HỒ VUÔNG LÀM MINH ĐƯỜNG</td>\n",
              "    </tr>\n",
              "    <tr>\n",
              "      <th>7</th>\n",
              "      <td>VÀ VÔI VỮA TRÓC LẢ TẢ</td>\n",
              "    </tr>\n",
              "    <tr>\n",
              "      <th>8</th>\n",
              "      <td>ÔNG CHỈ CÒN BIẾT MỈM CƯỜI LẮC ĐẦU VÀ NGỒI IM KHÔNG DÁM ĐỘNG ĐẬY</td>\n",
              "    </tr>\n",
              "    <tr>\n",
              "      <th>9</th>\n",
              "      <td>ĐÓ LÀ ÔNG THẦY NGƯỜI BỒ ĐÀO NHA NÀY XIN MUA NĂM CHIẾC XE LĂN</td>\n",
              "    </tr>\n",
              "  </tbody>\n",
              "</table>"
            ]
          },
          "metadata": {}
        }
      ]
    },
    {
      "cell_type": "markdown",
      "metadata": {
        "id": "fowcOllGNNju"
      },
      "source": [
        "Alright! The transcriptions look very clean and the language seems to correspond more to written text than dialogue. This makes sense taking into account that vivos is a read speech corpus."
      ]
    },
    {
      "cell_type": "markdown",
      "metadata": {
        "id": "vq7OR50LN49m"
      },
      "source": [
        "We can see that the transcriptions contain some special characters, such as `,.?!;:`. Without a language model, it is much harder to classify speech chunks to such special characters because they don't really correspond to a characteristic sound unit. *E.g.*, the letter `\"s\"` has a more or less clear sound, whereas the special character `\".\"` does not.\n",
        "Also in order to understand the meaning of a speech signal, it is usually not necessary to include special characters in the transcription.\n",
        "\n",
        "In addition, we normalize the text to only have lower case letters and append a word separator token at the end."
      ]
    },
    {
      "cell_type": "code",
      "metadata": {
        "id": "svKzVJ_hQGK6"
      },
      "source": [
        "import re\n",
        "chars_to_ignore_regex = '[\\,\\?\\.\\!\\-\\;\\:\\\"]'\n",
        "\n",
        "def remove_special_characters(batch):\n",
        "    batch[\"sentence\"] = re.sub(chars_to_ignore_regex, '', batch[\"sentence\"]).lower() + \" \"\n",
        "    return batch"
      ],
      "execution_count": 18,
      "outputs": []
    },
    {
      "cell_type": "code",
      "metadata": {
        "colab": {
          "base_uri": "https://localhost:8080/",
          "height": 17,
          "referenced_widgets": [
            "96f02b52fde5431481adf64534c56a45",
            "7888fc40168146dbb8e53a39d21e5f9c",
            "7234ebdf54a84a1481abe2d6cc1afe21",
            "e4d22ff831274f7bbd076d9066fffc7b",
            "e71f9910c33c4fe0a30f0ec6fd8de20c",
            "039a68cb14d045ceaf867c47e1573041",
            "b3e3bb3dc3224af383fc7d2448c5b41e",
            "0e36229c08c94d73b16e22e392451dd7",
            "3d2d5e7a1a3d44888f5e1d787c7133d7",
            "0acaeeb102814e769cad7433c628c13e",
            "e4884d8768cc4808924a18e47e3cd137",
            "fc328a914f15454990324006bbd464a0",
            "45782ff5750a4ed2ba3718969d9ce3d6",
            "fffb05290c7540269aa075b5053ad01b",
            "f884fd81d6b54cfe98c916c0c9e24743",
            "019f880d8b1b4d56992340419411e2a5",
            "e77e7fbb0d304e95a3747476175772a5",
            "135f9833b48a4e93a6dc68ce1cbf013b",
            "ea5e5eff25b34aca928b32e1963f97c0",
            "1b13b483be484de0a185b4f80a5afb8c",
            "2b015436c6d6403fad78d10817bd78c9",
            "38fd7777877143a9947c39f89316526c"
          ]
        },
        "id": "XIHocAuTQbBR",
        "outputId": "71312e8b-e9fb-4d71-a544-7cd898347281"
      },
      "source": [
        "timit = timit.map(remove_special_characters)"
      ],
      "execution_count": 19,
      "outputs": [
        {
          "output_type": "display_data",
          "data": {
            "text/plain": [
              "Map:   0%|          | 0/11660 [00:00<?, ? examples/s]"
            ],
            "application/vnd.jupyter.widget-view+json": {
              "version_major": 2,
              "version_minor": 0,
              "model_id": "96f02b52fde5431481adf64534c56a45"
            }
          },
          "metadata": {}
        },
        {
          "output_type": "display_data",
          "data": {
            "text/plain": [
              "Map:   0%|          | 0/760 [00:00<?, ? examples/s]"
            ],
            "application/vnd.jupyter.widget-view+json": {
              "version_major": 2,
              "version_minor": 0,
              "model_id": "fc328a914f15454990324006bbd464a0"
            }
          },
          "metadata": {}
        }
      ]
    },
    {
      "cell_type": "code",
      "metadata": {
        "colab": {
          "base_uri": "https://localhost:8080/",
          "height": 363
        },
        "id": "RBDRAAYxRE6n",
        "outputId": "370f4169-7521-4974-f5da-a46b7b2d46dd"
      },
      "source": [
        "show_random_elements(timit[\"train\"].remove_columns([\"audio\", \"path\"]))"
      ],
      "execution_count": 20,
      "outputs": [
        {
          "output_type": "display_data",
          "data": {
            "text/plain": [
              "<IPython.core.display.HTML object>"
            ],
            "text/html": [
              "<table border=\"1\" class=\"dataframe\">\n",
              "  <thead>\n",
              "    <tr style=\"text-align: right;\">\n",
              "      <th></th>\n",
              "      <th>sentence</th>\n",
              "    </tr>\n",
              "  </thead>\n",
              "  <tbody>\n",
              "    <tr>\n",
              "      <th>0</th>\n",
              "      <td>ông tào hữu phùng chia sẻ tôi thấy đây là vấn đề rất bức xúc</td>\n",
              "    </tr>\n",
              "    <tr>\n",
              "      <th>1</th>\n",
              "      <td>cô hoàn toàn tin tưởng vào những gì mà cô đọc được trên sách báo</td>\n",
              "    </tr>\n",
              "    <tr>\n",
              "      <th>2</th>\n",
              "      <td>điều ấn tượng nhất là anh nhân viên mới này không thích đi nhậu</td>\n",
              "    </tr>\n",
              "    <tr>\n",
              "      <th>3</th>\n",
              "      <td>làm sao để có tiền nhanh nhất</td>\n",
              "    </tr>\n",
              "    <tr>\n",
              "      <th>4</th>\n",
              "      <td>tôi nghĩ không riêng tôi mà rất nhiều người đang rơi nước mắt như tôi</td>\n",
              "    </tr>\n",
              "    <tr>\n",
              "      <th>5</th>\n",
              "      <td>anh phải trả lời cho bằng được câu hỏi bâng khuâng trong lòng anh</td>\n",
              "    </tr>\n",
              "    <tr>\n",
              "      <th>6</th>\n",
              "      <td>ban tổ chức không chịu trách nhiệm về những sự cố do lỗi đường truyền hoặc do lỗi máy móc của thí sinh</td>\n",
              "    </tr>\n",
              "    <tr>\n",
              "      <th>7</th>\n",
              "      <td>gây ra nhiều phiền toái cho chị em</td>\n",
              "    </tr>\n",
              "    <tr>\n",
              "      <th>8</th>\n",
              "      <td>cả đám đều rên sao thầy hưng sung quá</td>\n",
              "    </tr>\n",
              "    <tr>\n",
              "      <th>9</th>\n",
              "      <td>khi hạ cây thông xuống</td>\n",
              "    </tr>\n",
              "  </tbody>\n",
              "</table>"
            ]
          },
          "metadata": {}
        }
      ]
    },
    {
      "cell_type": "markdown",
      "metadata": {
        "id": "jwfaptH5RJwA"
      },
      "source": [
        "Good! This looks better. We have removed most special characters from transcriptions and normalized them to lower-case only.\n",
        "\n",
        "In CTC, it is common to classify speech chunks into letters, so we will do the same here. \n",
        "Let's extract all distinct letters of the training and test data and build our vocabulary from this set of letters.\n",
        "\n",
        "We write a mapping function that concatenates all transcriptions into one long transcription and then transforms the string into a set of chars. \n",
        "It is important to pass the argument `batched=True` to the `map(...)` function so that the mapping function has access to all transcriptions at once."
      ]
    },
    {
      "cell_type": "code",
      "metadata": {
        "id": "LwCshNbbeRZR"
      },
      "source": [
        "def extract_all_chars(batch):\n",
        "  all_text = \" \".join(batch[\"sentence\"])\n",
        "  vocab = list(set(all_text))\n",
        "  return {\"vocab\": [vocab], \"all_text\": [all_text]}"
      ],
      "execution_count": 21,
      "outputs": []
    },
    {
      "cell_type": "code",
      "metadata": {
        "colab": {
          "base_uri": "https://localhost:8080/",
          "height": 17,
          "referenced_widgets": [
            "ee52f21223a047b0a318d6abbb0ff0d5",
            "ca6b3aa433634a17a4e435a8b8da3308",
            "22e7e4fc34184327ad90c9729202e4e0",
            "d2a5ab2d2d0441c2be67550f0efd0eda",
            "1319831c7a374516b484fcdba137964d",
            "45175bb30a254cdfa7ea8f82502b0f26",
            "bcdc29bd98d64b1395042ac741a85d3a",
            "8628dbefc3794b489079ccc5fd9671e0",
            "8e6b13b558ff436a98995d2d033504d1",
            "1bae8941d1c14d2a91301383b81392b9",
            "6acf4586798946b6bee6ab59ac76d5f1",
            "758fbbe89bb44ebfa87b9e76598951e7",
            "b7c0b6ee24ca438e9d33df1516dd5e43",
            "0951e1ac0fe64335856ad509519b26b9",
            "be3cac656fa148f89eb2c7e5d33d74eb",
            "17ff590d35f6435ab8d40812d6eae1ed",
            "1f30cd87d0344aae8d3c5619bc4bea9c",
            "939d3c54cf6f4f469b3d669bbcc10409",
            "d5e9eda2c8e54b50b387b58fc299c6c3",
            "7d0b5cc1e5df48e1817132611b7611fb",
            "e7736b027e7c4e429a371230c853153d",
            "0398f38535ee4045afd37ee3120f04a3"
          ]
        },
        "id": "_m6uUjjcfbjH",
        "outputId": "7b14a010-16e7-434b-92bb-33d4778e84c2"
      },
      "source": [
        "vocabs = timit.map(extract_all_chars, batched=True, batch_size=-1, keep_in_memory=True, remove_columns=timit.column_names[\"train\"])"
      ],
      "execution_count": 22,
      "outputs": [
        {
          "output_type": "display_data",
          "data": {
            "text/plain": [
              "Map:   0%|          | 0/11660 [00:00<?, ? examples/s]"
            ],
            "application/vnd.jupyter.widget-view+json": {
              "version_major": 2,
              "version_minor": 0,
              "model_id": "ee52f21223a047b0a318d6abbb0ff0d5"
            }
          },
          "metadata": {}
        },
        {
          "output_type": "display_data",
          "data": {
            "text/plain": [
              "Map:   0%|          | 0/760 [00:00<?, ? examples/s]"
            ],
            "application/vnd.jupyter.widget-view+json": {
              "version_major": 2,
              "version_minor": 0,
              "model_id": "758fbbe89bb44ebfa87b9e76598951e7"
            }
          },
          "metadata": {}
        }
      ]
    },
    {
      "cell_type": "markdown",
      "metadata": {
        "id": "7oVgE8RZSJNP"
      },
      "source": [
        "Now, we create the union of all distinct letters in the training dataset and test dataset and convert the resulting list into an enumerated dictionary."
      ]
    },
    {
      "cell_type": "code",
      "metadata": {
        "id": "aQfneNsmlJI0"
      },
      "source": [
        "vocab_list = list(set(vocabs[\"train\"][\"vocab\"][0]) | set(vocabs[\"test\"][\"vocab\"][0]))"
      ],
      "execution_count": 23,
      "outputs": []
    },
    {
      "cell_type": "code",
      "metadata": {
        "colab": {
          "base_uri": "https://localhost:8080/"
        },
        "id": "_0kRndSvqaKk",
        "outputId": "504af548-bcec-4757-967c-01b3c818c585"
      },
      "source": [
        "vocab_dict = {v: k for k, v in enumerate(vocab_list)}\n",
        "vocab_dict"
      ],
      "execution_count": 24,
      "outputs": [
        {
          "output_type": "execute_result",
          "data": {
            "text/plain": [
              "{'ở': 0,\n",
              " 'đ': 1,\n",
              " 'd': 2,\n",
              " 'ă': 3,\n",
              " 'ẻ': 4,\n",
              " 'ò': 5,\n",
              " 'ê': 6,\n",
              " 'ỵ': 7,\n",
              " 'ẫ': 8,\n",
              " 'l': 9,\n",
              " 'ả': 10,\n",
              " 'ễ': 11,\n",
              " 'ằ': 12,\n",
              " 'i': 13,\n",
              " 'è': 14,\n",
              " 'u': 15,\n",
              " 'ề': 16,\n",
              " 'q': 17,\n",
              " 'ặ': 18,\n",
              " 't': 19,\n",
              " '4': 20,\n",
              " ' ': 21,\n",
              " 'ứ': 22,\n",
              " 'm': 23,\n",
              " 'ẳ': 24,\n",
              " 'ắ': 25,\n",
              " 'ư': 26,\n",
              " 'ỳ': 27,\n",
              " 'á': 28,\n",
              " 'ô': 29,\n",
              " 'ỗ': 30,\n",
              " 'ấ': 31,\n",
              " 'ể': 32,\n",
              " 'õ': 33,\n",
              " 'ĩ': 34,\n",
              " 'ũ': 35,\n",
              " 'ụ': 36,\n",
              " 'e': 37,\n",
              " 'â': 38,\n",
              " 'ầ': 39,\n",
              " 'ử': 40,\n",
              " 'ậ': 41,\n",
              " 'ớ': 42,\n",
              " 'ú': 43,\n",
              " 'r': 44,\n",
              " 'p': 45,\n",
              " 'ã': 46,\n",
              " 'y': 47,\n",
              " 'ủ': 48,\n",
              " 'ẽ': 49,\n",
              " 'ù': 50,\n",
              " 'ự': 51,\n",
              " 'ừ': 52,\n",
              " 'ỏ': 53,\n",
              " 'ý': 54,\n",
              " 'ỹ': 55,\n",
              " 'ẹ': 56,\n",
              " 'ộ': 57,\n",
              " 'n': 58,\n",
              " 'ổ': 59,\n",
              " 'ỷ': 60,\n",
              " 'ị': 61,\n",
              " 'h': 62,\n",
              " 'ờ': 63,\n",
              " 'ó': 64,\n",
              " 'ợ': 65,\n",
              " 'ố': 66,\n",
              " 'ạ': 67,\n",
              " 'é': 68,\n",
              " 'k': 69,\n",
              " 'ồ': 70,\n",
              " 's': 71,\n",
              " 'ẵ': 72,\n",
              " 'ẩ': 73,\n",
              " 'g': 74,\n",
              " 'c': 75,\n",
              " 'v': 76,\n",
              " 'ỡ': 77,\n",
              " 'ữ': 78,\n",
              " 'ơ': 79,\n",
              " 'o': 80,\n",
              " 'x': 81,\n",
              " 'ế': 82,\n",
              " 'í': 83,\n",
              " 'ọ': 84,\n",
              " 'ệ': 85,\n",
              " 'à': 86,\n",
              " 'ì': 87,\n",
              " 'ỉ': 88,\n",
              " 'a': 89,\n",
              " 'b': 90}"
            ]
          },
          "metadata": {},
          "execution_count": 24
        }
      ]
    },
    {
      "cell_type": "markdown",
      "metadata": {
        "id": "JOSzbvs9SXT1"
      },
      "source": [
        "Cool, we see that all letters of the alphabet occur in the dataset (which is not really surprising) and we also extracted the special characters `\" \"` and `'`. Note that we did not exclude those special characters because: \n",
        "\n",
        "- The model has to learn to predict when a word finished or else the model prediction would always be a sequence of chars which would make it impossible to separate words from each other.\n",
        "- In English, we need to keep the `'` character to differentiate between words, *e.g.*, `\"it's\"` and `\"its\"` which have very different meanings."
      ]
    },
    {
      "cell_type": "markdown",
      "metadata": {
        "id": "b1fBRCn-TRaO"
      },
      "source": [
        "To make it clearer that `\" \"` has its own token class, we give it a more visible character `|`. In addition, we also add an \"unknown\" token so that the model can later deal with characters not encountered in Timit's training set. \n",
        "\n",
        "Finally, we also add a padding token that corresponds to CTC's \"*blank token*\". The \"blank token\" is a core component of the CTC algorithm. For more information, please take a look at the \"Alignment\" section [here](https://distill.pub/2017/ctc/)."
      ]
    },
    {
      "cell_type": "code",
      "metadata": {
        "id": "npbIbBoLgaFX"
      },
      "source": [
        "vocab_dict[\"|\"] = vocab_dict[\" \"]\n",
        "del vocab_dict[\" \"]"
      ],
      "execution_count": 25,
      "outputs": []
    },
    {
      "cell_type": "code",
      "metadata": {
        "id": "znF0bNunsjbl",
        "colab": {
          "base_uri": "https://localhost:8080/"
        },
        "outputId": "986425e4-bae2-4ebd-db92-0d90ca24f261"
      },
      "source": [
        "vocab_dict[\"[UNK]\"] = len(vocab_dict)\n",
        "vocab_dict[\"[PAD]\"] = len(vocab_dict)\n",
        "len(vocab_dict)"
      ],
      "execution_count": 26,
      "outputs": [
        {
          "output_type": "execute_result",
          "data": {
            "text/plain": [
              "93"
            ]
          },
          "metadata": {},
          "execution_count": 26
        }
      ]
    },
    {
      "cell_type": "markdown",
      "metadata": {
        "id": "SFPGfet8U5sL"
      },
      "source": [
        "Cool, now our vocabulary is complete and consists of 93 tokens, which means that the linear layer that we will add on top of the pretrained Wav2Vec2 checkpoint will have an output dimension of 93."
      ]
    },
    {
      "cell_type": "markdown",
      "metadata": {
        "id": "1CujRgBNVRaD"
      },
      "source": [
        "Let's now save the vocabulary as a json file."
      ]
    },
    {
      "cell_type": "code",
      "metadata": {
        "id": "ehyUoh9vk191"
      },
      "source": [
        "import json\n",
        "with open('vocab.json', 'w') as vocab_file:\n",
        "    json.dump(vocab_dict, vocab_file)"
      ],
      "execution_count": 27,
      "outputs": []
    },
    {
      "cell_type": "markdown",
      "metadata": {
        "id": "SHJDaKlIVVim"
      },
      "source": [
        "In a final step, we use the json file to instantiate an object of the `Wav2Vec2CTCTokenizer` class."
      ]
    },
    {
      "cell_type": "code",
      "metadata": {
        "id": "xriFGEWQkO4M"
      },
      "source": [
        "from transformers import Wav2Vec2CTCTokenizer\n",
        "\n",
        "tokenizer = Wav2Vec2CTCTokenizer(\"./vocab.json\", unk_token=\"[UNK]\", pad_token=\"[PAD]\", word_delimiter_token=\"|\")"
      ],
      "execution_count": 28,
      "outputs": []
    },
    {
      "cell_type": "markdown",
      "metadata": {
        "id": "P6L2EVWwIazG"
      },
      "source": [
        "If one wants to re-use the just created tokenizer with the fine-tuned model of this notebook, it is strongly advised to upload the `tokenizer` to the [🤗 Hub](https://huggingface.co/). Let's call the repo to which we will upload the files\n",
        "`\"wav2vec2-base-timit-demo-colab\"`:"
      ]
    },
    {
      "cell_type": "code",
      "metadata": {
        "id": "1mbffBdxIl0M"
      },
      "source": [
        "# repo_name = \"wav2vec2-base-timit-demo-google-colab\""
      ],
      "execution_count": 29,
      "outputs": []
    },
    {
      "cell_type": "markdown",
      "metadata": {
        "id": "pmpG2ftFIu3B"
      },
      "source": [
        "and upload the tokenizer to the [🤗 Hub](https://huggingface.co/)."
      ]
    },
    {
      "cell_type": "code",
      "metadata": {
        "id": "ScBMUz8jIxJi"
      },
      "source": [
        "# tokenizer.push_to_hub(repo_name)"
      ],
      "execution_count": 30,
      "outputs": []
    },
    {
      "cell_type": "markdown",
      "metadata": {
        "id": "KvL12DrNV4cx"
      },
      "source": [
        "Great, you can see the just created repository under `https://huggingface.co/<your-username>/wav2vec2-base-timit-demo-colab`"
      ]
    },
    {
      "cell_type": "markdown",
      "metadata": {
        "id": "mYcIiR2FQ96i"
      },
      "source": [
        "### Create Wav2Vec2 Feature Extractor"
      ]
    },
    {
      "cell_type": "markdown",
      "metadata": {
        "id": "KuUbPW7oV-B5"
      },
      "source": [
        "A Wav2Vec2 feature extractor object requires the following parameters to be instantiated:\n",
        "\n",
        "- `feature_size`: Speech models take a sequence of feature vectors as an input. While the length of this sequence obviously varies, the feature size should not. In the case of Wav2Vec2, the feature size is 1 because the model was trained on the raw speech signal ${}^2$.\n",
        "- `sampling_rate`: The sampling rate at which the model is trained on.\n",
        "- `padding_value`: For batched inference, shorter inputs need to be padded with a specific value\n",
        "- `do_normalize`: Whether the input should be *zero-mean-unit-variance* normalized or not. Usually, speech models perform better when normalizing the input\n",
        "- `return_attention_mask`: Whether the model should make use of an `attention_mask` for batched inference. In general, models should **always** make use of the `attention_mask` to mask padded tokens. However, due to a very specific design choice of `Wav2Vec2`'s \"base\" checkpoint, better results are achieved when using no `attention_mask`. This is **not** recommended for other speech models. For more information, one can take a look at [this](https://github.com/pytorch/fairseq/issues/3227) issue. **Important** If you want to use this notebook to fine-tune [large-lv60](https://huggingface.co/facebook/wav2vec2-large-lv60), this parameter should be set to `True`."
      ]
    },
    {
      "cell_type": "code",
      "metadata": {
        "id": "kAR0-2KLkopp"
      },
      "source": [
        "from transformers import Wav2Vec2FeatureExtractor\n",
        "\n",
        "feature_extractor = Wav2Vec2FeatureExtractor(feature_size=1, sampling_rate=16000, padding_value=0.0, do_normalize=True, return_attention_mask=False)"
      ],
      "execution_count": 31,
      "outputs": []
    },
    {
      "cell_type": "markdown",
      "metadata": {
        "id": "qUETetgqYC3W"
      },
      "source": [
        "Great, Wav2Vec2's feature extraction pipeline is thereby fully defined!\n",
        "\n",
        "To make the usage of Wav2Vec2 as user-friendly as possible, the feature extractor and tokenizer are *wrapped* into a single `Wav2Vec2Processor` class so that one only needs a `model` and `processor` object."
      ]
    },
    {
      "cell_type": "code",
      "metadata": {
        "id": "KYZtoW-tlZgl"
      },
      "source": [
        "from transformers import Wav2Vec2Processor\n",
        "\n",
        "processor = Wav2Vec2Processor(feature_extractor=feature_extractor, tokenizer=tokenizer)"
      ],
      "execution_count": 32,
      "outputs": []
    },
    {
      "cell_type": "markdown",
      "metadata": {
        "id": "DrKnYuvDIoOO"
      },
      "source": [
        "Next, we can prepare the dataset."
      ]
    },
    {
      "cell_type": "markdown",
      "metadata": {
        "id": "YFmShnl7RE35"
      },
      "source": [
        "### Preprocess Data\n",
        "\n",
        "So far, we have not looked at the actual values of the speech signal but just the transcription. In addition to `'text'`, our datasets include two more column names `'file'` and `'audio'`. `'file'` states the absolute path of the audio file. Let's take a look."
      ]
    },
    {
      "cell_type": "code",
      "metadata": {
        "colab": {
          "base_uri": "https://localhost:8080/",
          "height": 35
        },
        "id": "TTCS7W6XJ9BG",
        "outputId": "09252158-cbe0-460f-822a-57d8441c3bda"
      },
      "source": [
        "timit[\"train\"][0][\"path\"]"
      ],
      "execution_count": 33,
      "outputs": [
        {
          "output_type": "execute_result",
          "data": {
            "text/plain": [
              "'vivos/train/waves/VIVOSSPK27/VIVOSSPK27_066.wav'"
            ],
            "application/vnd.google.colaboratory.intrinsic+json": {
              "type": "string"
            }
          },
          "metadata": {},
          "execution_count": 33
        }
      ]
    },
    {
      "cell_type": "markdown",
      "metadata": {
        "id": "BwxprOw4Nzrl"
      },
      "source": [
        "`Wav2Vec2` expects the input in the format of a 1-dimensional array of 16 kHz. This means that the audio file has to be loaded and resampled.\n",
        "\n",
        " Thankfully, `datasets` does this automatically when calling the column `audio`. Let try it out. "
      ]
    },
    {
      "cell_type": "code",
      "metadata": {
        "colab": {
          "base_uri": "https://localhost:8080/"
        },
        "id": "mk9QHuSsN7lf",
        "outputId": "8dd1a1f1-6080-467e-b39c-2741081573dc"
      },
      "source": [
        "timit[\"train\"][0][\"audio\"]"
      ],
      "execution_count": 34,
      "outputs": [
        {
          "output_type": "execute_result",
          "data": {
            "text/plain": [
              "{'path': 'vivos/train/waves/VIVOSSPK27/VIVOSSPK27_066.wav',\n",
              " 'array': array([0.        , 0.        , 0.        , ..., 0.01083374, 0.0128479 ,\n",
              "        0.01464844]),\n",
              " 'sampling_rate': 16000}"
            ]
          },
          "metadata": {},
          "execution_count": 34
        }
      ]
    },
    {
      "cell_type": "markdown",
      "metadata": {
        "id": "wSBIGEiaKHMn"
      },
      "source": [
        "We can see that the audio file has automatically been loaded. This is thanks to the new [`\"Audio\"` feature](https://huggingface.co/docs/datasets/package_reference/main_classes.html?highlight=audio#datasets.Audio) introduced in `datasets == 4.13.3`, which loads and resamples audio files on-the-fly upon calling.\n",
        "\n",
        "The sampling rate is set to 16kHz which is what `Wav2Vec2` expects as an input."
      ]
    },
    {
      "cell_type": "markdown",
      "metadata": {
        "id": "SOckzFd4Mbzq"
      },
      "source": [
        "Great, let's listen to a couple of audio files to better understand the dataset and verify that the audio was correctly loaded. \n",
        "\n",
        "**Note**: *You can click the following cell a couple of times to listen to different speech samples.*"
      ]
    },
    {
      "cell_type": "code",
      "source": [],
      "metadata": {
        "id": "aUQnG1Fn9Yao"
      },
      "execution_count": 34,
      "outputs": []
    },
    {
      "cell_type": "code",
      "metadata": {
        "colab": {
          "base_uri": "https://localhost:8080/",
          "height": 93
        },
        "id": "dueM6U7Ev0OA",
        "outputId": "7960036a-0e73-409b-b8b7-28790bbba5b9"
      },
      "source": [
        "import IPython.display as ipd\n",
        "import numpy as np\n",
        "import random\n",
        "\n",
        "rand_int = random.randint(0, len(timit[\"train\"]))\n",
        "\n",
        "print(timit[\"train\"][rand_int][\"sentence\"])\n",
        "ipd.Audio(data=np.asarray(timit[\"train\"][rand_int][\"audio\"][\"array\"]), autoplay=True, rate=16000)"
      ],
      "execution_count": 35,
      "outputs": [
        {
          "output_type": "stream",
          "name": "stdout",
          "text": [
            "đụng phải bà bán ve chai \n"
          ]
        },
        {
          "output_type": "execute_result",
          "data": {
            "text/plain": [
              "<IPython.lib.display.Audio object>"
            ],
            "text/html": [
              "\n",
              "                <audio  controls=\"controls\" autoplay=\"autoplay\">\n",
              "                    <source src=\"data:audio/wav;base64,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\" type=\"audio/wav\" />\n",
              "                    Your browser does not support the audio element.\n",
              "                </audio>\n",
              "              "
            ]
          },
          "metadata": {},
          "execution_count": 35
        }
      ]
    },
    {
      "cell_type": "markdown",
      "metadata": {
        "id": "1MaL9J2dNVtG"
      },
      "source": [
        "It can be heard, that the speakers change along with their speaking rate, accent, etc. Overall, the recordings sound relatively clear though, which is to be expected from a read speech corpus.\n",
        "\n",
        "Let's do a final check that the data is correctly prepared, by printing the shape of the speech input, its transcription, and the corresponding sampling rate.\n",
        "\n",
        "**Note**: *You can click the following cell a couple of times to verify multiple samples.*"
      ]
    },
    {
      "cell_type": "code",
      "metadata": {
        "colab": {
          "base_uri": "https://localhost:8080/"
        },
        "id": "1Po2g7YPuRTx",
        "outputId": "bdcc8063-0ff4-4224-ad34-964acad02eae"
      },
      "source": [
        "rand_int = random.randint(0, len(timit[\"train\"]))\n",
        "\n",
        "print(\"Target text:\", timit[\"train\"][rand_int][\"sentence\"])\n",
        "print(\"Input array shape:\", np.asarray(timit[\"train\"][rand_int][\"audio\"][\"array\"]).shape)\n",
        "print(\"Sampling rate:\", timit[\"train\"][rand_int][\"audio\"][\"sampling_rate\"])"
      ],
      "execution_count": 36,
      "outputs": [
        {
          "output_type": "stream",
          "name": "stdout",
          "text": [
            "Target text: về tinh thần tôi có cảm giác ngày xưa mọi người đùm bọc nhau nhiều hơn nghĩ đến cái chung nhiều hơn \n",
            "Input array shape: (105000,)\n",
            "Sampling rate: 16000\n"
          ]
        }
      ]
    },
    {
      "cell_type": "markdown",
      "metadata": {
        "id": "M9teZcSwOBJ4"
      },
      "source": [
        "Good! Everything looks fine - the data is a 1-dimensional array, the sampling rate always corresponds to 16kHz, and the target text is normalized."
      ]
    },
    {
      "cell_type": "markdown",
      "metadata": {
        "id": "k3Pbn5WvOYZF"
      },
      "source": [
        "Finally, we can process the dataset to the format expected by the model for training. We will make use of the `map(...)` function.\n",
        "\n",
        "First, we load and resample the audio data, simply by calling `batch[\"audio\"]`.\n",
        "Second, we extract the `input_values` from the loaded audio file. In our case, the `Wav2Vec2Processor` only normalizes the data. For other speech models, however, this step can include more complex feature extraction, such as [Log-Mel feature extraction](https://en.wikipedia.org/wiki/Mel-frequency_cepstrum).\n",
        "Third, we encode the transcriptions to label ids.\n",
        "\n",
        "**Note**: This mapping function is a good example of how the `Wav2Vec2Processor` class should be used. In \"normal\" context, calling `processor(...)` is redirected to `Wav2Vec2FeatureExtractor`'s call method. When wrapping the processor into the `as_target_processor` context, however, the same method is redirected to `Wav2Vec2CTCTokenizer`'s call method.\n",
        "For more information please check the [docs](https://huggingface.co/transformers/master/model_doc/wav2vec2.html#transformers.Wav2Vec2Processor.__call__)."
      ]
    },
    {
      "cell_type": "code",
      "metadata": {
        "id": "eJY7I0XAwe9p"
      },
      "source": [
        "def prepare_dataset(batch):\n",
        "    audio = batch[\"audio\"]\n",
        "\n",
        "    # batched output is \"un-batched\" to ensure mapping is correct\n",
        "    batch[\"input_values\"] = processor(audio[\"array\"], sampling_rate=audio[\"sampling_rate\"]).input_values[0]\n",
        "    batch[\"input_length\"] = len(batch[\"input_values\"])\n",
        "    \n",
        "    with processor.as_target_processor():\n",
        "        batch[\"labels\"] = processor(batch[\"sentence\"]).input_ids\n",
        "    return batch"
      ],
      "execution_count": 37,
      "outputs": []
    },
    {
      "cell_type": "markdown",
      "metadata": {
        "id": "hVMZhH4-nP8-"
      },
      "source": [
        "Let's apply the data preparation function to all examples."
      ]
    },
    {
      "cell_type": "code",
      "metadata": {
        "id": "-np9xYK-wl8q",
        "colab": {
          "base_uri": "https://localhost:8080/",
          "height": 315,
          "referenced_widgets": [
            "1de2f2d0b31149e5a8b87c27b2c1b2e9",
            "d62c4d548494421a8693ebd73d67474d",
            "0e9fa45bf9754326a632bf82531dff75",
            "d9c666391eb446da9d18e935e70f467f",
            "f74a45d4522f46788d2a2d8f8c3ba9e6",
            "7bd904f688e04b3fa0b890db2e4cf180",
            "17cd739287dd48faaa8d4f89aec28f00",
            "8604834c7c4b4128913a78a575a60ded",
            "423df823cb4841a592dd3920860a11ab",
            "8197e73be39042a0a2e9641c24888bb1",
            "2f94d00d7522449c965a1c604de117f0",
            "46da03ac118f4daba8dd6581412bf574",
            "10dd429c845f41028d4274059b0b4ec6",
            "b6b54c8324094ecc915bbc68cce1890d",
            "8ec04e24a1064c95969f96a29f2d5fb2",
            "01b39336f099412cb02dc4b439adf173",
            "c4d8f0cf85e84556b4702bafd71c881c",
            "16a56948aecd443bb0160639df0b3c30",
            "cc0bf95dcb7744cc82805583670917ba",
            "c48a9510e2484242ba1cb176b2dcc1a7",
            "2c2a85d8c2374082a5e1549a66f74c5b",
            "15580f60b9cb40b78b1d37cb7d7afd2c"
          ]
        },
        "outputId": "092a71ee-6f49-493a-96cf-a52c948a1c80"
      },
      "source": [
        "timit = timit.map(prepare_dataset, remove_columns=timit.column_names[\"train\"], num_proc=4)"
      ],
      "execution_count": 38,
      "outputs": [
        {
          "output_type": "display_data",
          "data": {
            "text/plain": [
              "Map (num_proc=4):   0%|          | 0/11660 [00:00<?, ? examples/s]"
            ],
            "application/vnd.jupyter.widget-view+json": {
              "version_major": 2,
              "version_minor": 0,
              "model_id": "1de2f2d0b31149e5a8b87c27b2c1b2e9"
            }
          },
          "metadata": {}
        },
        {
          "output_type": "stream",
          "name": "stderr",
          "text": [
            "/usr/local/lib/python3.8/dist-packages/transformers/models/wav2vec2/processing_wav2vec2.py:154: UserWarning: `as_target_processor` is deprecated and will be removed in v5 of Transformers. You can process your labels by using the argument `text` of the regular `__call__` method (either in the same call as your audio inputs, or in a separate call.\n",
            "  warnings.warn(\n",
            "/usr/local/lib/python3.8/dist-packages/transformers/models/wav2vec2/processing_wav2vec2.py:154: UserWarning: `as_target_processor` is deprecated and will be removed in v5 of Transformers. You can process your labels by using the argument `text` of the regular `__call__` method (either in the same call as your audio inputs, or in a separate call.\n",
            "  warnings.warn(\n",
            "/usr/local/lib/python3.8/dist-packages/transformers/models/wav2vec2/processing_wav2vec2.py:154: UserWarning: `as_target_processor` is deprecated and will be removed in v5 of Transformers. You can process your labels by using the argument `text` of the regular `__call__` method (either in the same call as your audio inputs, or in a separate call.\n",
            "  warnings.warn(\n",
            "/usr/local/lib/python3.8/dist-packages/transformers/models/wav2vec2/processing_wav2vec2.py:154: UserWarning: `as_target_processor` is deprecated and will be removed in v5 of Transformers. You can process your labels by using the argument `text` of the regular `__call__` method (either in the same call as your audio inputs, or in a separate call.\n",
            "  warnings.warn(\n"
          ]
        },
        {
          "output_type": "display_data",
          "data": {
            "text/plain": [
              "Map (num_proc=4):   0%|          | 0/760 [00:00<?, ? examples/s]"
            ],
            "application/vnd.jupyter.widget-view+json": {
              "version_major": 2,
              "version_minor": 0,
              "model_id": "46da03ac118f4daba8dd6581412bf574"
            }
          },
          "metadata": {}
        },
        {
          "output_type": "stream",
          "name": "stderr",
          "text": [
            "/usr/local/lib/python3.8/dist-packages/transformers/models/wav2vec2/processing_wav2vec2.py:154: UserWarning: `as_target_processor` is deprecated and will be removed in v5 of Transformers. You can process your labels by using the argument `text` of the regular `__call__` method (either in the same call as your audio inputs, or in a separate call.\n",
            "  warnings.warn(\n",
            "/usr/local/lib/python3.8/dist-packages/transformers/models/wav2vec2/processing_wav2vec2.py:154: UserWarning: `as_target_processor` is deprecated and will be removed in v5 of Transformers. You can process your labels by using the argument `text` of the regular `__call__` method (either in the same call as your audio inputs, or in a separate call.\n",
            "  warnings.warn(\n",
            "/usr/local/lib/python3.8/dist-packages/transformers/models/wav2vec2/processing_wav2vec2.py:154: UserWarning: `as_target_processor` is deprecated and will be removed in v5 of Transformers. You can process your labels by using the argument `text` of the regular `__call__` method (either in the same call as your audio inputs, or in a separate call.\n",
            "  warnings.warn(\n",
            "/usr/local/lib/python3.8/dist-packages/transformers/models/wav2vec2/processing_wav2vec2.py:154: UserWarning: `as_target_processor` is deprecated and will be removed in v5 of Transformers. You can process your labels by using the argument `text` of the regular `__call__` method (either in the same call as your audio inputs, or in a separate call.\n",
            "  warnings.warn(\n"
          ]
        }
      ]
    },
    {
      "cell_type": "markdown",
      "metadata": {
        "id": "p_MuJSH8nTuQ"
      },
      "source": [
        "**Note**: Currently `datasets` make use of [`torchaudio`](https://pytorch.org/audio/stable/index.html) and [`librosa`](https://librosa.org/doc/latest/index.html) for audio loading and resampling. If you wish to implement your own costumized data loading/sampling, feel free to just make use of the `\"path\"` column instead and disregard the `\"audio\"` column."
      ]
    },
    {
      "cell_type": "markdown",
      "metadata": {
        "id": "M4J0bU1WsvAg"
      },
      "source": [
        "Long input sequences require a lot of memory. Since `Wav2Vec2` is based on `self-attention` the memory requirement scales quadratically with the input length for long input sequences (*cf.* with [this](https://www.reddit.com/r/MachineLearning/comments/genjvb/d_why_is_the_maximum_input_sequence_length_of/) reddit post). For this demo, let's filter all sequences that are longer than 4 seconds out of the training dataset."
      ]
    },
    {
      "cell_type": "code",
      "metadata": {
        "colab": {
          "base_uri": "https://localhost:8080/",
          "height": 17,
          "referenced_widgets": [
            "ffce400208ae472eb89c4b3c82eae000",
            "5bac697560cb461d8a3a2c5cd5b31532",
            "2a8c45f42db8411fb78fd6dd2bad5394",
            "59b85b9f354c41039b10f547567ed49c",
            "c6af001c388344c3bc36ce195fb619b0",
            "4b9badf5d8c34f39ad02531476d1539a",
            "16137661128c4e14bcbb1cf316b0b180",
            "b674cfa240534656be30d493afb2526e",
            "79b1be5db5df4bbea711817a22b03c73",
            "1e8cada8d7b44e36ac462e0ab570db94",
            "3bee2d73f4c2467bab3b7cd75bdca229"
          ]
        },
        "id": "nqGobEPUvG3v",
        "outputId": "489e1d41-1c38-469d-bb6f-c6e881b8409e"
      },
      "source": [
        "max_input_length_in_sec = 4.0\n",
        "timit[\"train\"] = timit[\"train\"].filter(lambda x: x < max_input_length_in_sec * processor.feature_extractor.sampling_rate, input_columns=[\"input_length\"])"
      ],
      "execution_count": 39,
      "outputs": [
        {
          "output_type": "display_data",
          "data": {
            "text/plain": [
              "Filter:   0%|          | 0/11660 [00:00<?, ? examples/s]"
            ],
            "application/vnd.jupyter.widget-view+json": {
              "version_major": 2,
              "version_minor": 0,
              "model_id": "ffce400208ae472eb89c4b3c82eae000"
            }
          },
          "metadata": {}
        }
      ]
    },
    {
      "cell_type": "markdown",
      "metadata": {
        "id": "25Genil2v_Br"
      },
      "source": [
        "Awesome, now we are ready to start training!"
      ]
    },
    {
      "cell_type": "markdown",
      "metadata": {
        "id": "gYlQkKVoRUos"
      },
      "source": [
        "## Training & Evaluation\n",
        "\n",
        "The data is processed so that we are ready to start setting up the training pipeline. We will make use of 🤗's [Trainer](https://huggingface.co/transformers/master/main_classes/trainer.html?highlight=trainer) for which we essentially need to do the following:\n",
        "\n",
        "- Define a data collator. In contrast to most NLP models, Wav2Vec2 has a much larger input length than output length. *E.g.*, a sample of input length 50000 has an output length of no more than 100. Given the large input sizes, it is much more efficient to pad the training batches dynamically meaning that all training samples should only be padded to the longest sample in their batch and not the overall longest sample. Therefore, fine-tuning Wav2Vec2 requires a special padding data collator, which we will define below\n",
        "\n",
        "- Evaluation metric. During training, the model should be evaluated on the word error rate. We should define a `compute_metrics` function accordingly\n",
        "\n",
        "- Load a pretrained checkpoint. We need to load a pretrained checkpoint and configure it correctly for training.\n",
        "\n",
        "- Define the training configuration.\n",
        "\n",
        "After having fine-tuned the model, we will correctly evaluate it on the test data and verify that it has indeed learned to correctly transcribe speech."
      ]
    },
    {
      "cell_type": "markdown",
      "metadata": {
        "id": "Slk403unUS91"
      },
      "source": [
        "### Set-up Trainer\n",
        "\n",
        "Let's start by defining the data collator. The code for the data collator was copied from [this example](https://github.com/huggingface/transformers/blob/9a06b6b11bdfc42eea08fa91d0c737d1863c99e3/examples/research_projects/wav2vec2/run_asr.py#L81).\n",
        "\n",
        "Without going into too many details, in contrast to the common data collators, this data collator treats the `input_values` and `labels` differently and thus applies to separate padding functions on them (again making use of Wav2Vec2's context manager). This is necessary because in speech input and output are of different modalities meaning that they should not be treated by the same padding function.\n",
        "Analogous to the common data collators, the padding tokens in the labels with `-100` so that those tokens are **not** taken into account when computing the loss."
      ]
    },
    {
      "cell_type": "code",
      "metadata": {
        "id": "tborvC9hx88e"
      },
      "source": [
        "import torch\n",
        "\n",
        "from dataclasses import dataclass, field\n",
        "from typing import Any, Dict, List, Optional, Union\n",
        "\n",
        "@dataclass\n",
        "class DataCollatorCTCWithPadding:\n",
        "    \"\"\"\n",
        "    Data collator that will dynamically pad the inputs received.\n",
        "    Args:\n",
        "        processor (:class:`~transformers.Wav2Vec2Processor`)\n",
        "            The processor used for proccessing the data.\n",
        "        padding (:obj:`bool`, :obj:`str` or :class:`~transformers.tokenization_utils_base.PaddingStrategy`, `optional`, defaults to :obj:`True`):\n",
        "            Select a strategy to pad the returned sequences (according to the model's padding side and padding index)\n",
        "            among:\n",
        "            * :obj:`True` or :obj:`'longest'`: Pad to the longest sequence in the batch (or no padding if only a single\n",
        "              sequence if provided).\n",
        "            * :obj:`'max_length'`: Pad to a maximum length specified with the argument :obj:`max_length` or to the\n",
        "              maximum acceptable input length for the model if that argument is not provided.\n",
        "            * :obj:`False` or :obj:`'do_not_pad'` (default): No padding (i.e., can output a batch with sequences of\n",
        "              different lengths).\n",
        "    \"\"\"\n",
        "\n",
        "    processor: Wav2Vec2Processor\n",
        "    padding: Union[bool, str] = True\n",
        "\n",
        "    def __call__(self, features: List[Dict[str, Union[List[int], torch.Tensor]]]) -> Dict[str, torch.Tensor]:\n",
        "        # split inputs and labels since they have to be of different lenghts and need\n",
        "        # different padding methods\n",
        "        input_features = [{\"input_values\": feature[\"input_values\"]} for feature in features]\n",
        "        label_features = [{\"input_ids\": feature[\"labels\"]} for feature in features]\n",
        "\n",
        "        batch = self.processor.pad(\n",
        "            input_features,\n",
        "            padding=self.padding,\n",
        "            return_tensors=\"pt\",\n",
        "        )\n",
        "        with self.processor.as_target_processor():\n",
        "            labels_batch = self.processor.pad(\n",
        "                label_features,\n",
        "                padding=self.padding,\n",
        "                return_tensors=\"pt\",\n",
        "            )\n",
        "\n",
        "        # replace padding with -100 to ignore loss correctly\n",
        "        labels = labels_batch[\"input_ids\"].masked_fill(labels_batch.attention_mask.ne(1), -100)\n",
        "\n",
        "        batch[\"labels\"] = labels\n",
        "\n",
        "        return batch"
      ],
      "execution_count": 40,
      "outputs": []
    },
    {
      "cell_type": "code",
      "metadata": {
        "id": "lbQf5GuZyQ4_"
      },
      "source": [
        "data_collator = DataCollatorCTCWithPadding(processor=processor, padding=True)"
      ],
      "execution_count": 41,
      "outputs": []
    },
    {
      "cell_type": "markdown",
      "metadata": {
        "id": "xO-Zdj-5cxXp"
      },
      "source": [
        "Next, the evaluation metric is defined. As mentioned earlier, the \n",
        "predominant metric in ASR is the word error rate (WER), hence we will use it in this notebook as well."
      ]
    },
    {
      "cell_type": "code",
      "metadata": {
        "id": "9Xsux2gmyXso",
        "colab": {
          "base_uri": "https://localhost:8080/",
          "height": 104,
          "referenced_widgets": [
            "abf188e908834dcdb2b0dc85bf0cc12d",
            "714f0c5f0f014ce5813ce20b9a16ee1b",
            "f6bf153d7c874976a27ed5aaa7c8ad8a",
            "17aec255cfe14afdbdea010ef813e14f",
            "ef67996ef8ca450389000a60a5fe71c1",
            "b1e8fd2fd3e04ca8bcf5f34153ef7fc7",
            "41b131dc4cf145259017e35b6ee5ed29",
            "5d85c120f0794b179e98f79694c4d17f",
            "8f88ded423744a73a6999939a1d970b1",
            "cf9f68c3103340b79b9248fac9f12b11",
            "871efc06991d4cbb848d191dd58fe483"
          ]
        },
        "outputId": "76ec6313-a3a1-49a7-9456-e2e787c378bf"
      },
      "source": [
        "wer_metric = load_metric(\"wer\")"
      ],
      "execution_count": 42,
      "outputs": [
        {
          "output_type": "stream",
          "name": "stderr",
          "text": [
            "<ipython-input-42-605de035dfd7>:1: FutureWarning: load_metric is deprecated and will be removed in the next major version of datasets. Use 'evaluate.load' instead, from the new library 🤗 Evaluate: https://huggingface.co/docs/evaluate\n",
            "  wer_metric = load_metric(\"wer\")\n"
          ]
        },
        {
          "output_type": "display_data",
          "data": {
            "text/plain": [
              "Downloading builder script:   0%|          | 0.00/1.90k [00:00<?, ?B/s]"
            ],
            "application/vnd.jupyter.widget-view+json": {
              "version_major": 2,
              "version_minor": 0,
              "model_id": "abf188e908834dcdb2b0dc85bf0cc12d"
            }
          },
          "metadata": {}
        }
      ]
    },
    {
      "cell_type": "markdown",
      "metadata": {
        "id": "E1qZU5p-deqB"
      },
      "source": [
        "The model will return a sequence of logit vectors:\n",
        "$\\mathbf{y}_1, \\ldots, \\mathbf{y}_m$ with $\\mathbf{y}_1 = f_{\\theta}(x_1, \\ldots, x_n)[0]$ and $n >> m$.\n",
        "\n",
        "A logit vector $\\mathbf{y}_1$ contains the log-odds for each word in the vocabulary we defined earlier, thus $\\text{len}(\\mathbf{y}_i) =$ `config.vocab_size`. We are interested in the most likely prediction of the model and thus take the `argmax(...)` of the logits. Also, we transform the encoded labels back to the original string by replacing `-100` with the `pad_token_id` and decoding the ids while making sure that consecutive tokens are **not** grouped to the same token in CTC style ${}^1$."
      ]
    },
    {
      "cell_type": "code",
      "metadata": {
        "id": "1XZ-kjweyTy_"
      },
      "source": [
        "def compute_metrics(pred):\n",
        "    pred_logits = pred.predictions\n",
        "    pred_ids = np.argmax(pred_logits, axis=-1)\n",
        "\n",
        "    pred.label_ids[pred.label_ids == -100] = processor.tokenizer.pad_token_id\n",
        "\n",
        "    pred_str = processor.batch_decode(pred_ids)\n",
        "    # we do not want to group tokens when computing the metrics\n",
        "    label_str = processor.batch_decode(pred.label_ids, group_tokens=False)\n",
        "\n",
        "    wer = wer_metric.compute(predictions=pred_str, references=label_str)\n",
        "\n",
        "    return {\"wer\": wer}"
      ],
      "execution_count": 43,
      "outputs": []
    },
    {
      "cell_type": "markdown",
      "metadata": {
        "id": "Xmgrx4bRwLIH"
      },
      "source": [
        "Now, we can load the pretrained `Wav2Vec2` checkpoint. The tokenizer's `pad_token_id` must be to define the model's `pad_token_id` or in the case of `Wav2Vec2ForCTC` also CTC's *blank token* ${}^2$. To save GPU memory, we enable PyTorch's [gradient checkpointing](https://pytorch.org/docs/stable/checkpoint.html) and also set the loss reduction to \"*mean*\"."
      ]
    },
    {
      "cell_type": "code",
      "metadata": {
        "colab": {
          "base_uri": "https://localhost:8080/",
          "height": 223,
          "referenced_widgets": [
            "75e28f583ef8402385cf201d390c44f4",
            "de7ed9a8acc642718ac19c9ad2252204",
            "eb785c26d89c4ff3bf9a258990c47442",
            "f8a8e0062bc54d27a6f92b4b92ea1729",
            "c0875d18686a475d82c3fec2f505eb19",
            "78ade98ab19c40048cf90e14815da82e",
            "0fb8aa19f84c4e44878548ae75e85665",
            "a8227cc7d47d4cae8d7a0ba320a66c80",
            "61da299e092c447e9ed6e53f75a206aa",
            "047d6a4e77a849c18994b90cea3d54eb",
            "5a149902758e4f27ba92e72786a5be03",
            "cd503a51586d41e7b85e0d1dc0b43bee",
            "0c45d5fa96ba4b6f894101569bea0bf7",
            "1def4a704e2048e1a49bca427e212d8f",
            "3e6b7a0b656e43c6b2057a7ad7167a38",
            "49f002eb72d3440fa8483a511d4b658b",
            "0e0385252ec94f85ae4e68ee2ff42bb5",
            "52ebf02da4f94e72a25319d5289ae015",
            "eb6dfac09d58478eba8db4abe5fc4baf",
            "ad7d783770c84a54a8661e99c0e8a624",
            "941eb0966b74457cbf992430c10fa492",
            "a083edd9d407493ea46ae950830b0704"
          ]
        },
        "id": "e7cqAWIayn6w",
        "outputId": "8fdac051-ed6a-447b-a096-5735a32ed693"
      },
      "source": [
        "from transformers import Wav2Vec2ForCTC\n",
        "\n",
        "model = Wav2Vec2ForCTC.from_pretrained(\n",
        "    \"facebook/wav2vec2-base\",\n",
        "    ctc_loss_reduction=\"mean\", \n",
        "    pad_token_id=processor.tokenizer.pad_token_id,\n",
        "    vocab_size=len(processor.tokenizer)\n",
        ")"
      ],
      "execution_count": 44,
      "outputs": [
        {
          "output_type": "display_data",
          "data": {
            "text/plain": [
              "Downloading (…)lve/main/config.json:   0%|          | 0.00/1.84k [00:00<?, ?B/s]"
            ],
            "application/vnd.jupyter.widget-view+json": {
              "version_major": 2,
              "version_minor": 0,
              "model_id": "75e28f583ef8402385cf201d390c44f4"
            }
          },
          "metadata": {}
        },
        {
          "output_type": "stream",
          "name": "stderr",
          "text": [
            "/usr/local/lib/python3.8/dist-packages/transformers/configuration_utils.py:364: UserWarning: Passing `gradient_checkpointing` to a config initialization is deprecated and will be removed in v5 Transformers. Using `model.gradient_checkpointing_enable()` instead, or if you are using the `Trainer` API, pass `gradient_checkpointing=True` in your `TrainingArguments`.\n",
            "  warnings.warn(\n"
          ]
        },
        {
          "output_type": "display_data",
          "data": {
            "text/plain": [
              "Downloading (…)\"pytorch_model.bin\";:   0%|          | 0.00/380M [00:00<?, ?B/s]"
            ],
            "application/vnd.jupyter.widget-view+json": {
              "version_major": 2,
              "version_minor": 0,
              "model_id": "cd503a51586d41e7b85e0d1dc0b43bee"
            }
          },
          "metadata": {}
        },
        {
          "output_type": "stream",
          "name": "stderr",
          "text": [
            "Some weights of the model checkpoint at facebook/wav2vec2-base were not used when initializing Wav2Vec2ForCTC: ['project_q.weight', 'project_hid.bias', 'quantizer.codevectors', 'quantizer.weight_proj.bias', 'project_hid.weight', 'project_q.bias', 'quantizer.weight_proj.weight']\n",
            "- This IS expected if you are initializing Wav2Vec2ForCTC from the checkpoint of a model trained on another task or with another architecture (e.g. initializing a BertForSequenceClassification model from a BertForPreTraining model).\n",
            "- This IS NOT expected if you are initializing Wav2Vec2ForCTC from the checkpoint of a model that you expect to be exactly identical (initializing a BertForSequenceClassification model from a BertForSequenceClassification model).\n",
            "Some weights of Wav2Vec2ForCTC were not initialized from the model checkpoint at facebook/wav2vec2-base and are newly initialized: ['lm_head.bias', 'lm_head.weight']\n",
            "You should probably TRAIN this model on a down-stream task to be able to use it for predictions and inference.\n"
          ]
        }
      ]
    },
    {
      "cell_type": "markdown",
      "metadata": {
        "id": "1DwR3XLSzGDD"
      },
      "source": [
        "The first component of Wav2Vec2 consists of a stack of CNN layers that are used to extract acoustically meaningful - but contextually independent - features from the raw speech signal. This part of the model has already been sufficiently trained during pretrainind and as stated in the [paper](https://arxiv.org/abs/2006.11477) does not need to be fine-tuned anymore. \n",
        "Thus, we can set the `requires_grad` to `False` for all parameters of the *feature extraction* part."
      ]
    },
    {
      "cell_type": "code",
      "source": [
        "model.freeze_feature_encoder()"
      ],
      "metadata": {
        "id": "Et_NUAZjWppc"
      },
      "execution_count": 45,
      "outputs": []
    },
    {
      "cell_type": "markdown",
      "metadata": {
        "id": "lD4aGhQM0K-D"
      },
      "source": [
        "In a final step, we define all parameters related to training. \n",
        "To give more explanation on some of the parameters:\n",
        "- `group_by_length` makes training more efficient by grouping training samples of similar input length into one batch. This can significantly speed up training time by heavily reducing the overall number of useless padding tokens that are passed through the model\n",
        "- `learning_rate` and `weight_decay` were heuristically tuned until fine-tuning has become stable. Note that those parameters strongly depend on the Timit dataset and might be suboptimal for other speech datasets.\n",
        "\n",
        "For more explanations on other parameters, one can take a look at the [docs](https://huggingface.co/transformers/master/main_classes/trainer.html?highlight=trainer#trainingarguments).\n",
        "\n",
        "During training, a checkpoint will be uploaded asynchronously to the hub every 400 training steps. It allows you to also play around with the demo widget even while your model is still training.\n",
        "\n",
        "**Note**: If one does not want to upload the model checkpoints to the hub, simply set `push_to_hub=False`."
      ]
    },
    {
      "cell_type": "code",
      "metadata": {
        "id": "KbeKSV7uzGPP",
        "colab": {
          "base_uri": "https://localhost:8080/"
        },
        "outputId": "502424d7-f176-4e34-cfc7-ab6c47d7aa58"
      },
      "source": [
        "from transformers import TrainingArguments\n",
        "\n",
        "training_args = TrainingArguments(\n",
        "  output_dir='./result',\n",
        "  group_by_length=True,\n",
        "  per_device_train_batch_size=8,\n",
        "  evaluation_strategy=\"steps\",\n",
        "  num_train_epochs=10,\n",
        "  fp16=False,\n",
        "  gradient_checkpointing=True,\n",
        "  save_steps=500,\n",
        "  eval_steps=500,\n",
        "  logging_steps=500,\n",
        "  learning_rate=1e-4,\n",
        "  weight_decay=0.005,\n",
        "  warmup_steps=1000,\n",
        "  save_total_limit=2,\n",
        " \n",
        ")"
      ],
      "execution_count": 46,
      "outputs": [
        {
          "output_type": "stream",
          "name": "stderr",
          "text": [
            "/usr/local/lib/python3.8/dist-packages/torch/cuda/__init__.py:497: UserWarning: Can't initialize NVML\n",
            "  warnings.warn(\"Can't initialize NVML\")\n"
          ]
        }
      ]
    },
    {
      "cell_type": "markdown",
      "metadata": {
        "id": "OsW-WZcL1ZtN"
      },
      "source": [
        "Now, all instances can be passed to Trainer and we are ready to start training!"
      ]
    },
    {
      "cell_type": "code",
      "metadata": {
        "id": "rY7vBmFCPFgC"
      },
      "source": [
        "from transformers import Trainer\n",
        "\n",
        "trainer = Trainer(\n",
        "    model=model,\n",
        "    data_collator=data_collator,\n",
        "    args=training_args,\n",
        "    compute_metrics=compute_metrics,\n",
        "    train_dataset=timit[\"train\"],\n",
        "    eval_dataset=timit[\"test\"],\n",
        "    tokenizer=processor.feature_extractor,\n",
        ")"
      ],
      "execution_count": 47,
      "outputs": []
    },
    {
      "cell_type": "markdown",
      "metadata": {
        "id": "UoXBx1JAA0DX"
      },
      "source": [
        "\n",
        "\n",
        "---\n",
        "\n",
        "${}^1$ To allow models to become independent of the speaker rate, in CTC, consecutive tokens that are identical are simply grouped as a single token. However, the encoded labels should not be grouped when decoding since they don't correspond to the predicted tokens of the model, which is why the `group_tokens=False` parameter has to be passed. If we wouldn't pass this parameter a word like `\"hello\"` would incorrectly be encoded, and decoded as `\"helo\"`.\n",
        "\n",
        "${}^2$ The blank token allows the model to predict a word, such as `\"hello\"` by forcing it to insert the blank token between the two l's. A CTC-conform prediction of `\"hello\"` of our model would be `[PAD] [PAD] \"h\" \"e\" \"e\" \"l\" \"l\" [PAD] \"l\" \"o\" \"o\" [PAD]`."
      ]
    },
    {
      "cell_type": "markdown",
      "metadata": {
        "id": "rpvZHM1xReIW"
      },
      "source": [
        "### Training"
      ]
    },
    {
      "cell_type": "markdown",
      "metadata": {
        "id": "j-3oKSzZ1hGq"
      },
      "source": [
        "Training will take between 90 and 270 minutes depending on the GPU allocated to this notebook. While the trained model yields satisfying results on *Timit*'s test data, it is by no means an optimally fine-tuned model. The purpose of this notebook is to demonstrate how Wav2Vec2's [base](https://huggingface.co/facebook/wav2vec2-base), [large](https://huggingface.co/facebook/wav2vec2-large), and [large-lv60](https://huggingface.co/facebook/wav2vec2-large-lv60) checkpoints can be fine-tuned on any Vietnamese dataset.\n"
      ]
    },
    {
      "cell_type": "markdown",
      "metadata": {
        "id": "PmY6yqd1zvzU"
      },
      "source": [
        "Depending on what GPU was allocated to your google colab it might be possible that you are seeing an `\"out-of-memory\"` error here. In this case, it's probably best to reduce `per_device_train_batch_size` to 16 or even less and eventually make use of [`gradient_accumulation`](https://huggingface.co/transformers/master/main_classes/trainer.html#trainingarguments)."
      ]
    },
    {
      "cell_type": "code",
      "metadata": {
        "colab": {
          "base_uri": "https://localhost:8080/",
          "height": 630
        },
        "id": "_UEjJqGsQw24",
        "outputId": "6cd4e9fa-5be6-4aad-f3a7-c4ca445e7b68"
      },
      "source": [
        "trainer.train()"
      ],
      "execution_count": 48,
      "outputs": [
        {
          "output_type": "stream",
          "name": "stderr",
          "text": [
            "The following columns in the training set don't have a corresponding argument in `Wav2Vec2ForCTC.forward` and have been ignored: input_length. If input_length are not expected by `Wav2Vec2ForCTC.forward`,  you can safely ignore this message.\n",
            "/usr/local/lib/python3.8/dist-packages/transformers/optimization.py:306: FutureWarning: This implementation of AdamW is deprecated and will be removed in a future version. Use the PyTorch implementation torch.optim.AdamW instead, or set `no_deprecation_warning=True` to disable this warning\n",
            "  warnings.warn(\n",
            "***** Running training *****\n",
            "  Num examples = 6095\n",
            "  Num Epochs = 1\n",
            "  Instantaneous batch size per device = 8\n",
            "  Total train batch size (w. parallel, distributed & accumulation) = 8\n",
            "  Gradient Accumulation steps = 1\n",
            "  Total optimization steps = 762\n",
            "/usr/local/lib/python3.8/dist-packages/transformers/models/wav2vec2/processing_wav2vec2.py:154: UserWarning: `as_target_processor` is deprecated and will be removed in v5 of Transformers. You can process your labels by using the argument `text` of the regular `__call__` method (either in the same call as your audio inputs, or in a separate call.\n",
            "  warnings.warn(\n"
          ]
        },
        {
          "output_type": "display_data",
          "data": {
            "text/plain": [
              "<IPython.core.display.HTML object>"
            ],
            "text/html": [
              "\n",
              "    <div>\n",
              "      \n",
              "      <progress value='762' max='762' style='width:300px; height:20px; vertical-align: middle;'></progress>\n",
              "      [762/762 2:31:07, Epoch 1/1]\n",
              "    </div>\n",
              "    <table border=\"1\" class=\"dataframe\">\n",
              "  <thead>\n",
              " <tr style=\"text-align: left;\">\n",
              "      <th>Step</th>\n",
              "      <th>Training Loss</th>\n",
              "      <th>Validation Loss</th>\n",
              "      <th>Wer</th>\n",
              "    </tr>\n",
              "  </thead>\n",
              "  <tbody>\n",
              "    <tr>\n",
              "      <td>500</td>\n",
              "      <td>5.419000</td>\n",
              "      <td>3.436833</td>\n",
              "      <td>0.997669</td>\n",
              "    </tr>\n",
              "  </tbody>\n",
              "</table><p>"
            ]
          },
          "metadata": {}
        },
        {
          "output_type": "stream",
          "name": "stderr",
          "text": [
            "The following columns in the evaluation set don't have a corresponding argument in `Wav2Vec2ForCTC.forward` and have been ignored: input_length. If input_length are not expected by `Wav2Vec2ForCTC.forward`,  you can safely ignore this message.\n",
            "***** Running Evaluation *****\n",
            "  Num examples = 760\n",
            "  Batch size = 8\n",
            "Saving model checkpoint to ./result/checkpoint-500\n",
            "Configuration saved in ./result/checkpoint-500/config.json\n",
            "Model weights saved in ./result/checkpoint-500/pytorch_model.bin\n",
            "Feature extractor saved in ./result/checkpoint-500/preprocessor_config.json\n",
            "/usr/local/lib/python3.8/dist-packages/transformers/models/wav2vec2/processing_wav2vec2.py:154: UserWarning: `as_target_processor` is deprecated and will be removed in v5 of Transformers. You can process your labels by using the argument `text` of the regular `__call__` method (either in the same call as your audio inputs, or in a separate call.\n",
            "  warnings.warn(\n",
            "\n",
            "\n",
            "Training completed. Do not forget to share your model on huggingface.co/models =)\n",
            "\n",
            "\n"
          ]
        },
        {
          "output_type": "execute_result",
          "data": {
            "text/plain": [
              "TrainOutput(global_step=762, training_loss=4.627371480145793, metrics={'train_runtime': 9082.9653, 'train_samples_per_second': 0.671, 'train_steps_per_second': 0.084, 'total_flos': 1.6688635357649088e+17, 'train_loss': 4.627371480145793, 'epoch': 1.0})"
            ]
          },
          "metadata": {},
          "execution_count": 48
        }
      ]
    },
    {
      "cell_type": "code",
      "source": [
        "trainer.save_model(\"wav2vec2-base-timit-demo\")"
      ],
      "metadata": {
        "id": "W-JDQFt8CT0K",
        "outputId": "8cb7f085-6726-4f91-8153-7a72e0086efa",
        "colab": {
          "base_uri": "https://localhost:8080/"
        }
      },
      "execution_count": 49,
      "outputs": [
        {
          "output_type": "stream",
          "name": "stderr",
          "text": [
            "Saving model checkpoint to wav2vec2-base-timit-demo\n",
            "Configuration saved in wav2vec2-base-timit-demo/config.json\n",
            "Model weights saved in wav2vec2-base-timit-demo/pytorch_model.bin\n",
            "Feature extractor saved in wav2vec2-base-timit-demo/preprocessor_config.json\n"
          ]
        }
      ]
    }
  ]
}